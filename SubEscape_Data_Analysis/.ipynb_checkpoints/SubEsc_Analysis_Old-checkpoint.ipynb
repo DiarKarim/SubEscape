{
 "cells": [
  {
   "cell_type": "code",
   "execution_count": 2,
   "id": "f9cb022e",
   "metadata": {},
   "outputs": [],
   "source": [
    "import numpy as np\n",
    "import numpy.linalg\n",
    "import matplotlib.pyplot as plt\n",
    "import pandas as pd\n",
    "import os\n",
    "import random\n",
    "from scipy.optimize import curve_fit\n",
    "from scipy.stats import norm\n",
    "from scipy.ndimage import interpolation\n",
    "from statsmodels.stats.anova import AnovaRM\n",
    "import time\n",
    "import sys\n",
    "import math\n",
    "import pylab as py\n",
    "from scipy.signal import savgol_filter\n",
    "from scipy.signal import find_peaks\n",
    "import scipy.stats as sci \n",
    "import seaborn as sns\n",
    "import statannot\n",
    "import json\n",
    "\n",
    "# sns.set_style(style='whitegrid')"
   ]
  },
  {
   "cell_type": "markdown",
   "id": "ca23a14c-0dae-4a45-8983-5e7ca657a7ca",
   "metadata": {},
   "source": [
    "### Functions"
   ]
  },
  {
   "cell_type": "code",
   "execution_count": 3,
   "id": "75b2014f",
   "metadata": {},
   "outputs": [],
   "source": [
    "def GetAng(a,b,c):\n",
    "    ang = math.degrees(math.atan2(c[1] - b[1], c[0] - b[0]) - math.atan2(a[1] - b[1], a[0] - b[0]))\n",
    "    return 360 - (ang + 360 if ang < 0 else ang)"
   ]
  },
  {
   "cell_type": "code",
   "execution_count": 4,
   "id": "c787377d",
   "metadata": {},
   "outputs": [],
   "source": [
    "def ResizeArray(data, newSize):\n",
    "    x = data\n",
    "    i = newSize\n",
    "\n",
    "    lenX = len(x)\n",
    "\n",
    "    if lenX == 0:\n",
    "        lenX = 1\n",
    "        z = i / lenX\n",
    "    else:\n",
    "        z = i / lenX\n",
    "        x_int = interpolation.zoom(x,z)\n",
    "\n",
    "    return x_int"
   ]
  },
  {
   "cell_type": "code",
   "execution_count": 5,
   "id": "50370607",
   "metadata": {},
   "outputs": [],
   "source": [
    "def ReadFiles(path, files):\n",
    "    # Define data frame variable\n",
    "    df = None \n",
    "    startTime = time.time()\n",
    "  \n",
    "    print('Number of files: ', len(files))\n",
    "    \n",
    "    # Load each file into the data frame \n",
    "    for i in range(len(files)): \n",
    "    \n",
    "        if \".json\" in files[i] and \"Phase\" in files[i] and \"QNumber\" not in files[i]:    \n",
    "        # if \"txt.json\" in files[i] and \"Phase\" in files[i]:\n",
    "              # print(files[i])\n",
    "\n",
    "            # elapsedTime = time.time() - startTime\n",
    "            # print('Time passed: ', np.round(elapsedTime), '\\t sec \\r')\n",
    "\n",
    "            # Extract file name info and add to the dataframe \n",
    "            fileWords = files[i].split(\"_\")\n",
    "\n",
    "            # Extract phase \n",
    "            idx = fileWords.index(\"Phase\")\n",
    "            phase = fileWords[idx + 1]\n",
    "\n",
    "            # Extract user ID \n",
    "            idx = fileWords.index(\"trial\")\n",
    "            userID = fileWords[idx - 1]\n",
    "\n",
    "            # Add trial number to data frame \n",
    "            try:\n",
    "#                 print('Path and File: ', [path + '/' + files[i]])\n",
    "                tmpDF = pd.read_json(path + '/' + files[i])\n",
    "                tmpDF.insert(0, \"Phase\", phase, True)\n",
    "                tmpDF.insert(0, \"UserID\", userID, True)\n",
    "\n",
    "                if df is None:\n",
    "                    df = tmpDF\n",
    "                else:\n",
    "                    df = pd.concat((df, tmpDF))\n",
    "            except Exception as e:\n",
    "                print('My_Err: ', e)\n",
    "    return df"
   ]
  },
  {
   "cell_type": "code",
   "execution_count": 6,
   "id": "4cdf3723",
   "metadata": {},
   "outputs": [],
   "source": [
    "def ReadFiles(path, files):\n",
    "    # Define data frame variable\n",
    "    df = None \n",
    "    startTime = time.time()\n",
    "  \n",
    "    print('Number of files: ', len(files))\n",
    "    \n",
    "    # Load each file into the data frame \n",
    "    for i in range(len(files)): \n",
    "    \n",
    "        if \".json\" in files[i] and \"Phase\" in files[i] and \"QNumber\" not in files[i]:    \n",
    "        # if \"txt.json\" in files[i] and \"Phase\" in files[i]:\n",
    "              # print(files[i])\n",
    "\n",
    "            # elapsedTime = time.time() - startTime\n",
    "            # print('Time passed: ', np.round(elapsedTime), '\\t sec \\r')\n",
    "\n",
    "            # Extract file name info and add to the dataframe \n",
    "            fileWords = files[i].split(\"_\")\n",
    "\n",
    "            # Extract phase \n",
    "            idx = fileWords.index(\"Phase\")\n",
    "            phase = fileWords[idx + 1]\n",
    "\n",
    "            # Extract user ID \n",
    "            idx = fileWords.index(\"trial\")\n",
    "            userID = fileWords[idx - 1]\n",
    "\n",
    "            # Add trial number to data frame \n",
    "            try:\n",
    "#                 print('Path and File: ', [path + '/' + files[i]])\n",
    "                tmpDF = pd.read_json(path + '/' + files[i])\n",
    "                tmpDF.insert(0, \"Phase\", phase, True)\n",
    "                tmpDF.insert(0, \"UserID\", userID, True)\n",
    "\n",
    "                if df is None:\n",
    "                    df = tmpDF\n",
    "                else:\n",
    "                    df = pd.concat((df, tmpDF))\n",
    "            except Exception as e:\n",
    "                print('My_Err: ', e)\n",
    "    return df"
   ]
  },
  {
   "cell_type": "code",
   "execution_count": 7,
   "id": "e27e3c40",
   "metadata": {},
   "outputs": [],
   "source": [
    "def unique(list1):\n",
    " \n",
    "    # initialize a null list\n",
    "    unique_list = []\n",
    "     \n",
    "    # traverse for all elements\n",
    "    for x in list1:\n",
    "        # check if exists in unique_list or not\n",
    "        if x not in unique_list:\n",
    "            unique_list.append(x)\n",
    "\n",
    "#     print list\n",
    "#     for x in unique_list:\n",
    "#         print (x)\n",
    "\n",
    "    return unique_list"
   ]
  },
  {
   "cell_type": "code",
   "execution_count": null,
   "id": "be63eb60-117f-40c7-9fb3-f0fe0a6e093a",
   "metadata": {},
   "outputs": [],
   "source": [
    "def CrossCorr2(vel_1, vel_2, sampleFreq):\n",
    "    \n",
    "    import operator\n",
    "    import matplotlib.mlab as mlb\n",
    "\n",
    "    # Detrend data first: \n",
    "    response = mlb.detrend(vel_1)\n",
    "    signal = mlb.detrend(vel_2)\n",
    "    max_corr = np.zeros(6)\n",
    "    max_lag = np.zeros(6)\n",
    "    \n",
    "    # Compute lag at max lag\n",
    "    try:\n",
    "        lags,c,line,b = plt.xcorr(response, signal, usevlines=False, normed=True)\n",
    "        \n",
    "#         plt.figure()\n",
    "#         plt.subplot(1,1,1)\n",
    "#         corr_6 = plt.plot(lags,c,color='g')\n",
    "\n",
    "        #         c = np.sqrt(c*c)\n",
    "        index, value = max(enumerate(c), key=operator.itemgetter(1))\n",
    "        max_corr[5] = value\n",
    "        max_lag[5] = lags[index]\n",
    "    except Exception as e:\n",
    "        print(e)\n",
    "        max_corr[5] = np.nan\n",
    "        max_lag[5] = np.nan\n",
    "        \n",
    "    return max_lag[5]"
   ]
  },
  {
   "cell_type": "code",
   "execution_count": 9,
   "id": "ed8f19d5",
   "metadata": {},
   "outputs": [],
   "source": [
    "# path = \"H:/Project/SubEscape/SubEscape_Data_Analysis/Data_Subset/\"\n",
    "path = \"C:/Users/ObiPC/Documents/Projects/SubEscape/SubEscape_Data_Analysis/Data_Subset/\""
   ]
  },
  {
   "cell_type": "markdown",
   "id": "569d7ef1",
   "metadata": {},
   "source": [
    "### Load data"
   ]
  },
  {
   "cell_type": "code",
   "execution_count": 10,
   "id": "bf71f015",
   "metadata": {},
   "outputs": [
    {
     "ename": "FileNotFoundError",
     "evalue": "[WinError 3] The system cannot find the path specified: 'C:/Users/ObiPC/Documents/Projects/SubEscape/SubEscape_Data_Analysis/Data_Subset/'",
     "output_type": "error",
     "traceback": [
      "\u001b[1;31m---------------------------------------------------------------------------\u001b[0m",
      "\u001b[1;31mFileNotFoundError\u001b[0m                         Traceback (most recent call last)",
      "\u001b[1;32m~\\AppData\\Local\\Temp/ipykernel_23236/1028444274.py\u001b[0m in \u001b[0;36m<module>\u001b[1;34m\u001b[0m\n\u001b[0;32m     14\u001b[0m \u001b[1;31m#     path = \"H:/Project/SubEscape/SubEscape_Data_Analysis/Data_Subset/\"\u001b[0m\u001b[1;33m\u001b[0m\u001b[1;33m\u001b[0m\u001b[0m\n\u001b[0;32m     15\u001b[0m \u001b[1;33m\u001b[0m\u001b[0m\n\u001b[1;32m---> 16\u001b[1;33m     \u001b[0mfolders\u001b[0m \u001b[1;33m=\u001b[0m \u001b[0mos\u001b[0m\u001b[1;33m.\u001b[0m\u001b[0mlistdir\u001b[0m\u001b[1;33m(\u001b[0m\u001b[0mpath\u001b[0m\u001b[1;33m)\u001b[0m\u001b[1;33m\u001b[0m\u001b[1;33m\u001b[0m\u001b[0m\n\u001b[0m\u001b[0;32m     17\u001b[0m     \u001b[0mfolderNames\u001b[0m \u001b[1;33m=\u001b[0m \u001b[0munique\u001b[0m\u001b[1;33m(\u001b[0m\u001b[0mfolders\u001b[0m\u001b[1;33m)\u001b[0m\u001b[1;33m\u001b[0m\u001b[1;33m\u001b[0m\u001b[0m\n\u001b[0;32m     18\u001b[0m     \u001b[0mdf\u001b[0m \u001b[1;33m=\u001b[0m \u001b[1;32mNone\u001b[0m\u001b[1;33m\u001b[0m\u001b[1;33m\u001b[0m\u001b[0m\n",
      "\u001b[1;31mFileNotFoundError\u001b[0m: [WinError 3] The system cannot find the path specified: 'C:/Users/ObiPC/Documents/Projects/SubEscape/SubEscape_Data_Analysis/Data_Subset/'"
     ]
    }
   ],
   "source": [
    "startTime = time.time()\n",
    "\n",
    "fileLoaded = False\n",
    "# try:\n",
    "#     df_all = pd.read_pickle('SubData_All.pkl')\n",
    "#     fileLoaded = True\n",
    "# except Exception as e:\n",
    "#     print('File not found error: ', e)\n",
    "#     fileLoaded = False\n",
    "\n",
    "if not fileLoaded:\n",
    "    # path = \"C:/Users/ObiPC/Documents/Projects/SubEscape/SubEscape_Data_Analysis/Data/\"\n",
    "#     path = \"H:/Project/SubEscape/SubEscape_Data_Analysis/Data/\"\n",
    "#     path = \"H:/Project/SubEscape/SubEscape_Data_Analysis/Data_Subset/\"\n",
    "\n",
    "    folders = os.listdir(path)\n",
    "    folderNames = unique(folders)\n",
    "    df = None \n",
    "    df_all = None\n",
    "\n",
    "    for f in folderNames:\n",
    "\n",
    "        folderWords = str.split(f,'_')\n",
    "        if '444' in folderWords[2]:\n",
    "            continue\n",
    "        else:\n",
    "            ptxIDs = folderWords[1]\n",
    "            age = folderWords[2]\n",
    "            sex = folderWords[3]\n",
    "            hand = folderWords[4]\n",
    "            group = folderWords[5]\n",
    "            trial = int(folderWords[9])\n",
    "\n",
    "            try:\n",
    "                tmpDF = pd.read_json(path + f, orient='index')\n",
    "\n",
    "                # Extract pose data from each of the metrics \n",
    "                frame = []\n",
    "                joint = []\n",
    "                xPos = []\n",
    "                yPos = []\n",
    "                zPos = []\n",
    "                rot = []\n",
    "                for i in np.arange(len(tmpDF.loc['fingData'].values[0])):\n",
    "                    metricParts = str.split(tmpDF.loc['fingData'].values[0][i],';')\n",
    "                    frame.append(int(metricParts[0]))\n",
    "                    joint.append(metricParts[1])\n",
    "                    xPos.append(float(metricParts[2]))\n",
    "                    yPos.append(float(metricParts[3]))\n",
    "                    zPos.append(float(metricParts[4]))\n",
    "                    rot.append(float(metricParts[5]))\n",
    "\n",
    "                data = {'Fame' : frame,\n",
    "                       'Joint' : joint,\n",
    "                       'xPos' : xPos,\n",
    "                       'yPos' : yPos,\n",
    "                       'zPos' : zPos,\n",
    "                       'rot' : rot,}\n",
    "\n",
    "                tmpDF2 = pd.DataFrame(data)\n",
    "                tmpDF2.insert(0,'PtxID',ptxIDs)\n",
    "                tmpDF2.insert(1,'trial',trial)\n",
    "                tmpDF2.insert(2,'group',group)\n",
    "                tmpDF2.insert(3,'hand',hand)\n",
    "                tmpDF2.insert(4,'age',age)\n",
    "                tmpDF2.insert(5,'sex',sex)\n",
    "\n",
    "                # Concatenate all resultant data frames into one parent data frame \n",
    "                if df_all is None:\n",
    "                    df_all = tmpDF2\n",
    "                else:\n",
    "                    df_all = pd.concat([df_all, tmpDF2])          \n",
    "\n",
    "    #             # Concatenate all resultant data frames into one parent data frame \n",
    "    #             if df is None:\n",
    "    #                 df = tmpDF\n",
    "    #             else:\n",
    "    #                 df = pd.concat([df, tmpDF])\n",
    "            except Exception as e:\n",
    "                print('Ptx: ', ptxIDs,' Warning: ', e)\n",
    "#     df\n",
    "\n",
    "elapsedTime = np.round(time.time() - startTime) / 60.0\n",
    "print('Processing time: ', elapsedTime, ' minutes')"
   ]
  },
  {
   "cell_type": "code",
   "execution_count": null,
   "id": "295d98dc",
   "metadata": {},
   "outputs": [],
   "source": [
    "df_all.to_pickle('C:/Users/ObiPC/Documents/Projects/SubEscape/SubEscape_Data_Analysis/Pickel_n_CSV_files/SubData_All_Subset.pkl')"
   ]
  },
  {
   "cell_type": "markdown",
   "id": "c1af6142-865e-443b-96d5-70b10a63cc9f",
   "metadata": {},
   "source": [
    "### Restart Here"
   ]
  },
  {
   "cell_type": "code",
   "execution_count": 32,
   "id": "3421ebf7",
   "metadata": {},
   "outputs": [],
   "source": [
    "fileName = \"1648750398.0SubSet_AllMetrics.pkl\"\n",
    "pathOutside = \"C:/Users/PC/Documents/Projects/Github/\"\n",
    "df_all = pd.read_pickle(pathOutside + fileName) "
   ]
  },
  {
   "cell_type": "code",
   "execution_count": 33,
   "id": "69610bfa",
   "metadata": {},
   "outputs": [
    {
     "name": "stdout",
     "output_type": "stream",
     "text": [
      "Num participants:  39\n",
      "Groups:  ['NoReward' 'Reward']\n"
     ]
    }
   ],
   "source": [
    "print('Num participants: ', len(pd.unique(df_all['PtxID'])))\n",
    "print('Groups: ', pd.unique(df_all['group']))"
   ]
  },
  {
   "cell_type": "code",
   "execution_count": 15,
   "id": "529ef0a4",
   "metadata": {},
   "outputs": [
    {
     "data": {
      "text/plain": [
       "Series([], Name: rot, dtype: float64)"
      ]
     },
     "execution_count": 15,
     "metadata": {},
     "output_type": "execute_result"
    }
   ],
   "source": [
    "df_all[mask]['rot']"
   ]
  },
  {
   "cell_type": "code",
   "execution_count": 17,
   "id": "86f8b1e5",
   "metadata": {},
   "outputs": [],
   "source": [
    "# Compute average age\n",
    "ageString = pd.unique(df_all['age'])\n",
    "agesf = [int(i) for i in ageString] \n",
    "ages = [ (np.nan * x) if x>80 else x for x in agesf]"
   ]
  },
  {
   "cell_type": "code",
   "execution_count": 18,
   "id": "7e3b818e",
   "metadata": {},
   "outputs": [
    {
     "name": "stdout",
     "output_type": "stream",
     "text": [
      "Number of participants:  10\n",
      "Groups:  2\n",
      "Average Age:  26.0\n"
     ]
    }
   ],
   "source": [
    "print('Number of participants: ', len(pd.unique(df_all['PtxID'])))\n",
    "print('Groups: ', len(pd.unique(df_all['group'])))\n",
    "print('Average Age: ', np.round(np.nanmean(ages)))"
   ]
  },
  {
   "cell_type": "code",
   "execution_count": 19,
   "id": "4f65d6ea",
   "metadata": {},
   "outputs": [],
   "source": [
    "ptexes = pd.unique(df_all['PtxID'])"
   ]
  },
  {
   "cell_type": "code",
   "execution_count": 20,
   "id": "998f2bfb",
   "metadata": {},
   "outputs": [
    {
     "name": "stdout",
     "output_type": "stream",
     "text": [
      "Finger joints:  ['b_l_thumb1' 'b_l_thumb2' 'b_l_thumb3' 'l_thumb_finger_tip_marker'\n",
      " 'b_l_index1' 'b_l_index2' 'b_l_index3' 'l_index_finger_tip_marker'\n",
      " 'b_l_middle1' 'b_l_middle2' 'b_l_middle3' 'l_middle_finger_tip_marker'\n",
      " 'b_l_ring1' 'b_l_ring2' 'b_l_ring3' 'l_ring_finger_tip_marker'\n",
      " 'b_l_pinky1' 'b_l_pinky2' 'b_l_pinky3' 'l_pinky_finger_tip_marker'\n",
      " 'b_l_wrist']\n",
      "Numb. all joints:  21\n",
      "Numb. main joints:  16\n"
     ]
    }
   ],
   "source": [
    "jointsOfInterest = ['b_l_thumb1', 'b_l_thumb2', 'b_l_thumb3',\n",
    "                    'b_l_index1', 'b_l_index2', 'b_l_index3',\n",
    "                    'b_l_middle1', 'b_l_middle2', 'b_l_middle3',\n",
    "                    'b_l_ring1', 'b_l_ring2', 'b_l_ring3',\n",
    "                    'b_l_pinky1', 'b_l_pinky2', 'b_l_pinky3',\n",
    "                    'b_l_wrist']\n",
    "\n",
    "print('Finger joints: ', pd.unique(df_all['Joint']))\n",
    "print('Numb. all joints: ', len(pd.unique(df_all['Joint'])))\n",
    "print('Numb. main joints: ', len(jointsOfInterest))"
   ]
  },
  {
   "cell_type": "code",
   "execution_count": 21,
   "id": "49f9d9c9",
   "metadata": {},
   "outputs": [],
   "source": [
    "def translate(value, leftMin, leftMax, rightMin, rightMax):\n",
    "    # Figure out how 'wide' each range is\n",
    "    leftSpan = leftMax - leftMin\n",
    "    rightSpan = rightMax - rightMin\n",
    "\n",
    "    # Convert the left range into a 0-1 range (float)\n",
    "    valueScaled = float(value - leftMin) / float(leftSpan)\n",
    "\n",
    "    # Convert the 0-1 range into a value in the right range.\n",
    "    return rightMin + (valueScaled * rightSpan)"
   ]
  },
  {
   "cell_type": "code",
   "execution_count": 22,
   "id": "fcf275e9",
   "metadata": {},
   "outputs": [
    {
     "data": {
      "text/plain": [
       "array(['Ir247397260DX268', 'vn265606624Yv403', 'kL32782760pb805',\n",
       "       'Ai275415234NZ493', 'CL78462911bI451', 'XY13546991Od507',\n",
       "       'iA94696354Ww734', 'UJ22372929Ma480', 'nN48787345GM446',\n",
       "       'rN464901337br235'], dtype=object)"
      ]
     },
     "execution_count": 22,
     "metadata": {},
     "output_type": "execute_result"
    }
   ],
   "source": [
    "# vn265606624Yv403\n",
    "# kL32782760pb805\n",
    "# CL78462911bI451\n",
    "ptexes"
   ]
  },
  {
   "cell_type": "code",
   "execution_count": 56,
   "id": "fb6bee4c",
   "metadata": {},
   "outputs": [],
   "source": [
    "# metricParts = str.split(tmpDF.loc['dialData'].values[0][100],';')\n",
    "# metricParts\n",
    "\n",
    "ptx = ptexes[4]\n",
    "trl = [35]\n",
    "childJoints = jointsOfInterest[:-1]\n",
    "graphData = False\n",
    "\n",
    "for t in trl:\n",
    "    \n",
    "    invX = 0\n",
    "    invY = 0\n",
    "    invZ = 0\n",
    "    \n",
    "    # Reconstruct Original Dial Angles from relative finger joints and wrist positions \n",
    "    for j in childJoints:\n",
    "        \n",
    "        mask = (df_all['PtxID'] == ptx) & (df_all['trial'] == t) & (df_all['Joint'] == j)\n",
    "        maskWrist = (df_all['PtxID'] == ptx) & (df_all['trial'] == t) & (df_all['Joint'] == jointsOfInterest[-1]) \n",
    "\n",
    "        invX +=  np.sqrt((df_all[mask]['xPos'].values - df_all[maskWrist]['xPos'].values) ** 2)\n",
    "        invY +=  np.sqrt((df_all[mask]['yPos'].values - df_all[maskWrist]['yPos'].values) ** 2)\n",
    "        invZ +=  np.sqrt((df_all[mask]['zPos'].values - df_all[maskWrist]['zPos'].values) ** 2)\n",
    "            \n",
    "    cA_Temp = np.nansum([invX * 0.067, (invY * 0.067)], axis=0)\n",
    "    currentAngle = np.nansum([cA_Temp, (invZ * 0.067)], axis=0)\n",
    "    \n",
    "\n",
    "\n",
    "#     currentAngleMined = []\n",
    "#     for c in currentAngle:\n",
    "#         if c < 0.045:\n",
    "#             currentAngleMined.append(0.045)\n",
    "#         else:\n",
    "#             currentAngleMined.append(c)\n",
    "    \n",
    "#     currentAngleMaxed = []\n",
    "#     for c in currentAngle:\n",
    "#         if c > 0.115:\n",
    "#             currentAngleMaxed.append(0.115)\n",
    "#         else:\n",
    "#             currentAngleMaxed.append(c)\n",
    "            \n",
    "    leftMin = np.nanmin(currentAngle) # leftMin = 0.045\n",
    "    leftMax = np.nanmax(currentAngle) # leftMax = 0.115\n",
    "    dialAngle = []\n",
    "    \n",
    "    for cA in currentAngle:\n",
    "        dialAngle.append(translate(cA, leftMin, leftMax, 0.1, 179.9))\n",
    "\n",
    "    dialAngle = [i + 7.5 for i in dialAngle] # Add offset value of 7.5 degrees to the reconstructed dial angle to match the original Unity environment and script (see MoveDial.cs)\n",
    "\n",
    "\n",
    "\n",
    "# Vector3 currentHandData = new Vector3();\n",
    "# for (int i = 0; i < virtualDigits.Length - 1; i++)\n",
    "# {\n",
    "#     currentHandData += virtualDigits[16].InverseTransformPoint(virtualDigits[i].position);\n",
    "# }\n",
    "# float currentAngle = (currentHandData.x * 0.067f) +\n",
    "#                (currentHandData.y * 0.067f) +\n",
    "#                (currentHandData.z * 0.067f);\n",
    "# currentAngle = Mathf.Abs(currentAngle);"
   ]
  },
  {
   "cell_type": "code",
   "execution_count": 57,
   "id": "8032154b",
   "metadata": {},
   "outputs": [],
   "source": [
    "# leftMin = np.nanmin(currentAngle)\n",
    "# leftMax = np.nanmax(currentAngle)\n",
    "# dialAngle = []\n",
    "# for cA in currentAngle:\n",
    "#     dialAngle.append(translate(cA, leftMin, leftMax, 0.0, 180.0))\n",
    "        \n",
    "# plt.plot(dialAngle)"
   ]
  },
  {
   "cell_type": "code",
   "execution_count": null,
   "id": "ff482a5c-e697-45a6-83c1-4b635c1cd72d",
   "metadata": {},
   "outputs": [],
   "source": []
  },
  {
   "cell_type": "code",
   "execution_count": null,
   "id": "0f065014-d661-46ae-91f8-48021ab87bb5",
   "metadata": {},
   "outputs": [],
   "source": []
  },
  {
   "cell_type": "code",
   "execution_count": null,
   "id": "b15f0867-ebf9-4ef5-bc9f-704327076a9a",
   "metadata": {},
   "outputs": [],
   "source": []
  },
  {
   "cell_type": "markdown",
   "id": "e57081ab-d895-478f-ad15-32fcb4908769",
   "metadata": {},
   "source": [
    "### Dial and target data plotting"
   ]
  },
  {
   "cell_type": "code",
   "execution_count": 59,
   "id": "21852a48",
   "metadata": {},
   "outputs": [
    {
     "data": {
      "text/html": [
       "<div>\n",
       "<style scoped>\n",
       "    .dataframe tbody tr th:only-of-type {\n",
       "        vertical-align: middle;\n",
       "    }\n",
       "\n",
       "    .dataframe tbody tr th {\n",
       "        vertical-align: top;\n",
       "    }\n",
       "\n",
       "    .dataframe thead th {\n",
       "        text-align: right;\n",
       "    }\n",
       "</style>\n",
       "<table border=\"1\" class=\"dataframe\">\n",
       "  <thead>\n",
       "    <tr style=\"text-align: right;\">\n",
       "      <th></th>\n",
       "      <th>PtxID</th>\n",
       "      <th>trial</th>\n",
       "      <th>group</th>\n",
       "      <th>hand</th>\n",
       "      <th>age</th>\n",
       "      <th>sex</th>\n",
       "      <th>Dial</th>\n",
       "      <th>Target</th>\n",
       "      <th>Score</th>\n",
       "    </tr>\n",
       "  </thead>\n",
       "  <tbody>\n",
       "    <tr>\n",
       "      <th>0</th>\n",
       "      <td>CL78462911bI451</td>\n",
       "      <td>35</td>\n",
       "      <td>NoReward</td>\n",
       "      <td>R</td>\n",
       "      <td>22</td>\n",
       "      <td>F</td>\n",
       "      <td>90.000</td>\n",
       "      <td>89.417</td>\n",
       "      <td>0.0</td>\n",
       "    </tr>\n",
       "    <tr>\n",
       "      <th>1</th>\n",
       "      <td>CL78462911bI451</td>\n",
       "      <td>35</td>\n",
       "      <td>NoReward</td>\n",
       "      <td>R</td>\n",
       "      <td>22</td>\n",
       "      <td>F</td>\n",
       "      <td>170.239</td>\n",
       "      <td>88.831</td>\n",
       "      <td>0.0</td>\n",
       "    </tr>\n",
       "    <tr>\n",
       "      <th>2</th>\n",
       "      <td>CL78462911bI451</td>\n",
       "      <td>35</td>\n",
       "      <td>NoReward</td>\n",
       "      <td>R</td>\n",
       "      <td>22</td>\n",
       "      <td>F</td>\n",
       "      <td>170.239</td>\n",
       "      <td>87.651</td>\n",
       "      <td>0.0</td>\n",
       "    </tr>\n",
       "    <tr>\n",
       "      <th>3</th>\n",
       "      <td>CL78462911bI451</td>\n",
       "      <td>35</td>\n",
       "      <td>NoReward</td>\n",
       "      <td>R</td>\n",
       "      <td>22</td>\n",
       "      <td>F</td>\n",
       "      <td>170.239</td>\n",
       "      <td>87.055</td>\n",
       "      <td>0.0</td>\n",
       "    </tr>\n",
       "    <tr>\n",
       "      <th>4</th>\n",
       "      <td>CL78462911bI451</td>\n",
       "      <td>35</td>\n",
       "      <td>NoReward</td>\n",
       "      <td>R</td>\n",
       "      <td>22</td>\n",
       "      <td>F</td>\n",
       "      <td>170.239</td>\n",
       "      <td>86.454</td>\n",
       "      <td>0.0</td>\n",
       "    </tr>\n",
       "    <tr>\n",
       "      <th>...</th>\n",
       "      <td>...</td>\n",
       "      <td>...</td>\n",
       "      <td>...</td>\n",
       "      <td>...</td>\n",
       "      <td>...</td>\n",
       "      <td>...</td>\n",
       "      <td>...</td>\n",
       "      <td>...</td>\n",
       "      <td>...</td>\n",
       "    </tr>\n",
       "    <tr>\n",
       "      <th>900</th>\n",
       "      <td>CL78462911bI451</td>\n",
       "      <td>35</td>\n",
       "      <td>NoReward</td>\n",
       "      <td>R</td>\n",
       "      <td>22</td>\n",
       "      <td>F</td>\n",
       "      <td>141.309</td>\n",
       "      <td>134.521</td>\n",
       "      <td>0.0</td>\n",
       "    </tr>\n",
       "    <tr>\n",
       "      <th>901</th>\n",
       "      <td>CL78462911bI451</td>\n",
       "      <td>35</td>\n",
       "      <td>NoReward</td>\n",
       "      <td>R</td>\n",
       "      <td>22</td>\n",
       "      <td>F</td>\n",
       "      <td>139.961</td>\n",
       "      <td>134.521</td>\n",
       "      <td>0.0</td>\n",
       "    </tr>\n",
       "    <tr>\n",
       "      <th>902</th>\n",
       "      <td>CL78462911bI451</td>\n",
       "      <td>35</td>\n",
       "      <td>NoReward</td>\n",
       "      <td>R</td>\n",
       "      <td>22</td>\n",
       "      <td>F</td>\n",
       "      <td>138.590</td>\n",
       "      <td>134.521</td>\n",
       "      <td>0.0</td>\n",
       "    </tr>\n",
       "    <tr>\n",
       "      <th>903</th>\n",
       "      <td>CL78462911bI451</td>\n",
       "      <td>35</td>\n",
       "      <td>NoReward</td>\n",
       "      <td>R</td>\n",
       "      <td>22</td>\n",
       "      <td>F</td>\n",
       "      <td>136.636</td>\n",
       "      <td>134.521</td>\n",
       "      <td>0.0</td>\n",
       "    </tr>\n",
       "    <tr>\n",
       "      <th>904</th>\n",
       "      <td>CL78462911bI451</td>\n",
       "      <td>35</td>\n",
       "      <td>NoReward</td>\n",
       "      <td>R</td>\n",
       "      <td>22</td>\n",
       "      <td>F</td>\n",
       "      <td>135.607</td>\n",
       "      <td>134.521</td>\n",
       "      <td>0.0</td>\n",
       "    </tr>\n",
       "  </tbody>\n",
       "</table>\n",
       "<p>905 rows × 9 columns</p>\n",
       "</div>"
      ],
      "text/plain": [
       "               PtxID trial     group hand age sex     Dial   Target  Score\n",
       "0    CL78462911bI451    35  NoReward    R  22   F   90.000   89.417    0.0\n",
       "1    CL78462911bI451    35  NoReward    R  22   F  170.239   88.831    0.0\n",
       "2    CL78462911bI451    35  NoReward    R  22   F  170.239   87.651    0.0\n",
       "3    CL78462911bI451    35  NoReward    R  22   F  170.239   87.055    0.0\n",
       "4    CL78462911bI451    35  NoReward    R  22   F  170.239   86.454    0.0\n",
       "..               ...   ...       ...  ...  ..  ..      ...      ...    ...\n",
       "900  CL78462911bI451    35  NoReward    R  22   F  141.309  134.521    0.0\n",
       "901  CL78462911bI451    35  NoReward    R  22   F  139.961  134.521    0.0\n",
       "902  CL78462911bI451    35  NoReward    R  22   F  138.590  134.521    0.0\n",
       "903  CL78462911bI451    35  NoReward    R  22   F  136.636  134.521    0.0\n",
       "904  CL78462911bI451    35  NoReward    R  22   F  135.607  134.521    0.0\n",
       "\n",
       "[905 rows x 9 columns]"
      ]
     },
     "execution_count": 59,
     "metadata": {},
     "output_type": "execute_result"
    }
   ],
   "source": [
    "# Test to read more data\n",
    "# path = \"H:/Project/SubEscape/SubEscape_Data_Analysis/Data_Subset/\"\n",
    "\n",
    "folders = os.listdir(path)\n",
    "folderNames = unique(folders)\n",
    "# df = None \n",
    "# df_all = None\n",
    "\n",
    "folderIndex = 160\n",
    "f = folderNames[folderIndex]\n",
    "\n",
    "folderWords = str.split(f,'_')\n",
    "\n",
    "ptxIDs = folderWords[1]\n",
    "age = folderWords[2]\n",
    "sex = folderWords[3]\n",
    "hand = folderWords[4]\n",
    "group = folderWords[5]\n",
    "trial = folderWords[9]\n",
    "\n",
    "tmpDF = pd.read_json(path + f, orient='index')\n",
    "\n",
    "# Extract pose data from each of the metrics \n",
    "dial = []\n",
    "target = []\n",
    "score = []\n",
    "\n",
    "# tmpDF.loc['dialData'].values[0][i]\n",
    "for i in tmpDF.loc['dialData'].values[0]: \n",
    "    metricParts = str.split(i,';')\n",
    "    dial.append(float(metricParts[0]))\n",
    "    target.append(float(metricParts[1]))\n",
    "    score.append(float(metricParts[2]))\n",
    "\n",
    "data = {'Dial' : dial,\n",
    "       'Target' : target,\n",
    "       'Score' : score,}\n",
    "\n",
    "tmpDF2 = pd.DataFrame(data)\n",
    "tmpDF2.insert(0,'PtxID',ptxIDs)\n",
    "tmpDF2.insert(1,'trial',trial)\n",
    "tmpDF2.insert(2,'group',group)\n",
    "tmpDF2.insert(3,'hand',hand)\n",
    "tmpDF2.insert(4,'age',age)\n",
    "tmpDF2.insert(5,'sex',sex)\n",
    "\n",
    "tmpDF2"
   ]
  },
  {
   "cell_type": "markdown",
   "id": "29c270b6-b7ce-439f-b267-95dfeb39992f",
   "metadata": {},
   "source": [
    "### Preprocess raw data "
   ]
  },
  {
   "cell_type": "code",
   "execution_count": 218,
   "id": "c3af731c-d224-4402-8964-06ab5cf6d3a8",
   "metadata": {},
   "outputs": [],
   "source": [
    "df_all_backup = df_all[:]"
   ]
  },
  {
   "cell_type": "code",
   "execution_count": 14,
   "id": "c4655ac6-3a1c-4f68-bb93-805b54d679cb",
   "metadata": {},
   "outputs": [],
   "source": [
    "def SmoothData(data, wind, odr):\n",
    "    \n",
    "    # return savitzky_golay(data, wind, odr)\n",
    "    return savgol_filter(data, wind, odr)\n",
    "    "
   ]
  },
  {
   "cell_type": "code",
   "execution_count": 15,
   "id": "57d2d1b5-0e36-44dc-8226-2fd3b41eb750",
   "metadata": {},
   "outputs": [],
   "source": [
    "df_all = df_all.reset_index()"
   ]
  },
  {
   "cell_type": "code",
   "execution_count": 31,
   "id": "476ecab7-7306-41e5-9055-daa9311b7ee0",
   "metadata": {},
   "outputs": [],
   "source": [
    "# Clean off NaNs\n",
    "# df_all['Dial_Recon'] = df_all.groupby(['PtxID','trial','Joint'])['Dial_Recon'].transform(lambda x: x[~numpy.isnan(x)])\n",
    "# df_all['Target'] = df_all.groupby(['PtxID','trial','Joint'])['Target'].transform(lambda x: x[~numpy.isnan(x)])"
   ]
  },
  {
   "cell_type": "code",
   "execution_count": 21,
   "id": "a31ed3e9-e0ca-49e8-a84e-6ff7bbc9a859",
   "metadata": {},
   "outputs": [],
   "source": [
    "# # Resize all to same size of 1000 \n",
    "# df_all['Dial_ReconF'] = df_all.groupby(['PtxID','trial'])['Dial_Recon'].transform(lambda x: ResizeArray(x.values, 1000))\n",
    "# df_all['TargetF'] = df_all.groupby(['PtxID','trial'])['Target'].transform(lambda x: ResizeArray(x.values, 1000))"
   ]
  },
  {
   "cell_type": "code",
   "execution_count": 17,
   "id": "0c62729d-824f-4b58-953e-185e86c2ee5d",
   "metadata": {},
   "outputs": [],
   "source": [
    "# Remove previously added columns before recomputing them\n",
    "df_all.drop(columns=['Dial_ReconF','TargetF'])"
   ]
  },
  {
   "cell_type": "code",
   "execution_count": null,
   "id": "bc11859b-916e-4c88-ac07-6262138c2867",
   "metadata": {},
   "outputs": [],
   "source": []
  },
  {
   "cell_type": "code",
   "execution_count": null,
   "id": "01a10e34-8422-4c3a-99f1-9393fc56fad2",
   "metadata": {},
   "outputs": [],
   "source": []
  },
  {
   "cell_type": "markdown",
   "id": "c0133ee1-bb2d-41f2-bc0e-dd4b3693ac16",
   "metadata": {},
   "source": [
    "#### Compute velocites"
   ]
  },
  {
   "cell_type": "code",
   "execution_count": 52,
   "id": "2090f615-abf6-457d-9c51-d49d50f87770",
   "metadata": {},
   "outputs": [],
   "source": [
    "ptxes = pd.unique(df_all['PtxID'])\n",
    "trials = pd.unique(df_all['trial'])\n",
    "joints = pd.unique(df_all['Joint'])\n",
    "ptxMask = (df_all['PtxID'] == ptxes[4]) & (df_all['trial'] == trials[12]) & (df_all['Joint'] == 'b_l_index1')"
   ]
  },
  {
   "cell_type": "code",
   "execution_count": 53,
   "id": "6181c09c-5072-42d4-9479-86895d61b481",
   "metadata": {},
   "outputs": [],
   "source": [
    "trialDuration = 14\n",
    "sampleFreq = int(np.round(len(df_all[ptxMask]['rot'].values) / trialDuration))\n",
    "\n",
    "# Complete velocity computation\n",
    "df_all['TargetVel'] = savgol_filter(np.gradient(savgol_filter(df_all['Target'],33,8)) / (1/sampleFreq), 23,8)"
   ]
  },
  {
   "cell_type": "code",
   "execution_count": 56,
   "id": "42d002cd-3974-4925-8558-6772f111b278",
   "metadata": {},
   "outputs": [],
   "source": [
    "df_all['DialVel'] = savgol_filter(np.gradient(savgol_filter(df_all['Dial_Raw'],33,8)) / (1/sampleFreq), 23,8)"
   ]
  },
  {
   "cell_type": "code",
   "execution_count": 58,
   "id": "cd880266-2b83-4eec-9c59-93a3aada5581",
   "metadata": {},
   "outputs": [
    {
     "data": {
      "text/html": [
       "<div>\n",
       "<style scoped>\n",
       "    .dataframe tbody tr th:only-of-type {\n",
       "        vertical-align: middle;\n",
       "    }\n",
       "\n",
       "    .dataframe tbody tr th {\n",
       "        vertical-align: top;\n",
       "    }\n",
       "\n",
       "    .dataframe thead th {\n",
       "        text-align: right;\n",
       "    }\n",
       "</style>\n",
       "<table border=\"1\" class=\"dataframe\">\n",
       "  <thead>\n",
       "    <tr style=\"text-align: right;\">\n",
       "      <th></th>\n",
       "      <th>PtxID</th>\n",
       "      <th>trial</th>\n",
       "      <th>group</th>\n",
       "      <th>hand</th>\n",
       "      <th>age</th>\n",
       "      <th>sex</th>\n",
       "      <th>Dial_Raw</th>\n",
       "      <th>Dial_Recon</th>\n",
       "      <th>Target</th>\n",
       "      <th>Score</th>\n",
       "      <th>...</th>\n",
       "      <th>Vrot</th>\n",
       "      <th>Frame</th>\n",
       "      <th>Joint</th>\n",
       "      <th>xPos</th>\n",
       "      <th>yPos</th>\n",
       "      <th>zPos</th>\n",
       "      <th>rot</th>\n",
       "      <th>TargetVel</th>\n",
       "      <th>DialVel</th>\n",
       "      <th>Lag</th>\n",
       "    </tr>\n",
       "  </thead>\n",
       "  <tbody>\n",
       "    <tr>\n",
       "      <th>0</th>\n",
       "      <td>XY13546991Od507</td>\n",
       "      <td>29</td>\n",
       "      <td>NoReward</td>\n",
       "      <td>R</td>\n",
       "      <td>23</td>\n",
       "      <td>F</td>\n",
       "      <td>90.000</td>\n",
       "      <td>76.738111</td>\n",
       "      <td>90.000</td>\n",
       "      <td>0.0</td>\n",
       "      <td>...</td>\n",
       "      <td>NaN</td>\n",
       "      <td>NaN</td>\n",
       "      <td>NaN</td>\n",
       "      <td>NaN</td>\n",
       "      <td>NaN</td>\n",
       "      <td>NaN</td>\n",
       "      <td>NaN</td>\n",
       "      <td>41.170081</td>\n",
       "      <td>3790.742614</td>\n",
       "      <td>-10.0</td>\n",
       "    </tr>\n",
       "    <tr>\n",
       "      <th>1</th>\n",
       "      <td>XY13546991Od507</td>\n",
       "      <td>29</td>\n",
       "      <td>NoReward</td>\n",
       "      <td>R</td>\n",
       "      <td>23</td>\n",
       "      <td>F</td>\n",
       "      <td>170.239</td>\n",
       "      <td>77.556314</td>\n",
       "      <td>90.575</td>\n",
       "      <td>0.0</td>\n",
       "      <td>...</td>\n",
       "      <td>NaN</td>\n",
       "      <td>NaN</td>\n",
       "      <td>NaN</td>\n",
       "      <td>NaN</td>\n",
       "      <td>NaN</td>\n",
       "      <td>NaN</td>\n",
       "      <td>NaN</td>\n",
       "      <td>39.317187</td>\n",
       "      <td>2366.163154</td>\n",
       "      <td>-10.0</td>\n",
       "    </tr>\n",
       "  </tbody>\n",
       "</table>\n",
       "<p>2 rows × 25 columns</p>\n",
       "</div>"
      ],
      "text/plain": [
       "             PtxID  trial     group hand age sex  Dial_Raw  Dial_Recon  \\\n",
       "0  XY13546991Od507     29  NoReward    R  23   F    90.000   76.738111   \n",
       "1  XY13546991Od507     29  NoReward    R  23   F   170.239   77.556314   \n",
       "\n",
       "   Target  Score  ...  Vrot Frame  Joint  xPos  yPos  zPos  rot  TargetVel  \\\n",
       "0  90.000    0.0  ...   NaN   NaN    NaN   NaN   NaN   NaN  NaN  41.170081   \n",
       "1  90.575    0.0  ...   NaN   NaN    NaN   NaN   NaN   NaN  NaN  39.317187   \n",
       "\n",
       "       DialVel   Lag  \n",
       "0  3790.742614 -10.0  \n",
       "1  2366.163154 -10.0  \n",
       "\n",
       "[2 rows x 25 columns]"
      ]
     },
     "execution_count": 58,
     "metadata": {},
     "output_type": "execute_result"
    },
    {
     "data": {
      "image/png": "[encoded data removed]",
      "text/plain": [
       "<Figure size 432x288 with 1 Axes>"
      ]
     },
     "metadata": {
      "needs_background": "light"
     },
     "output_type": "display_data"
    }
   ],
   "source": [
    "df_all['Lag'] = CrossCorr2(df_all['DialVel'],df_all['TargetVel'],sampleFreq)\n",
    "df_all.head(2)"
   ]
  },
  {
   "cell_type": "code",
   "execution_count": 60,
   "id": "584fd5d2-30e3-4a35-b1fd-2f0e784a5ccc",
   "metadata": {},
   "outputs": [],
   "source": [
    "df_all.to_pickle('df_all_lag.pkl')"
   ]
  },
  {
   "cell_type": "code",
   "execution_count": 50,
   "id": "5d4aeb1e-8782-4b4a-ad8e-2b209ce896e4",
   "metadata": {},
   "outputs": [],
   "source": [
    "# Smooth data \n",
    "df_all['Dial_ReconF'] = df_all.groupby(['PtxID','trial','Joint'])['Dial_Recon'].transform(lambda x: SmoothData(x.values, 33, 8))\n",
    "df_all['TargetF'] = df_all.groupby(['PtxID','trial','Joint'])['Target'].transform(lambda x: SmoothData(x.values, 33, 8))"
   ]
  },
  {
   "cell_type": "code",
   "execution_count": null,
   "id": "248c6d79-7f90-4625-a3c2-e71e953da65f",
   "metadata": {},
   "outputs": [],
   "source": []
  },
  {
   "cell_type": "code",
   "execution_count": 59,
   "id": "b5630cb7-89f5-49f2-bf45-6d1d17a1f823",
   "metadata": {},
   "outputs": [
    {
     "data": {
      "text/html": [
       "<div>\n",
       "<style scoped>\n",
       "    .dataframe tbody tr th:only-of-type {\n",
       "        vertical-align: middle;\n",
       "    }\n",
       "\n",
       "    .dataframe tbody tr th {\n",
       "        vertical-align: top;\n",
       "    }\n",
       "\n",
       "    .dataframe thead th {\n",
       "        text-align: right;\n",
       "    }\n",
       "</style>\n",
       "<table border=\"1\" class=\"dataframe\">\n",
       "  <thead>\n",
       "    <tr style=\"text-align: right;\">\n",
       "      <th></th>\n",
       "      <th>PtxID</th>\n",
       "      <th>trial</th>\n",
       "      <th>group</th>\n",
       "      <th>hand</th>\n",
       "      <th>age</th>\n",
       "      <th>sex</th>\n",
       "      <th>Dial_Raw</th>\n",
       "      <th>Dial_Recon</th>\n",
       "      <th>Target</th>\n",
       "      <th>Score</th>\n",
       "      <th>...</th>\n",
       "      <th>Vrot</th>\n",
       "      <th>Frame</th>\n",
       "      <th>Joint</th>\n",
       "      <th>xPos</th>\n",
       "      <th>yPos</th>\n",
       "      <th>zPos</th>\n",
       "      <th>rot</th>\n",
       "      <th>TargetVel</th>\n",
       "      <th>DialVel</th>\n",
       "      <th>Lag</th>\n",
       "    </tr>\n",
       "  </thead>\n",
       "  <tbody>\n",
       "    <tr>\n",
       "      <th>0</th>\n",
       "      <td>XY13546991Od507</td>\n",
       "      <td>29</td>\n",
       "      <td>NoReward</td>\n",
       "      <td>R</td>\n",
       "      <td>23</td>\n",
       "      <td>F</td>\n",
       "      <td>90.000</td>\n",
       "      <td>76.738111</td>\n",
       "      <td>90.000</td>\n",
       "      <td>0.0</td>\n",
       "      <td>...</td>\n",
       "      <td>NaN</td>\n",
       "      <td>NaN</td>\n",
       "      <td>NaN</td>\n",
       "      <td>NaN</td>\n",
       "      <td>NaN</td>\n",
       "      <td>NaN</td>\n",
       "      <td>NaN</td>\n",
       "      <td>41.170081</td>\n",
       "      <td>3790.742614</td>\n",
       "      <td>-10.0</td>\n",
       "    </tr>\n",
       "    <tr>\n",
       "      <th>1</th>\n",
       "      <td>XY13546991Od507</td>\n",
       "      <td>29</td>\n",
       "      <td>NoReward</td>\n",
       "      <td>R</td>\n",
       "      <td>23</td>\n",
       "      <td>F</td>\n",
       "      <td>170.239</td>\n",
       "      <td>77.556314</td>\n",
       "      <td>90.575</td>\n",
       "      <td>0.0</td>\n",
       "      <td>...</td>\n",
       "      <td>NaN</td>\n",
       "      <td>NaN</td>\n",
       "      <td>NaN</td>\n",
       "      <td>NaN</td>\n",
       "      <td>NaN</td>\n",
       "      <td>NaN</td>\n",
       "      <td>NaN</td>\n",
       "      <td>39.317187</td>\n",
       "      <td>2366.163154</td>\n",
       "      <td>-10.0</td>\n",
       "    </tr>\n",
       "  </tbody>\n",
       "</table>\n",
       "<p>2 rows × 25 columns</p>\n",
       "</div>"
      ],
      "text/plain": [
       "             PtxID  trial     group hand age sex  Dial_Raw  Dial_Recon  \\\n",
       "0  XY13546991Od507     29  NoReward    R  23   F    90.000   76.738111   \n",
       "1  XY13546991Od507     29  NoReward    R  23   F   170.239   77.556314   \n",
       "\n",
       "   Target  Score  ...  Vrot Frame  Joint  xPos  yPos  zPos  rot  TargetVel  \\\n",
       "0  90.000    0.0  ...   NaN   NaN    NaN   NaN   NaN   NaN  NaN  41.170081   \n",
       "1  90.575    0.0  ...   NaN   NaN    NaN   NaN   NaN   NaN  NaN  39.317187   \n",
       "\n",
       "       DialVel   Lag  \n",
       "0  3790.742614 -10.0  \n",
       "1  2366.163154 -10.0  \n",
       "\n",
       "[2 rows x 25 columns]"
      ]
     },
     "execution_count": 59,
     "metadata": {},
     "output_type": "execute_result"
    }
   ],
   "source": [
    "df_all.head(2)"
   ]
  },
  {
   "cell_type": "markdown",
   "id": "08602d96-2d2b-4084-94b4-ef2211de40fb",
   "metadata": {},
   "source": [
    "### Plot example trials for thesis"
   ]
  },
  {
   "cell_type": "code",
   "execution_count": null,
   "id": "f84c3444-358b-42f1-83fc-233bc9346812",
   "metadata": {},
   "outputs": [],
   "source": [
    "ptxes = pd.unique(df_all['PtxID'])\n",
    "trials = pd.unique(df_all['trial'])\n",
    "joints = pd.unique(df_all['Joint'])"
   ]
  },
  {
   "cell_type": "code",
   "execution_count": null,
   "id": "8cbc57d9-5841-4d9f-b5ae-9fdd95d781b4",
   "metadata": {},
   "outputs": [],
   "source": [
    "ptxMask = (df_all['PtxID'] == ptxes[4]) & (df_all['trial'] == trials[12]) & (df_all['Joint'] == 'b_l_index1')"
   ]
  },
  {
   "cell_type": "code",
   "execution_count": null,
   "id": "32e1e008-5b22-4278-b3b8-beb168074432",
   "metadata": {},
   "outputs": [],
   "source": [
    "# print(joints)"
   ]
  },
  {
   "cell_type": "code",
   "execution_count": null,
   "id": "813198be",
   "metadata": {},
   "outputs": [],
   "source": [
    "plt.plot(df_all[ptxMask]['Dial_ReconF'])\n",
    "# plt.plot(df_all[ptxMask]['Dial_Recon'],'g')"
   ]
  },
  {
   "cell_type": "code",
   "execution_count": 180,
   "id": "1b39765f-6e01-4b0b-ad2e-e9589f31419c",
   "metadata": {},
   "outputs": [
    {
     "name": "stdout",
     "output_type": "stream",
     "text": [
      "Raw length:  (38958,)\n",
      "Raw length:  (38958,)\n",
      "Dial clean:  (890,)\n",
      "Target clean:  (890,)\n"
     ]
    }
   ],
   "source": [
    "dialData = df_all[ptxMask]['Dial_ReconF']\n",
    "targData = df_all[ptxMask]['TargetF']\n",
    "print('Raw length: ', np.shape(dialData))\n",
    "print('Raw length: ', np.shape(targData))\n",
    "\n",
    "dialDataCleaned = dialData[~numpy.isnan(dialData)]\n",
    "targDataCleaned = dialData[~numpy.isnan(targData)]\n",
    "\n",
    "print('Dial clean: ', np.shape(dialDataCleaned))\n",
    "print('Target clean: ', np.shape(targDataCleaned))\n"
   ]
  },
  {
   "cell_type": "code",
   "execution_count": 206,
   "id": "40555d3b-f1d5-412a-a895-a41872ca1f11",
   "metadata": {},
   "outputs": [
    {
     "data": {
      "text/plain": [
       "array([  0.        ,  18.16326531,  36.32653061,  54.48979592,\n",
       "        72.65306122,  90.81632653, 108.97959184, 127.14285714,\n",
       "       145.30612245, 163.46938776, 181.63265306, 199.79591837,\n",
       "       217.95918367, 236.12244898, 254.28571429, 272.44897959,\n",
       "       290.6122449 , 308.7755102 , 326.93877551, 345.10204082,\n",
       "       363.26530612, 381.42857143, 399.59183673, 417.75510204,\n",
       "       435.91836735, 454.08163265, 472.24489796, 490.40816327,\n",
       "       508.57142857, 526.73469388, 544.89795918, 563.06122449,\n",
       "       581.2244898 , 599.3877551 , 617.55102041, 635.71428571,\n",
       "       653.87755102, 672.04081633, 690.20408163, 708.36734694,\n",
       "       726.53061224, 744.69387755, 762.85714286, 781.02040816,\n",
       "       799.18367347, 817.34693878, 835.51020408, 853.67346939,\n",
       "       871.83673469, 890.        ])"
      ]
     },
     "execution_count": 206,
     "metadata": {},
     "output_type": "execute_result"
    }
   ],
   "source": [
    "xVals"
   ]
  },
  {
   "cell_type": "code",
   "execution_count": 215,
   "id": "aeeb3afb-1564-4e2f-a1db-d704244038c0",
   "metadata": {},
   "outputs": [
    {
     "data": {
      "text/plain": [
       "(-500.0, 500.0)"
      ]
     },
     "execution_count": 215,
     "metadata": {},
     "output_type": "execute_result"
    },
    {
     "data": {
      "image/png": "[encoded data removed]",
      "text/plain": [
       "<Figure size 432x288 with 1 Axes>"
      ]
     },
     "metadata": {
      "needs_background": "light"
     },
     "output_type": "display_data"
    }
   ],
   "source": [
    "\n",
    "\n",
    "trialDuration = 14\n",
    "sampleFreq = int(np.round(len(dialDataCleaned) / trialDuration))\n",
    "\n",
    "dialVelocity = savgol_filter(np.gradient(savgol_filter(dialDataCleaned,33,8)) / (1/sampleFreq), 23,8)\n",
    "\n",
    "xVals = np.linspace(0,len(dialDataCleaned),len(dialDataCleaned))\n",
    "\n",
    "\n",
    "# Plot\n",
    "plt.plot(xVals, targDataCleaned,'k',linewidth=8)\n",
    "plt.plot(xVals, dialDataCleaned,'y')\n",
    "plt.plot(xVals, dialVelocity,'r')\n",
    "plt.ylim([-500, 500])"
   ]
  },
  {
   "cell_type": "code",
   "execution_count": 63,
   "id": "e17b380b-0385-4159-8188-b9f98ec60d98",
   "metadata": {},
   "outputs": [],
   "source": [
    "mask = (df_all['PtxID'] == 'kL32782760pb805') &  (df_all['group'] == 'Reward')\n",
    "\n",
    "sns.histplot(x='Lag', data=df_all[mask])"
   ]
  },
  {
   "cell_type": "code",
   "execution_count": null,
   "id": "b401a998-2469-46e0-8eaf-b18f383f4285",
   "metadata": {},
   "outputs": [],
   "source": [
    "sns.pointplot(x = 'trial', y='Lag', hue='group', data=df_all)"
   ]
  },
  {
   "cell_type": "code",
   "execution_count": 186,
   "id": "e0631fc8-77fc-4c50-b2d1-78096a499b2b",
   "metadata": {},
   "outputs": [
    {
     "data": {
      "text/plain": [
       "<matplotlib.legend.Legend at 0x1214ce99790>"
      ]
     },
     "execution_count": 186,
     "metadata": {},
     "output_type": "execute_result"
    },
    {
     "data": {
      "image/png": "[encoded data removed]",
      "text/plain": [
       "<Figure size 432x288 with 1 Axes>"
      ]
     },
     "metadata": {
      "needs_background": "light"
     },
     "output_type": "display_data"
    }
   ],
   "source": [
    "sns.lineplot(y='Dial_ReconF', data=df_all[ptxMask], color='k')\n",
    "sns.lineplot(y='TargetF', data=df_all[ptxMask], color='r')\n",
    "plt.legend(['Target','Dial'])"
   ]
  },
  {
   "cell_type": "code",
   "execution_count": 183,
   "id": "046c1c72-43ce-4cad-983d-db1ded671798",
   "metadata": {},
   "outputs": [
    {
     "data": {
      "text/plain": [
       "<matplotlib.legend.Legend at 0x121cffd5580>"
      ]
     },
     "execution_count": 183,
     "metadata": {},
     "output_type": "execute_result"
    },
    {
     "data": {
      "image/png": "[encoded data removed]",
      "text/plain": [
       "<Figure size 432x288 with 1 Axes>"
      ]
     },
     "metadata": {
      "needs_background": "light"
     },
     "output_type": "display_data"
    }
   ],
   "source": [
    "sns.lineplot(x='Frame', y='Dial_Recon', data=df_all[ptxMask], color='k')\n",
    "sns.lineplot(x='Frame', y='Target', data=df_all[ptxMask], color='r')\n",
    "plt.legend(['Target','Dial'])"
   ]
  },
  {
   "cell_type": "markdown",
   "id": "fffd0fc8",
   "metadata": {},
   "source": [
    "#### *****************************************************\n",
    "#### ************* Fix Dial Angle Reader *****************\n",
    "#### *****************************************************"
   ]
  },
  {
   "cell_type": "code",
   "execution_count": 16,
   "id": "acd324a8",
   "metadata": {},
   "outputs": [
    {
     "ename": "NameError",
     "evalue": "name 'tmpDF2' is not defined",
     "output_type": "error",
     "traceback": [
      "\u001b[1;31m---------------------------------------------------------------------------\u001b[0m",
      "\u001b[1;31mNameError\u001b[0m                                 Traceback (most recent call last)",
      "\u001b[1;32m~\\AppData\\Local\\Temp/ipykernel_4556/1415941427.py\u001b[0m in \u001b[0;36m<module>\u001b[1;34m\u001b[0m\n\u001b[1;32m----> 1\u001b[1;33m \u001b[0mmask\u001b[0m \u001b[1;33m=\u001b[0m \u001b[1;33m(\u001b[0m\u001b[0mtmpDF2\u001b[0m\u001b[1;33m[\u001b[0m\u001b[1;34m'PtxID'\u001b[0m\u001b[1;33m]\u001b[0m \u001b[1;33m==\u001b[0m \u001b[1;34m'kL32782760pb805'\u001b[0m\u001b[1;33m)\u001b[0m \u001b[1;33m&\u001b[0m  \u001b[1;33m(\u001b[0m\u001b[0mtmpDF2\u001b[0m\u001b[1;33m[\u001b[0m\u001b[1;34m'group'\u001b[0m\u001b[1;33m]\u001b[0m \u001b[1;33m==\u001b[0m \u001b[1;34m'Reward'\u001b[0m\u001b[1;33m)\u001b[0m\u001b[1;33m\u001b[0m\u001b[1;33m\u001b[0m\u001b[0m\n\u001b[0m\u001b[0;32m      2\u001b[0m \u001b[0mdial\u001b[0m \u001b[1;33m=\u001b[0m \u001b[0mtmpDF2\u001b[0m\u001b[1;33m[\u001b[0m\u001b[0mmask\u001b[0m\u001b[1;33m]\u001b[0m\u001b[1;33m[\u001b[0m\u001b[1;34m'Dial'\u001b[0m\u001b[1;33m]\u001b[0m\u001b[1;33m.\u001b[0m\u001b[0mvalues\u001b[0m\u001b[1;33m\u001b[0m\u001b[1;33m\u001b[0m\u001b[0m\n\u001b[0;32m      3\u001b[0m \u001b[0mtarget\u001b[0m \u001b[1;33m=\u001b[0m \u001b[0mtmpDF2\u001b[0m\u001b[1;33m[\u001b[0m\u001b[0mmask\u001b[0m\u001b[1;33m]\u001b[0m\u001b[1;33m[\u001b[0m\u001b[1;34m'Target'\u001b[0m\u001b[1;33m]\u001b[0m\u001b[1;33m.\u001b[0m\u001b[0mvalues\u001b[0m\u001b[1;33m\u001b[0m\u001b[1;33m\u001b[0m\u001b[0m\n\u001b[0;32m      4\u001b[0m \u001b[1;33m\u001b[0m\u001b[0m\n\u001b[0;32m      5\u001b[0m \u001b[0mplt\u001b[0m\u001b[1;33m.\u001b[0m\u001b[0mplot\u001b[0m\u001b[1;33m(\u001b[0m\u001b[0mtarget\u001b[0m\u001b[1;33m,\u001b[0m\u001b[1;34m'k'\u001b[0m\u001b[1;33m,\u001b[0m\u001b[0mlinewidth\u001b[0m\u001b[1;33m=\u001b[0m\u001b[1;36m5\u001b[0m\u001b[1;33m)\u001b[0m\u001b[1;33m\u001b[0m\u001b[1;33m\u001b[0m\u001b[0m\n",
      "\u001b[1;31mNameError\u001b[0m: name 'tmpDF2' is not defined"
     ]
    }
   ],
   "source": [
    "mask = (tmpDF2['PtxID'] == 'kL32782760pb805') &  (tmpDF2['group'] == 'Reward')\n",
    "dial = tmpDF2[mask]['Dial'].values\n",
    "target = tmpDF2[mask]['Target'].values\n",
    "\n",
    "plt.plot(target,'k',linewidth=5)\n",
    "plt.plot(dial,'r')\n",
    "\n",
    "dialAnglef = savgol_filter(dialAngle, 19, 2)\n",
    "# plt.plot(dialAngle,'g')\n",
    "plt.plot(dialAnglef,'g')\n",
    "\n",
    "plt.legend(bbox_to_anchor=(1.05, 1.0), loc='upper right')\n",
    "plt.legend(['Target','Dial','Dial_Reconst.'])\n",
    "plt.tight_layout()\n",
    "plt.xlabel('Samples')\n",
    "plt.ylabel('Angle (degree)')\n",
    "\n",
    "plt.savefig(path + \"/Figures/\" + str(np.round(time.time())) + \"Dial_Reconstruction.png\", dpi = 600)\n",
    "\n",
    "print(tmpDF2[mask]['trial'].values)"
   ]
  },
  {
   "cell_type": "code",
   "execution_count": null,
   "id": "443f6521-27eb-42ae-8dfa-3456cd18c461",
   "metadata": {},
   "outputs": [],
   "source": []
  },
  {
   "cell_type": "code",
   "execution_count": 29,
   "id": "e9603fc0-c46a-46a5-aeb9-1fec2b3afc91",
   "metadata": {},
   "outputs": [],
   "source": [
    "df2 = df"
   ]
  },
  {
   "cell_type": "code",
   "execution_count": 30,
   "id": "a9b442a4",
   "metadata": {},
   "outputs": [
    {
     "ename": "TypeError",
     "evalue": "'NoneType' object is not subscriptable",
     "output_type": "error",
     "traceback": [
      "\u001b[1;31m---------------------------------------------------------------------------\u001b[0m",
      "\u001b[1;31mTypeError\u001b[0m                                 Traceback (most recent call last)",
      "\u001b[1;32m<ipython-input-30-fd4b76c35195>\u001b[0m in \u001b[0;36m<module>\u001b[1;34m\u001b[0m\n\u001b[0;32m      1\u001b[0m \u001b[1;31m# Testing on how to extract data from the files\u001b[0m\u001b[1;33m\u001b[0m\u001b[1;33m\u001b[0m\u001b[1;33m\u001b[0m\u001b[0m\n\u001b[1;32m----> 2\u001b[1;33m \u001b[0mmask\u001b[0m \u001b[1;33m=\u001b[0m \u001b[1;33m(\u001b[0m\u001b[0mdf2\u001b[0m\u001b[1;33m[\u001b[0m\u001b[1;34m'group'\u001b[0m\u001b[1;33m]\u001b[0m \u001b[1;33m==\u001b[0m \u001b[1;34m'Reward'\u001b[0m\u001b[1;33m)\u001b[0m \u001b[1;33m&\u001b[0m \u001b[1;33m(\u001b[0m\u001b[0mdf2\u001b[0m\u001b[1;33m[\u001b[0m\u001b[1;34m'PtxID'\u001b[0m\u001b[1;33m]\u001b[0m \u001b[1;33m==\u001b[0m \u001b[1;34m'rN464901337br235'\u001b[0m\u001b[1;33m)\u001b[0m \u001b[1;33m&\u001b[0m \u001b[1;33m(\u001b[0m\u001b[0mdf2\u001b[0m\u001b[1;33m[\u001b[0m\u001b[1;34m'index'\u001b[0m\u001b[1;33m]\u001b[0m \u001b[1;33m==\u001b[0m \u001b[1;34m'headPose'\u001b[0m\u001b[1;33m)\u001b[0m \u001b[1;33m&\u001b[0m \u001b[1;33m(\u001b[0m\u001b[0mdf2\u001b[0m\u001b[1;33m[\u001b[0m\u001b[1;34m'trial'\u001b[0m\u001b[1;33m]\u001b[0m \u001b[1;33m==\u001b[0m \u001b[1;34m'0'\u001b[0m\u001b[1;33m)\u001b[0m\u001b[1;33m\u001b[0m\u001b[1;33m\u001b[0m\u001b[0m\n\u001b[0m\u001b[0;32m      3\u001b[0m \u001b[0mval\u001b[0m \u001b[1;33m=\u001b[0m \u001b[0mdf2\u001b[0m\u001b[1;33m[\u001b[0m\u001b[0mmask\u001b[0m\u001b[1;33m]\u001b[0m\u001b[1;33m[\u001b[0m\u001b[1;36m0\u001b[0m\u001b[1;33m]\u001b[0m\u001b[1;33m.\u001b[0m\u001b[0mvalues\u001b[0m\u001b[1;33m\u001b[0m\u001b[1;33m\u001b[0m\u001b[0m\n\u001b[0;32m      4\u001b[0m \u001b[1;33m\u001b[0m\u001b[0m\n\u001b[0;32m      5\u001b[0m \u001b[0mvals\u001b[0m \u001b[1;33m=\u001b[0m \u001b[0mstr\u001b[0m\u001b[1;33m.\u001b[0m\u001b[0msplit\u001b[0m\u001b[1;33m(\u001b[0m\u001b[0mval\u001b[0m\u001b[1;33m[\u001b[0m\u001b[1;36m0\u001b[0m\u001b[1;33m]\u001b[0m\u001b[1;33m[\u001b[0m\u001b[1;36m2\u001b[0m\u001b[1;33m]\u001b[0m\u001b[1;33m,\u001b[0m\u001b[1;34m';'\u001b[0m\u001b[1;33m)\u001b[0m\u001b[1;33m\u001b[0m\u001b[1;33m\u001b[0m\u001b[0m\n",
      "\u001b[1;31mTypeError\u001b[0m: 'NoneType' object is not subscriptable"
     ]
    }
   ],
   "source": [
    "# Testing on how to extract data from the files \n",
    "mask = (df2['group'] == 'Reward') & (df2['PtxID'] == 'rN464901337br235') & (df2['index'] == 'headPose') & (df2['trial'] == '0')\n",
    "val = df2[mask][0].values\n",
    "\n",
    "vals = str.split(val[0][2],';') \n",
    "print(vals)\n",
    "float(vals[2])"
   ]
  },
  {
   "cell_type": "code",
   "execution_count": null,
   "id": "e2a30aea",
   "metadata": {},
   "outputs": [],
   "source": []
  },
  {
   "cell_type": "code",
   "execution_count": 31,
   "id": "a00d0de7",
   "metadata": {},
   "outputs": [
    {
     "name": "stdout",
     "output_type": "stream",
     "text": [
      "1615504136_sC242496828XM468_444_M_R_Reward_1008_50_41_1_.json\n"
     ]
    }
   ],
   "source": [
    "i = 1\n",
    "print(folderNames[i])\n",
    "dfs = pd.read_json(path + folderNames[i], orient='index')"
   ]
  },
  {
   "cell_type": "code",
   "execution_count": 32,
   "id": "15798a03",
   "metadata": {},
   "outputs": [
    {
     "data": {
      "text/html": [
       "<div>\n",
       "<style scoped>\n",
       "    .dataframe tbody tr th:only-of-type {\n",
       "        vertical-align: middle;\n",
       "    }\n",
       "\n",
       "    .dataframe tbody tr th {\n",
       "        vertical-align: top;\n",
       "    }\n",
       "\n",
       "    .dataframe thead th {\n",
       "        text-align: right;\n",
       "    }\n",
       "</style>\n",
       "<table border=\"1\" class=\"dataframe\">\n",
       "  <thead>\n",
       "    <tr style=\"text-align: right;\">\n",
       "      <th></th>\n",
       "      <th>0</th>\n",
       "    </tr>\n",
       "  </thead>\n",
       "  <tbody>\n",
       "    <tr>\n",
       "      <th>conditionInfo</th>\n",
       "      <td>sC242496828XM468_444_M_R_Reward_1008_50_41_1</td>\n",
       "    </tr>\n",
       "    <tr>\n",
       "      <th>headPose</th>\n",
       "      <td>[-0.387;14.638;-3.409;36.511;337.973;359.937, ...</td>\n",
       "    </tr>\n",
       "    <tr>\n",
       "      <th>handPose</th>\n",
       "      <td>[-0.564;14.964;-3.588;6.287;295.089;166.829, -...</td>\n",
       "    </tr>\n",
       "    <tr>\n",
       "      <th>fingData</th>\n",
       "      <td>[0;b_l_thumb1;-0.548;14.386;-3.126;337.061, 0;...</td>\n",
       "    </tr>\n",
       "    <tr>\n",
       "      <th>vfingData</th>\n",
       "      <td>[0;b_l_thumb1;-0.541;14.388;-3.123;340.665, 0;...</td>\n",
       "    </tr>\n",
       "    <tr>\n",
       "      <th>dialData</th>\n",
       "      <td>[90.000;89.695;62, 130.556;89.695;62, 130.556;...</td>\n",
       "    </tr>\n",
       "    <tr>\n",
       "      <th>trialTime</th>\n",
       "      <td>[0.000, 0.017, 0.033, 0.050, 0.066, 0.083, 0.1...</td>\n",
       "    </tr>\n",
       "  </tbody>\n",
       "</table>\n",
       "</div>"
      ],
      "text/plain": [
       "                                                               0\n",
       "conditionInfo       sC242496828XM468_444_M_R_Reward_1008_50_41_1\n",
       "headPose       [-0.387;14.638;-3.409;36.511;337.973;359.937, ...\n",
       "handPose       [-0.564;14.964;-3.588;6.287;295.089;166.829, -...\n",
       "fingData       [0;b_l_thumb1;-0.548;14.386;-3.126;337.061, 0;...\n",
       "vfingData      [0;b_l_thumb1;-0.541;14.388;-3.123;340.665, 0;...\n",
       "dialData       [90.000;89.695;62, 130.556;89.695;62, 130.556;...\n",
       "trialTime      [0.000, 0.017, 0.033, 0.050, 0.066, 0.083, 0.1..."
      ]
     },
     "execution_count": 32,
     "metadata": {},
     "output_type": "execute_result"
    }
   ],
   "source": [
    "dfs"
   ]
  },
  {
   "cell_type": "code",
   "execution_count": 35,
   "id": "eadd85e6",
   "metadata": {},
   "outputs": [],
   "source": [
    "df_all = df_all.reset_index()"
   ]
  },
  {
   "cell_type": "code",
   "execution_count": 36,
   "id": "944e4476",
   "metadata": {},
   "outputs": [
    {
     "data": {
      "text/plain": [
       "[<matplotlib.lines.Line2D at 0x223b688fe50>]"
      ]
     },
     "execution_count": 36,
     "metadata": {},
     "output_type": "execute_result"
    },
    {
     "data": {
      "image/png": "[encoded data removed]",
      "text/plain": [
       "<Figure size 432x288 with 1 Axes>"
      ]
     },
     "metadata": {
      "needs_background": "light"
     },
     "output_type": "display_data"
    }
   ],
   "source": [
    "mask = (df_all['Joint'] == \"b_l_pinky1\")\n",
    "plt.plot(df_all[mask]['rot'])"
   ]
  },
  {
   "cell_type": "code",
   "execution_count": null,
   "id": "ea4ff32c-1f46-4039-a600-83e6ae82a218",
   "metadata": {},
   "outputs": [],
   "source": []
  },
  {
   "cell_type": "code",
   "execution_count": null,
   "id": "b4e47366-a926-4b96-b52e-48d37aa93668",
   "metadata": {},
   "outputs": [],
   "source": []
  },
  {
   "cell_type": "code",
   "execution_count": null,
   "id": "11a5923b-f914-40c3-8cfd-e0fd365c87fb",
   "metadata": {},
   "outputs": [],
   "source": []
  },
  {
   "cell_type": "code",
   "execution_count": null,
   "id": "8d73771e-d513-4e3d-8db1-3d86a140e2a0",
   "metadata": {},
   "outputs": [],
   "source": []
  },
  {
   "cell_type": "markdown",
   "id": "17f653e0-14f2-4acc-b1bb-0ffa5dcb2fd4",
   "metadata": {},
   "source": [
    "# Old Code"
   ]
  },
  {
   "cell_type": "code",
   "execution_count": null,
   "id": "95da2bb1",
   "metadata": {},
   "outputs": [],
   "source": [
    "# frame = { 'headPose': dfs.loc['headPose'].values[0], \n",
    "#          'handPose': dfs.loc['headPose'].values[0],\n",
    "#         'fingData': dfs.loc['fingData'].values[0],\n",
    "#         'vfingData': dfs.loc['vfingData'].values[0],\n",
    "#         'dialData': dfs.loc['dialData'].values[0],\n",
    "#         'trialTime': dfs.loc['trialTime'].values[0],}\n",
    "  \n",
    "# df_all = pd.DataFrame(frame)\n",
    "\n",
    "# df_all"
   ]
  },
  {
   "cell_type": "code",
   "execution_count": 34,
   "id": "72732803",
   "metadata": {},
   "outputs": [],
   "source": [
    "# # Extract pose data from each of the metrics \n",
    "# frame = []\n",
    "# joint = []\n",
    "# xPos = []\n",
    "# yPos = []\n",
    "# zPos = []\n",
    "# rot = []\n",
    "# for i in np.arange(len(dfs.loc['fingData'].values[0])):\n",
    "#     metricParts = str.split(dfs.loc['fingData'].values[0][i],';')\n",
    "#     frame.append(metricParts[0])\n",
    "#     joint.append(metricParts[1])\n",
    "#     xPos.append(metricParts[2])\n",
    "#     yPos.append(metricParts[3])\n",
    "#     zPos.append(metricParts[4])\n",
    "#     rot.append(metricParts[5])\n",
    "\n",
    "# data = {'Fame' : frame,\n",
    "#        'Joint' : joint,\n",
    "#        'xPos' : xPos,\n",
    "#        'yPos' : yPos,\n",
    "#        'zPos' : zPos,\n",
    "#        'rot' : rot,}\n",
    "\n",
    "# df_allTest = pd.DataFrame(data)\n",
    "\n",
    "# df_allTest"
   ]
  },
  {
   "cell_type": "code",
   "execution_count": null,
   "id": "a83d46c9",
   "metadata": {},
   "outputs": [],
   "source": [
    "# import numpy as np\n",
    "# import matplotlib.pyplot as plt\n",
    "# import pandas as pd\n",
    "\n",
    "# f =open(\"1610062712_Qm559862102iI716_44_M_R__NoReward_1018_165_4.txt\")\n",
    "\n",
    "# # convert the file object to a list so one can work on it \n",
    "# mylist = [line.rstrip('\\n') for line in f] \n",
    "\n",
    "# # convert the list to a long string \n",
    "# d = str()\n",
    "# for i in range(len(mylist)):\n",
    "#     d += mylist[i]\n",
    "    \n",
    "# numVars = 8\n",
    "# # Separate the string into the different variables (;)\n",
    "# variables = d.split(\";\")\n",
    "\n",
    "\n",
    "# # This part is for loading the fingers\n",
    "# numFingers = 16\n",
    "# frameRate = 60.24096\n",
    "# trialDuration = 15\n",
    "# numAxis = 4\n",
    "# fingerNames = ['tmb1','tmb2','tmb3',\n",
    "#                'idx1','idx2','idx3',\n",
    "#                'mid1','mid2','mid3',\n",
    "#                'rng1','rng2','rng3',\n",
    "#                'pnk1','pnk2','pnk3', 'wrist']\n",
    "\n",
    "# allFingDF = None \n",
    "# allData = None \n",
    "\n",
    "# fingerPoses = variables[3].split(\":\") # Separate the different frames (:)\n",
    "\n",
    "# # Loopify this part later on to go through all the frames and fingers ...\n",
    "# for fx in range(len(fingerPoses)):\n",
    "    \n",
    "#     if len(fingerPoses[fx]) > 470:\n",
    "        \n",
    "#         indifings = fingerPoses[fx].split(\"|\")\n",
    "#         fings = str().join(indifings).split(\",\")\n",
    "\n",
    "#         fingX = 0.0\n",
    "#         fingY = 0.0\n",
    "#         fingZ = 0.0\n",
    "#         fingR = 0.0\n",
    "\n",
    "#         j = 0\n",
    "#         fc = 0\n",
    "#         for i in range(len(fings)-1): # Go through each finger (16) and each axis (4) = 64 data points per frame \n",
    "            \n",
    "#             if j == 0:\n",
    "#                 fingX = float(fings[i+1])\n",
    "#             elif j == 1:\n",
    "#                 fingY = float(fings[i+1])\n",
    "#             elif j == 2:\n",
    "#                 fingZ = float(fings[i+1])\n",
    "#             elif j == 3:\n",
    "#                 fingR = float(fings[i+1])\n",
    "            \n",
    "            \n",
    "#             j = j+1\n",
    "#             if j > 3:\n",
    "#                 tmpResampled = [[fingX,fingY,fingZ,fingR]]\n",
    "#                 tmpRes = pd.DataFrame(tmpResampled,columns=['Fx','Fy','Fz','Fr'])\n",
    "#                 tmpRes.insert(0, \"Participant_ID\", variables[0] , True) # Add participant id to dataframe\n",
    "#                 tmpRes.insert(0, \"Trial\", variables[2] , True) # Add trial number to dataframe\n",
    "                \n",
    "#                 try:\n",
    "#                     fingerNameArr = fingerNames[fc]\n",
    "#                     tmpRes.insert(0, \"Digit\", fingerNameArr, True) # Add digit name to dataframe\n",
    "#                 except Exception as e: \n",
    "#                     print(e)\n",
    "                    \n",
    "#                 tmpRes.insert(0, \"Frame\", fx, True)\n",
    "                \n",
    "#                 if allFingDF is None: \n",
    "#                     allFingDF = tmpRes\n",
    "#                 else:\n",
    "#                     allFingDF = pd.concat((allFingDF, tmpRes))\n",
    "                    \n",
    "#                 j = 0\n",
    "#                 fc = fc+1\n",
    "\n",
    "\n",
    "# # Plot\n",
    "# xval = np.arange(len(allFingDF[allFingDF[\"Digit\"] == \"tmb1\"].Fx))\n",
    "# trialTime = len(allFingDF[allFingDF[\"Digit\"] == \"tmb1\"].Fx)/frameRate\n",
    "# timeVals = np.linspace(0.0,trialTime,len(xval))\n",
    "\n",
    "# plt.plot(timeVals,allFingDF[allFingDF[\"Digit\"] == \"idx1\"].Fr,'r')\n",
    "# plt.plot(timeVals,allFingDF[allFingDF[\"Digit\"] == \"idx2\"].Fr,'g')\n",
    "# plt.plot(timeVals,allFingDF[allFingDF[\"Digit\"] == \"idx3\"].Fr,'b')\n",
    "# plt.legend(['Dist','Midial','Prox'])\n",
    "\n",
    "# plt.xlabel(\"Time / s\")\n",
    "# plt.ylabel(\"Joint Bend Angle / degrees\")\n",
    "# plt.title(\"Proximal Index Joint\")\n",
    "# plt.ylim([250.0, 360.0])\n",
    "\n",
    "\n",
    "\n",
    "# # This part is for loading everything else\n",
    "# allData = None \n",
    "\n",
    "# armPoses = variables[4].split(\":\") # Separate the different frames (:)\n",
    "# headPoses = variables[5].split(\":\") # Separate the different frames (:)\n",
    "# dialInfo = variables[6].split(\":\") # Separate the different frames (:)\n",
    "\n",
    "# armX, armY, armZ, armRx, armRy, armRz = 0.0, 0.0, 0.0, 0.0, 0.0, 0.0\n",
    "# headX, headY, headZ, headRx, headRy, headRz = 0.0, 0.0, 0.0, 0.0, 0.0, 0.0\n",
    "# dialAngle, targetAngle, Score = 0.0, 0.0, 0.0\n",
    "\n",
    "# # Loopify this part later on to go through all the frames and fingers ...\n",
    "# for fx in range(len(armPoses)):\n",
    "    \n",
    "#     if len(armPoses[fx]) > 40:\n",
    "        \n",
    "#         # Other data start -------------------------\n",
    "#         arms = str().join(armPoses[fx]).split(\",\")\n",
    "#         heads = str().join(headPoses[fx]).split(\",\")\n",
    "#         dial = str().join(dialInfo[fx]).split(\",\")\n",
    "        \n",
    "#         try:\n",
    "#             armX = arms[1]\n",
    "#             armY = arms[2]\n",
    "#             armZ = arms[3]\n",
    "#             armRx = arms[4]\n",
    "#             armRy = arms[5]\n",
    "#             armRz = arms[6]\n",
    "            \n",
    "#             headX = heads[1]\n",
    "#             headY = heads[2]\n",
    "#             headZ = heads[3]\n",
    "#             headRx = heads[4]\n",
    "#             headRy = heads[5]\n",
    "#             headRz = heads[6]\n",
    "            \n",
    "#             dialAngle = dial[1]\n",
    "#             targetAngle = dial[2]\n",
    "#             Score = dial[3]\n",
    "            \n",
    "#             tmpAccumulated = [[armX,armY,armZ,armRx,armRy,armRz, \n",
    "#                                headX,headY,headZ,headRx,headRy,headRz,\n",
    "#                                dialAngle,targetAngle,Score]]\n",
    "#             tmpDats = pd.DataFrame(tmpAccumulated,columns=['armFx','armFy','armFz','armFRx','armFRy','armFRz',\n",
    "#                                                            'headFx','headFy','headFz','headFRx','headFRy','headFRz',\n",
    "#                                                            'DialAngle','TargetAngle','Score'])\n",
    "            \n",
    "#             tmpDats.insert(0, \"Participant_ID\", variables[0] , True) # Add participant id to dataframe\n",
    "#             tmpDats.insert(0, \"Trial\", variables[2] , True) # Add trial number to dataframe\n",
    "#             tmpDats.insert(0, \"Frame\", fx, True)\n",
    "\n",
    "#             if allFingDF is None: \n",
    "#                 allData = tmpDats\n",
    "#             else:\n",
    "#                 allData = pd.concat((allData, tmpDats))\n",
    "        \n",
    "#         except Exception as e:\n",
    "#             print(\"Something went wrong: \", e)\n",
    "#         # Other data end -------------------------\n",
    "\n",
    "# # Plot\n",
    "# xval = np.arange(len(allData.headFx))\n",
    "# trialTime = len(allData.headFx)/frameRate\n",
    "# timeVals = np.linspace(0.0,trialTime,len(xval))\n",
    "\n",
    "# plt.plot(timeVals,allData.DialAngle,'r')\n",
    "# plt.plot(timeVals,allData.TargetAngle,'g')\n",
    "# plt.plot(timeVals,allData.Score,'b')\n",
    "# plt.legend(['Dial','Target','Score'])\n",
    "# # plt.legend(['Dial','Target'])\n",
    "\n",
    "# plt.xlabel(\"Time / s\")\n",
    "# plt.ylabel(\"Dial-Target / Degrees\")\n",
    "# plt.title(\"Performance\")"
   ]
  },
  {
   "cell_type": "code",
   "execution_count": null,
   "id": "6e2e5240",
   "metadata": {},
   "outputs": [],
   "source": []
  },
  {
   "cell_type": "code",
   "execution_count": null,
   "id": "e6181865",
   "metadata": {},
   "outputs": [],
   "source": []
  },
  {
   "cell_type": "code",
   "execution_count": null,
   "id": "c0f5b4ee",
   "metadata": {},
   "outputs": [],
   "source": []
  },
  {
   "cell_type": "code",
   "execution_count": null,
   "id": "f20b5253",
   "metadata": {},
   "outputs": [],
   "source": []
  }
 ],
 "metadata": {
  "kernelspec": {
   "display_name": "Python 3 (ipykernel)",
   "language": "python",
   "name": "python3"
  },
  "language_info": {
   "codemirror_mode": {
    "name": "ipython",
    "version": 3
   },
   "file_extension": ".py",
   "mimetype": "text/x-python",
   "name": "python",
   "nbconvert_exporter": "python",
   "pygments_lexer": "ipython3",
   "version": "3.9.7"
  }
 },
 "nbformat": 4,
 "nbformat_minor": 5
}
