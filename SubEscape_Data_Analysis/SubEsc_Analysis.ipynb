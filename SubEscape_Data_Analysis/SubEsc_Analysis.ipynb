{
 "cells": [
  {
   "cell_type": "code",
   "execution_count": 64,
   "metadata": {},
   "outputs": [],
   "source": [
    "import numpy as np\n",
    "import numpy.linalg\n",
    "import matplotlib.pyplot as plt\n",
    "import pandas as pd\n",
    "import os\n",
    "import random\n",
    "from scipy.optimize import curve_fit\n",
    "from scipy.stats import norm\n",
    "from scipy.ndimage import interpolation\n",
    "from statsmodels.stats.anova import AnovaRM\n",
    "import time\n",
    "import sys\n",
    "import math\n",
    "import pylab as py\n",
    "from scipy.signal import savgol_filter\n",
    "from scipy.signal import find_peaks\n",
    "import scipy.stats as sci \n",
    "import seaborn as sns\n",
    "import statannot\n",
    "import json\n",
    "from scipy import signal\n",
    "\n",
    "from statannot import add_stat_annotation\n",
    "\n",
    "# sns.set_style(style='whitegrid')"
   ]
  },
  {
   "cell_type": "code",
   "execution_count": 86,
   "metadata": {},
   "outputs": [
    {
     "name": "stdout",
     "output_type": "stream",
     "text": [
      "H:\\Project\\SubEscape\\SubEscape_Data_Analysis\n",
      "H:\\Project\\SubEscape\\SubEscape_Data_Analysis/Figure/\n"
     ]
    }
   ],
   "source": [
    "import os\n",
    "path = os.getcwd() \n",
    "print(path)\n",
    "path2Figures = path + '/Figure/'\n",
    "print(path2Figures)"
   ]
  },
  {
   "cell_type": "code",
   "execution_count": 5,
   "metadata": {},
   "outputs": [],
   "source": [
    "import Files2DataFrame as f2d"
   ]
  },
  {
   "cell_type": "code",
   "execution_count": 6,
   "metadata": {},
   "outputs": [],
   "source": [
    "%load_ext autoreload\n",
    "%autoreload 2"
   ]
  },
  {
   "cell_type": "markdown",
   "metadata": {},
   "source": [
    "## Functions"
   ]
  },
  {
   "cell_type": "code",
   "execution_count": 7,
   "metadata": {},
   "outputs": [],
   "source": [
    "def GetAng(a,b,c):\n",
    "    ang = math.degrees(math.atan2(c[1] - b[1], c[0] - b[0]) - math.atan2(a[1] - b[1], a[0] - b[0]))\n",
    "    return 360 - (ang + 360 if ang < 0 else ang)"
   ]
  },
  {
   "cell_type": "code",
   "execution_count": 8,
   "metadata": {},
   "outputs": [],
   "source": [
    "def ResizeArray(data, newSize):\n",
    "    x = data\n",
    "    i = newSize\n",
    "\n",
    "    lenX = len(x)\n",
    "\n",
    "    if lenX == 0:\n",
    "        lenX = 1\n",
    "        z = i / lenX\n",
    "    else:\n",
    "        z = i / lenX\n",
    "        x_int = interpolation.zoom(x,z)\n",
    "\n",
    "    return x_int"
   ]
  },
  {
   "cell_type": "code",
   "execution_count": 9,
   "metadata": {},
   "outputs": [],
   "source": [
    "def ReadFiles(path, files):\n",
    "    # Define data frame variable\n",
    "    df = None \n",
    "    startTime = time.time()\n",
    "  \n",
    "    print('Number of files: ', len(files))\n",
    "    \n",
    "    # Load each file into the data frame \n",
    "    for i in range(len(files)): \n",
    "    \n",
    "        if \".json\" in files[i] and \"Phase\" in files[i] and \"QNumber\" not in files[i]:    \n",
    "        # if \"txt.json\" in files[i] and \"Phase\" in files[i]:\n",
    "              # print(files[i])\n",
    "\n",
    "            # elapsedTime = time.time() - startTime\n",
    "            # print('Time passed: ', np.round(elapsedTime), '\\t sec \\r')\n",
    "\n",
    "            # Extract file name info and add to the dataframe \n",
    "            fileWords = files[i].split(\"_\")\n",
    "\n",
    "            # Extract phase \n",
    "            idx = fileWords.index(\"Phase\")\n",
    "            phase = fileWords[idx + 1]\n",
    "\n",
    "            # Extract user ID \n",
    "            idx = fileWords.index(\"trial\")\n",
    "            userID = fileWords[idx - 1]\n",
    "\n",
    "            # Add trial number to data frame \n",
    "            try:\n",
    "#                 print('Path and File: ', [path + '/' + files[i]])\n",
    "                tmpDF = pd.read_json(path + '/' + files[i])\n",
    "                tmpDF.insert(0, \"Phase\", phase, True)\n",
    "                tmpDF.insert(0, \"UserID\", userID, True)\n",
    "\n",
    "                if df is None:\n",
    "                    df = tmpDF\n",
    "                else:\n",
    "                    df = pd.concat((df, tmpDF))\n",
    "            except Exception as e:\n",
    "                print('My_Err: ', e)\n",
    "    return df"
   ]
  },
  {
   "cell_type": "code",
   "execution_count": 10,
   "metadata": {},
   "outputs": [],
   "source": [
    "def translate(value, leftMin, leftMax, rightMin, rightMax):\n",
    "    # Figure out how 'wide' each range is\n",
    "    leftSpan = leftMax - leftMin\n",
    "    rightSpan = rightMax - rightMin\n",
    "\n",
    "    # Convert the left range into a 0-1 range (float)\n",
    "    valueScaled = float(value - leftMin) / float(leftSpan)\n",
    "\n",
    "    # Convert the 0-1 range into a value in the right range.\n",
    "    return rightMin + (valueScaled * rightSpan)"
   ]
  },
  {
   "cell_type": "code",
   "execution_count": 11,
   "metadata": {},
   "outputs": [],
   "source": [
    "def unique(list1):\n",
    " \n",
    "    # initialize a null list\n",
    "    unique_list = []\n",
    "     \n",
    "    # traverse for all elements\n",
    "    for x in list1:\n",
    "        # check if exists in unique_list or not\n",
    "        if x not in unique_list:\n",
    "            unique_list.append(x)\n",
    "\n",
    "#     print list\n",
    "#     for x in unique_list:\n",
    "#         print (x)\n",
    "\n",
    "    return unique_list"
   ]
  },
  {
   "cell_type": "code",
   "execution_count": 12,
   "metadata": {},
   "outputs": [],
   "source": [
    "def Extract_DialAngle(dataFrame):\n",
    "    \n",
    "    tmpDF = dataFrame #pd.read_json(path + f, orient='index')\n",
    "\n",
    "    # Extract pose data from each of the metrics \n",
    "    dial = []\n",
    "    target = []\n",
    "    score = []\n",
    "\n",
    "    # tmpDF.loc['dialData'].values[0][i]\n",
    "    for i in tmpDF.loc['dialData'].values[0]: \n",
    "        metricParts = str.split(i,';')\n",
    "        dial.append(float(metricParts[0]))\n",
    "        target.append(float(metricParts[1]))\n",
    "        score.append(float(metricParts[2]))\n",
    "\n",
    "    data = {'Dial_Raw' : dial,\n",
    "           'Target' : target,\n",
    "           'Score' : score,}\n",
    "\n",
    "    tmpDF2 = pd.DataFrame(data)\n",
    "#     tmpDF2.insert(0,'PtxID',ptxIDs)\n",
    "#     tmpDF2.insert(1,'trial',trial)\n",
    "#     tmpDF2.insert(2,'group',group)\n",
    "#     tmpDF2.insert(3,'hand',hand)\n",
    "#     tmpDF2.insert(4,'age',age)\n",
    "#     tmpDF2.insert(5,'sex',sex)\n",
    "\n",
    "    return tmpDF2"
   ]
  },
  {
   "cell_type": "code",
   "execution_count": 13,
   "metadata": {},
   "outputs": [],
   "source": [
    "def Extract_FingerData(dataFrame, fingerType):\n",
    "    \n",
    "    tmpDF = dataFrame\n",
    "    frameColumns = []\n",
    "    \n",
    "    if 'virtual' in fingerType:\n",
    "        fingerType = 'vfingData' \n",
    "        frameColumns = ['VFrame','VJoint','VxPos','VyPos','VzPos','Vrot']\n",
    "    else:\n",
    "        fingerType = 'fingData'\n",
    "        frameColumns = ['Frame','Joint','xPos','yPos','zPos','rot']\n",
    "    \n",
    "    # Extract finger data ----------------------------------------\n",
    "    frame = []\n",
    "    joint = []\n",
    "    xPos = []\n",
    "    yPos = []\n",
    "    zPos = []\n",
    "    rot = [] \n",
    "    for i in np.arange(len(tmpDF.loc[fingerType].values[0])):\n",
    "        metricParts = str.split(tmpDF.loc[fingerType].values[0][i],';')\n",
    "        frame.append(int(metricParts[0]))\n",
    "        joint.append(metricParts[1])\n",
    "        xPos.append(float(metricParts[2]))\n",
    "        yPos.append(float(metricParts[3]))\n",
    "        zPos.append(float(metricParts[4]))\n",
    "        rot.append(float(metricParts[5]))\n",
    "\n",
    "    data2 = {frameColumns[0] : frame,\n",
    "           frameColumns[1] : joint,\n",
    "           frameColumns[2] : xPos,\n",
    "           frameColumns[3] : yPos,\n",
    "           frameColumns[4] : zPos,\n",
    "           frameColumns[5] : rot,}\n",
    "\n",
    "    tmpDF3 = pd.DataFrame(data2)\n",
    "    \n",
    "    return tmpDF3"
   ]
  },
  {
   "cell_type": "markdown",
   "metadata": {},
   "source": [
    "### Reconstruct dial angle "
   ]
  },
  {
   "cell_type": "code",
   "execution_count": 14,
   "metadata": {},
   "outputs": [],
   "source": [
    "def DialAngleRecon(df_all, fingerType):\n",
    "    \n",
    "    jointsOfInterest = ['b_l_thumb1', 'b_l_thumb2', 'b_l_thumb3',\n",
    "                    'b_l_index1', 'b_l_index2', 'b_l_index3',\n",
    "                    'b_l_middle1', 'b_l_middle2', 'b_l_middle3',\n",
    "                    'b_l_ring1', 'b_l_ring2', 'b_l_ring3',\n",
    "                    'b_l_pinky1', 'b_l_pinky2', 'b_l_pinky3',\n",
    "                    'b_l_wrist']\n",
    "\n",
    "    childJoints = jointsOfInterest[:-1]\n",
    "    graphData = False\n",
    "\n",
    "    invX = 0\n",
    "    invY = 0\n",
    "    invZ = 0\n",
    "\n",
    "    # Reconstruct Original Dial Angles from relative finger joints and wrist positions \n",
    "    for j in childJoints:\n",
    "        \n",
    "        if 'virtual' in fingerType:\n",
    "            mask = (df_all['VJoint'] == j)\n",
    "            maskWrist = (df_all['VJoint'] == jointsOfInterest[-1]) \n",
    "\n",
    "            invX +=  np.sqrt((df_all[mask]['VxPos'].values - df_all[maskWrist]['VxPos'].values) ** 2)\n",
    "            invY +=  np.sqrt((df_all[mask]['VyPos'].values - df_all[maskWrist]['VyPos'].values) ** 2)\n",
    "            invZ +=  np.sqrt((df_all[mask]['VzPos'].values - df_all[maskWrist]['VzPos'].values) ** 2)\n",
    "        else:\n",
    "            mask = (df_all['Joint'] == j)\n",
    "            maskWrist = (df_all['Joint'] == jointsOfInterest[-1]) \n",
    "\n",
    "            invX +=  np.sqrt((df_all[mask]['xPos'].values - df_all[maskWrist]['xPos'].values) ** 2)\n",
    "            invY +=  np.sqrt((df_all[mask]['yPos'].values - df_all[maskWrist]['yPos'].values) ** 2)\n",
    "            invZ +=  np.sqrt((df_all[mask]['zPos'].values - df_all[maskWrist]['zPos'].values) ** 2)\n",
    "\n",
    "            \n",
    "    cA_Temp = np.nansum([invX * 0.067, (invY * 0.067)], axis=0)\n",
    "    currentAngle = np.nansum([cA_Temp, (invZ * 0.067)], axis=0)\n",
    "\n",
    "    leftMin = np.nanmin(currentAngle) # leftMin = 0.045\n",
    "    leftMax = np.nanmax(currentAngle) # leftMax = 0.115\n",
    "    dialAngleRecon = []\n",
    "\n",
    "    for cA in currentAngle:\n",
    "        dialAngleRecon.append(translate(cA, leftMin, leftMax, 0.1, 179.9))\n",
    "\n",
    "    dialAngleRecon = [i + 7.5 for i in dialAngleRecon] # Add offset value of 7.5 degrees to the reconstructed dial angle to match the original Unity environment and script (see MoveDial.cs)\n",
    "\n",
    "    return dialAngleRecon\n",
    "\n",
    "# Original Unity app code for reference ----------------------------------------------------\n",
    "# Vector3 currentHandData = new Vector3();--------------------------------------------------\n",
    "# for (int i = 0; i < virtualDigits.Length - 1; i++)----------------------------------------\n",
    "# {-----------------------------------------------------------------------------------------\n",
    "#-----currentHandData += virtualDigits[16].InverseTransformPoint(virtualDigits[i].position);\n",
    "# }{----------------------------------------------------------------------------------------\n",
    "# float currentAngle = (currentHandData.x * 0.067f) +---------------------------------------\n",
    "#----------------(currentHandData.y * 0.067f) +---------------------------------------------\n",
    "#----------------(currentHandData.z * 0.067f);----------------------------------------------\n",
    "# currentAngle = Mathf.Abs(currentAngle);---------------------------------------------------"
   ]
  },
  {
   "cell_type": "markdown",
   "metadata": {},
   "source": [
    "### Curve fitting functions"
   ]
  },
  {
   "cell_type": "code",
   "execution_count": null,
   "metadata": {},
   "outputs": [],
   "source": []
  },
  {
   "cell_type": "markdown",
   "metadata": {},
   "source": [
    "## Main  \n",
    "This cell below extracts all the relevant data to create the main dataframe  "
   ]
  },
  {
   "cell_type": "code",
   "execution_count": 15,
   "metadata": {},
   "outputs": [],
   "source": [
    "# path = \"H:/Project/SubEscape/SubEscape_Data_Analysis/Data_Subset/\"\n",
    "# path = \"C:/Users/ObiPC/Documents/Projects/SubEscape/SubEscape_Data_Analysis/Data_Subset/\"\n",
    "# path = \"D:/Projects/Github/SubEscape/SubEscape_Data_Analysis/Data_Subset/\"\n",
    "# path = \"G:/Diar SSD/Projects/GitHub/SubEscape/SubEscape_Data_Analysis/Data_Subset/\"\n",
    "# path = \"C:/Users/PC/Documents/Projects/Github/SubEscape/SubEscape_Data_Analysis/Data_Subset/\""
   ]
  },
  {
   "cell_type": "code",
   "execution_count": null,
   "metadata": {},
   "outputs": [],
   "source": [
    "    "
   ]
  },
  {
   "cell_type": "markdown",
   "metadata": {},
   "source": [
    "## Multiprocessing"
   ]
  },
  {
   "cell_type": "code",
   "execution_count": 16,
   "metadata": {},
   "outputs": [],
   "source": [
    "# import multiprocessing as mp\n",
    "import Files2DataFrame as f2d"
   ]
  },
  {
   "cell_type": "code",
   "execution_count": 17,
   "metadata": {},
   "outputs": [
    {
     "data": {
      "text/plain": [
       "387420489"
      ]
     },
     "execution_count": 17,
     "metadata": {},
     "output_type": "execute_result"
    }
   ],
   "source": [
    "f2d.my_func(9)"
   ]
  },
  {
   "cell_type": "code",
   "execution_count": 18,
   "metadata": {},
   "outputs": [
    {
     "name": "stdout",
     "output_type": "stream",
     "text": [
      "The autoreload extension is already loaded. To reload it, use:\n",
      "  %reload_ext autoreload\n"
     ]
    }
   ],
   "source": [
    "%load_ext autoreload\n",
    "%autoreload 2"
   ]
  },
  {
   "cell_type": "code",
   "execution_count": 21,
   "metadata": {},
   "outputs": [],
   "source": [
    "# pathOuside = \"G:/Diar SSD/Projects/GitHub/\"\n",
    "# pathOuside = \"K:/Diar SSD/Projects/GitHub/\"\n",
    "# pathOuside = \"H:/Project/\"\n",
    "# pathOuside = \"C:/Users/PC/Documents/Projects/Github/\"\n",
    "\n",
    "pathOuside = \"C:/Users/DanHQ/OneDrive/Projects/Pickle_Files_DataFrames/SubEscape_Frames/\""
   ]
  },
  {
   "cell_type": "code",
   "execution_count": null,
   "metadata": {},
   "outputs": [],
   "source": [
    "df_all = pd.read_pickle(pathOuside + \"1648778067.0Sub_Raw_DataFrame_1.pkl\")\n",
    "tmp = pd.read_pickle(pathOuside + \"1648778121.0Sub_Raw_DataFrame_2.pkl\")\n",
    "df_all = pd.concat((df_all, tmp))\n",
    "tmp = pd.read_pickle(pathOuside + \"1648778188.0Sub_Raw_DataFrame_3.pkl\")\n",
    "df_all = pd.concat((df_all, tmp))"
   ]
  },
  {
   "cell_type": "code",
   "execution_count": 18,
   "metadata": {},
   "outputs": [
    {
     "data": {
      "text/plain": [
       "['H:/Project/SubEscape/SubEscape_Data_Analysis/Data_Subset/path_1/',\n",
       " 'H:/Project/SubEscape/SubEscape_Data_Analysis/Data_Subset/path_2/',\n",
       " 'H:/Project/SubEscape/SubEscape_Data_Analysis/Data_Subset/path_3/']"
      ]
     },
     "execution_count": 18,
     "metadata": {},
     "output_type": "execute_result"
    }
   ],
   "source": [
    "# x = [6,3,54]\n",
    "path1 = \"H:/Project/SubEscape/SubEscape_Data_Analysis/Data_Subset/path_1/\"\n",
    "path2 = \"H:/Project/SubEscape/SubEscape_Data_Analysis/Data_Subset/path_2/\"\n",
    "path3 = \"H:/Project/SubEscape/SubEscape_Data_Analysis/Data_Subset/path_3/\"\n",
    "# path4 = \"H:/Project/SubEscape/SubEscape_Data_Analysis/Data_Subset/path_4/\"\n",
    "# path5 = \"H:/Project/SubEscape/SubEscape_Data_Analysis/Data_Subset/path_5/\"\n",
    "# path6 = \"H:/Project/SubEscape/SubEscape_Data_Analysis/Data_Subset/path_6/\"\n",
    "# path7 = \"H:/Project/SubEscape/SubEscape_Data_Analysis/Data_Subset/path_7/\"\n",
    "# path8 = \"H:/Project/SubEscape/SubEscape_Data_Analysis/Data_Subset/path_8/\"\n",
    "\n",
    "# path1 = \"C:/Users/PC/Documents/Projects/Github/SubEscape/SubEscape_Data_Analysis/Data_Subset/path_1/\"\n",
    "# path2 = \"C:/Users/PC/Documents/Projects/Github/SubEscape/SubEscape_Data_Analysis/Data_Subset/path_2/\"\n",
    "# path3 = \"C:/Users/PC/Documents/Projects/Github/SubEscape/SubEscape_Data_Analysis/Data_Subset/path_3/\"\n",
    "\n",
    "paths = [path1,path2,path3]\n",
    "\n",
    "# paths = [path1,path2,path3,path4,path5,path6,path7,path8]\n",
    "paths"
   ]
  },
  {
   "cell_type": "code",
   "execution_count": 20,
   "metadata": {},
   "outputs": [
    {
     "ename": "NameError",
     "evalue": "name 'result' is not defined",
     "output_type": "error",
     "traceback": [
      "\u001b[1;31m---------------------------------------------------------------------------\u001b[0m",
      "\u001b[1;31mNameError\u001b[0m                                 Traceback (most recent call last)",
      "\u001b[1;32m<ipython-input-20-0ac921c19f1a>\u001b[0m in \u001b[0;36m<module>\u001b[1;34m\u001b[0m\n\u001b[1;32m----> 1\u001b[1;33m \u001b[0mresult\u001b[0m\u001b[1;33m\u001b[0m\u001b[1;33m\u001b[0m\u001b[0m\n\u001b[0m",
      "\u001b[1;31mNameError\u001b[0m: name 'result' is not defined"
     ]
    }
   ],
   "source": [
    "result"
   ]
  },
  {
   "cell_type": "code",
   "execution_count": null,
   "metadata": {},
   "outputs": [],
   "source": [
    "if __name__ == \"__main__\":\n",
    "    result = f2d.main4(paths)"
   ]
  },
  {
   "cell_type": "code",
   "execution_count": 23,
   "metadata": {},
   "outputs": [],
   "source": [
    "result[0].to_pickle(pathOuside + 'Sub_Raw_DataFrame_1_' + str(np.round(time.time())) + '_' + str(np.round(time.time())) + '_.pkl')\n",
    "result[1].to_pickle(pathOuside + 'Sub_Raw_DataFrame_2_' + str(np.round(time.time())) + '_' + str(np.round(time.time())) + '_.pkl')\n",
    "result[2].to_pickle(pathOuside + 'Sub_Raw_DataFrame_3_' + str(np.round(time.time())) + '_' + str(np.round(time.time())) + '_.pkl')\n",
    "# result[3].to_pickle(pathOuside + 'Sub_Raw_DataFrame_4' + str(np.round(time.time())) + '_.pkl')\n",
    "# result[4].to_pickle(pathOuside + 'Sub_Raw_DataFrame_5' + str(np.round(time.time())) + '_.pkl')\n",
    "# result[5].to_pickle(pathOuside + 'Sub_Raw_DataFrame_6' + str(np.round(time.time())) + '_.pkl')\n",
    "# result[6].to_pickle(pathOuside + 'Sub_Raw_DataFrame_7' + str(np.round(time.time())) + '_.pkl')\n",
    "# result[7].to_pickle(pathOuside + 'Sub_Raw_DataFrame_8' + str(np.round(time.time())) + '_.pkl')"
   ]
  },
  {
   "cell_type": "markdown",
   "metadata": {},
   "source": [
    "### Compute metrics in parallel"
   ]
  },
  {
   "cell_type": "code",
   "execution_count": null,
   "metadata": {},
   "outputs": [],
   "source": [
    "df_all = df_all.reset_index()\n",
    "np.shape(df_all)"
   ]
  },
  {
   "cell_type": "code",
   "execution_count": 71,
   "metadata": {},
   "outputs": [],
   "source": [
    "# Restart here for metric computations\n",
    "result = []\n",
    "result.append(pathOuside + pd.read_pickle(pathOuside + \"Sub_Raw_DataFrame_1.pkl\"))\n",
    "result.append(pathOuside + pd.read_pickle(pathOuside + \"Sub_Raw_DataFrame_2.pkl\"))\n",
    "result.append(pathOuside + pd.read_pickle(pathOuside + \"Sub_Raw_DataFrame_3.pkl\"))\n",
    "# result.append(pd.read_pickle(pathOuside + \"Sub_Raw_DataFrame_4.pkl\"))\n",
    "# result.append(pd.read_pickle(pathOuside + \"Sub_Raw_DataFrame_5.pkl\"))\n",
    "# result.append(pd.read_pickle(pathOuside + \"Sub_Raw_DataFrame_6.pkl\"))\n",
    "# result.append(pd.read_pickle(pathOuside + \"Sub_Raw_DataFrame_7.pkl\"))\n",
    "# result.append(pd.read_pickle(pathOuside + \"Sub_Raw_DataFrame_8.pkl\"))\n"
   ]
  },
  {
   "cell_type": "code",
   "execution_count": 78,
   "metadata": {},
   "outputs": [
    {
     "name": "stdout",
     "output_type": "stream",
     "text": [
      "<class 'list'> \n",
      "\n",
      "              PtxID  trial     group hand age sex  Dial_Raw  Dial_Recon  \\\n",
      "0  vn265606624Yv403      0  NoReward    R  36   M   148.427  122.623569   \n",
      "1  vn265606624Yv403      0  NoReward    R  36   M   148.427  122.623569   \n",
      "\n",
      "    Target  Score  ...  VxPos VyPos  VzPos  Vrot  Frame  Joint  xPos yPos  \\\n",
      "0  177.840    0.0  ...    NaN   NaN    NaN   NaN    NaN    NaN   NaN  NaN   \n",
      "1  176.674    0.0  ...    NaN   NaN    NaN   NaN    NaN    NaN   NaN  NaN   \n",
      "\n",
      "   zPos  rot  \n",
      "0   NaN  NaN  \n",
      "1   NaN  NaN  \n",
      "\n",
      "[2 rows x 22 columns] \n",
      "\n",
      "Number of participants in subset: \n",
      " 6 \n",
      "\n"
     ]
    }
   ],
   "source": [
    "print(type(result), '\\n')\n",
    "print(result[0].head(2), '\\n')\n",
    "print('Number of participants in subset: \\n', len(pd.unique(result[0]['PtxID'])),'\\n')"
   ]
  },
  {
   "cell_type": "code",
   "execution_count": 25,
   "metadata": {
    "tags": []
   },
   "outputs": [],
   "source": [
    "if __name__ == \"__main__\":\n",
    "    metrics = f2d.main5(result)"
   ]
  },
  {
   "cell_type": "code",
   "execution_count": 26,
   "metadata": {
    "tags": []
   },
   "outputs": [],
   "source": [
    "metrics[0].to_pickle(pathOuside + 'Sub_metrics_1' + str(np.round(time.time())) + '_.pkl')\n",
    "metrics[1].to_pickle(pathOuside + 'Sub_metrics_2' + str(np.round(time.time())) + '_.pkl')\n",
    "metrics[2].to_pickle(pathOuside + 'Sub_metrics_3' + str(np.round(time.time())) + '_.pkl')"
   ]
  },
  {
   "cell_type": "code",
   "execution_count": 54,
   "metadata": {},
   "outputs": [],
   "source": [
    "# Restart here for loading metrics \n",
    "# Load data frames \n",
    "metrics_0 = pd.read_pickle(pathOuside + '1648795454.0Sub_metrics_1.pkl')\n",
    "metrics_1 = pd.read_pickle(pathOuside + '1648795454.0Sub_metrics_2.pkl')\n",
    "metrics_2 = pd.read_pickle(pathOuside + '1648795454.0Sub_metrics_3.pkl')"
   ]
  },
  {
   "cell_type": "code",
   "execution_count": 58,
   "metadata": {},
   "outputs": [],
   "source": [
    "metrics = metrics_0\n",
    "metrics = pd.concat((metrics, metrics_1))\n",
    "metrics = pd.concat((metrics, metrics_2))"
   ]
  },
  {
   "cell_type": "code",
   "execution_count": null,
   "metadata": {},
   "outputs": [],
   "source": [
    "# metrics = metrics.reset_index()\n",
    "metrics[0] =  metrics[0].reset_index()\n",
    "metrics[1] =  metrics[1].reset_index()\n",
    "metrics[2] =  metrics[2].reset_index()"
   ]
  },
  {
   "cell_type": "code",
   "execution_count": 140,
   "metadata": {},
   "outputs": [],
   "source": [
    "# Add phase column \n",
    "df_metrics['Phase'] = 'Baseline'\n",
    "df_metrics.loc[(df_metrics['Trial'] >=20) & (df_metrics['Trial'] <=40), 'Phase'] = 'Adaptation'\n",
    "df_metrics.loc[(df_metrics['Trial'] >40), 'Phase'] = 'Washout'\n",
    "df_metrics"
   ]
  },
  {
   "cell_type": "code",
   "execution_count": 28,
   "metadata": {
    "tags": []
   },
   "outputs": [],
   "source": [
    "df_metrics = metrics[0]\n",
    "df_metrics = pd.concat((df_metrics, metrics[1]))\n",
    "df_metrics = pd.concat((df_metrics, metrics[2]))"
   ]
  },
  {
   "cell_type": "code",
   "execution_count": 29,
   "metadata": {},
   "outputs": [
    {
     "data": {
      "text/html": [
       "<div>\n",
       "<style scoped>\n",
       "    .dataframe tbody tr th:only-of-type {\n",
       "        vertical-align: middle;\n",
       "    }\n",
       "\n",
       "    .dataframe tbody tr th {\n",
       "        vertical-align: top;\n",
       "    }\n",
       "\n",
       "    .dataframe thead th {\n",
       "        text-align: right;\n",
       "    }\n",
       "</style>\n",
       "<table border=\"1\" class=\"dataframe\">\n",
       "  <thead>\n",
       "    <tr style=\"text-align: right;\">\n",
       "      <th></th>\n",
       "      <th>PtxID</th>\n",
       "      <th>Group</th>\n",
       "      <th>Trial</th>\n",
       "      <th>Slope</th>\n",
       "      <th>Intercept</th>\n",
       "      <th>MeanSqErr</th>\n",
       "      <th>MeanAbsErr</th>\n",
       "    </tr>\n",
       "  </thead>\n",
       "  <tbody>\n",
       "    <tr>\n",
       "      <th>0</th>\n",
       "      <td>vn265606624Yv403</td>\n",
       "      <td>NoReward</td>\n",
       "      <td>0</td>\n",
       "      <td>0.751711</td>\n",
       "      <td>3.918706</td>\n",
       "      <td>1634.197200</td>\n",
       "      <td>22.434365</td>\n",
       "    </tr>\n",
       "    <tr>\n",
       "      <th>1</th>\n",
       "      <td>vn265606624Yv403</td>\n",
       "      <td>NoReward</td>\n",
       "      <td>1</td>\n",
       "      <td>0.972785</td>\n",
       "      <td>0.541898</td>\n",
       "      <td>206.841532</td>\n",
       "      <td>11.367966</td>\n",
       "    </tr>\n",
       "    <tr>\n",
       "      <th>2</th>\n",
       "      <td>vn265606624Yv403</td>\n",
       "      <td>NoReward</td>\n",
       "      <td>2</td>\n",
       "      <td>0.929704</td>\n",
       "      <td>-3.571381</td>\n",
       "      <td>1229.409523</td>\n",
       "      <td>22.400304</td>\n",
       "    </tr>\n",
       "    <tr>\n",
       "      <th>3</th>\n",
       "      <td>vn265606624Yv403</td>\n",
       "      <td>NoReward</td>\n",
       "      <td>3</td>\n",
       "      <td>1.074266</td>\n",
       "      <td>0.988593</td>\n",
       "      <td>238.606633</td>\n",
       "      <td>11.604896</td>\n",
       "    </tr>\n",
       "    <tr>\n",
       "      <th>4</th>\n",
       "      <td>vn265606624Yv403</td>\n",
       "      <td>NoReward</td>\n",
       "      <td>4</td>\n",
       "      <td>0.967266</td>\n",
       "      <td>3.480576</td>\n",
       "      <td>271.971898</td>\n",
       "      <td>13.132121</td>\n",
       "    </tr>\n",
       "    <tr>\n",
       "      <th>...</th>\n",
       "      <td>...</td>\n",
       "      <td>...</td>\n",
       "      <td>...</td>\n",
       "      <td>...</td>\n",
       "      <td>...</td>\n",
       "      <td>...</td>\n",
       "      <td>...</td>\n",
       "    </tr>\n",
       "    <tr>\n",
       "      <th>50</th>\n",
       "      <td>mt742485739Iw200</td>\n",
       "      <td>Reward</td>\n",
       "      <td>50</td>\n",
       "      <td>0.883572</td>\n",
       "      <td>-4.612587</td>\n",
       "      <td>331.199266</td>\n",
       "      <td>14.996677</td>\n",
       "    </tr>\n",
       "    <tr>\n",
       "      <th>51</th>\n",
       "      <td>mt742485739Iw200</td>\n",
       "      <td>Reward</td>\n",
       "      <td>51</td>\n",
       "      <td>0.776761</td>\n",
       "      <td>-2.968827</td>\n",
       "      <td>456.155313</td>\n",
       "      <td>17.145970</td>\n",
       "    </tr>\n",
       "    <tr>\n",
       "      <th>52</th>\n",
       "      <td>mt742485739Iw200</td>\n",
       "      <td>Reward</td>\n",
       "      <td>52</td>\n",
       "      <td>0.774830</td>\n",
       "      <td>-2.671620</td>\n",
       "      <td>617.501808</td>\n",
       "      <td>19.883280</td>\n",
       "    </tr>\n",
       "    <tr>\n",
       "      <th>53</th>\n",
       "      <td>mt742485739Iw200</td>\n",
       "      <td>Reward</td>\n",
       "      <td>53</td>\n",
       "      <td>NaN</td>\n",
       "      <td>NaN</td>\n",
       "      <td>NaN</td>\n",
       "      <td>NaN</td>\n",
       "    </tr>\n",
       "    <tr>\n",
       "      <th>54</th>\n",
       "      <td>mt742485739Iw200</td>\n",
       "      <td>Reward</td>\n",
       "      <td>54</td>\n",
       "      <td>NaN</td>\n",
       "      <td>NaN</td>\n",
       "      <td>NaN</td>\n",
       "      <td>NaN</td>\n",
       "    </tr>\n",
       "  </tbody>\n",
       "</table>\n",
       "<p>3150 rows × 7 columns</p>\n",
       "</div>"
      ],
      "text/plain": [
       "               PtxID     Group  Trial     Slope  Intercept    MeanSqErr  \\\n",
       "0   vn265606624Yv403  NoReward      0  0.751711   3.918706  1634.197200   \n",
       "1   vn265606624Yv403  NoReward      1  0.972785   0.541898   206.841532   \n",
       "2   vn265606624Yv403  NoReward      2  0.929704  -3.571381  1229.409523   \n",
       "3   vn265606624Yv403  NoReward      3  1.074266   0.988593   238.606633   \n",
       "4   vn265606624Yv403  NoReward      4  0.967266   3.480576   271.971898   \n",
       "..               ...       ...    ...       ...        ...          ...   \n",
       "50  mt742485739Iw200    Reward     50  0.883572  -4.612587   331.199266   \n",
       "51  mt742485739Iw200    Reward     51  0.776761  -2.968827   456.155313   \n",
       "52  mt742485739Iw200    Reward     52  0.774830  -2.671620   617.501808   \n",
       "53  mt742485739Iw200    Reward     53       NaN        NaN          NaN   \n",
       "54  mt742485739Iw200    Reward     54       NaN        NaN          NaN   \n",
       "\n",
       "    MeanAbsErr  \n",
       "0    22.434365  \n",
       "1    11.367966  \n",
       "2    22.400304  \n",
       "3    11.604896  \n",
       "4    13.132121  \n",
       "..         ...  \n",
       "50   14.996677  \n",
       "51   17.145970  \n",
       "52   19.883280  \n",
       "53         NaN  \n",
       "54         NaN  \n",
       "\n",
       "[3150 rows x 7 columns]"
      ]
     },
     "execution_count": 29,
     "metadata": {},
     "output_type": "execute_result"
    }
   ],
   "source": [
    "df_metrics"
   ]
  },
  {
   "cell_type": "code",
   "execution_count": 31,
   "metadata": {},
   "outputs": [
    {
     "name": "stdout",
     "output_type": "stream",
     "text": [
      "Number of participants:  58\n"
     ]
    }
   ],
   "source": [
    "df_metrics = df_metrics.reset_index(drop=True)\n",
    "print('Number of participants: ', len(pd.unique(df_metrics['PtxID'])))"
   ]
  },
  {
   "cell_type": "code",
   "execution_count": 32,
   "metadata": {},
   "outputs": [],
   "source": [
    "df_metrics.to_pickle('DF_Metrics_' + str(np.round(time.time())) +  '_.pkl')"
   ]
  },
  {
   "cell_type": "code",
   "execution_count": 39,
   "metadata": {},
   "outputs": [],
   "source": [
    "df_metrics = pd.read_pickle(\"DF_Metrics_1650824459.0_.pkl\")"
   ]
  },
  {
   "cell_type": "code",
   "execution_count": 40,
   "metadata": {},
   "outputs": [
    {
     "data": {
      "text/plain": [
       "array(['vn265606624Yv403', 'kL32782760pb805', 'Ai275415234NZ493',\n",
       "       'CL78462911bI451', 'XY13546991Od507', 'iA94696354Ww734',\n",
       "       'UJ22372929Ma480', 'nN48787345GM446', 'rN464901337br235',\n",
       "       'bK159349224Ky792', 'N', 'QJ690773638qD178', 'Y',\n",
       "       'qX523123508pL71', 'L', 'MY493867256yh257', 'AC255458104IA833',\n",
       "       'pU265328919tM703', 'jh809396928Su223', 'sV262240837Wu893',\n",
       "       'uL709664845pY57', 'Di839285889sX391', 'Ch285298221IQ296',\n",
       "       'pV715326977Ci92', 'FV138309651bm4', 'av821962704Np731',\n",
       "       'NN0891521Nv932', 'NRNFMMM589968', 'ML52766852sX612',\n",
       "       'Hv578899179Yv8', 'PS940208551QF590', 'wQ432254460Cm818',\n",
       "       'Wr404947346qM443', 'Nr746161853dz70', 'fk560962752EX865',\n",
       "       'bK933906299Id748', 'gz873989828sw827', 'gg646183622lq862',\n",
       "       'Vg620975542yx459', 'iv952424735op998', 'zU983253538Tj193',\n",
       "       'te60281288Gj243', 'Bm668184579LL501', 'XK722874333VL212',\n",
       "       'WC247803994GF657', 'An789876880Um49', 'FG422120767Wz20',\n",
       "       'pO78426161Oe999', 'MF', 'OX377652340OK228', 'Ac951310807Ba369',\n",
       "       'bD315366166XI81', 'pP523446637hf604', 'pZ714559851sE51',\n",
       "       'Md97898857lx914', 'EE288981452fb406', 'lA76851177un272',\n",
       "       'mt742485739Iw200'], dtype=object)"
      ]
     },
     "execution_count": 40,
     "metadata": {},
     "output_type": "execute_result"
    }
   ],
   "source": [
    "pd.unique(df_metrics['PtxID'])"
   ]
  },
  {
   "cell_type": "code",
   "execution_count": 41,
   "metadata": {},
   "outputs": [],
   "source": [
    "outlier_mask = (df_metrics[\"PtxID\"] != \"wQ432254460Cm818\")"
   ]
  },
  {
   "cell_type": "code",
   "execution_count": 42,
   "metadata": {},
   "outputs": [
    {
     "data": {
      "text/plain": [
       "<AxesSubplot:xlabel='Trial', ylabel='Slope'>"
      ]
     },
     "execution_count": 42,
     "metadata": {},
     "output_type": "execute_result"
    },
    {
     "data": {
      "image/png": "[encoded data removed]",
      "text/plain": [
       "<Figure size 432x288 with 1 Axes>"
      ]
     },
     "metadata": {
      "needs_background": "light"
     },
     "output_type": "display_data"
    },
    {
     "data": {
      "image/png": "[encoded data removed]",
      "text/plain": [
       "<Figure size 432x288 with 1 Axes>"
      ]
     },
     "metadata": {
      "needs_background": "light"
     },
     "output_type": "display_data"
    },
    {
     "data": {
      "image/png": "[encoded data removed]",
      "text/plain": [
       "<Figure size 432x288 with 1 Axes>"
      ]
     },
     "metadata": {
      "needs_background": "light"
     },
     "output_type": "display_data"
    },
    {
     "data": {
      "image/png": "[encoded data removed]",
      "text/plain": [
       "<Figure size 432x288 with 1 Axes>"
      ]
     },
     "metadata": {
      "needs_background": "light"
     },
     "output_type": "display_data"
    },
    {
     "data": {
      "image/png": "[encoded data removed]",
      "text/plain": [
       "<Figure size 432x288 with 1 Axes>"
      ]
     },
     "metadata": {
      "needs_background": "light"
     },
     "output_type": "display_data"
    }
   ],
   "source": [
    "plt.figure(0)\n",
    "sns.lineplot(x = 'Trial', y = 'MeanAbsErr', hue = 'PtxID', data = df_metrics, legend=False)\n",
    "plt.figure(1)\n",
    "sns.lineplot(x = 'Trial', y = 'MeanSqErr', hue = 'Group', data = df_metrics, ci=68, err_style = 'bars')\n",
    "plt.figure(2)\n",
    "sns.lineplot(x = 'Trial', y = 'MeanAbsErr', hue = 'Group', data = df_metrics, ci=68, err_style = 'bars')\n",
    "plt.figure(3)\n",
    "sns.lineplot(x = 'Trial', y = 'Intercept', hue = 'Group', data = df_metrics, ci=68, err_style = 'bars')\n",
    "plt.figure(4)\n",
    "sns.lineplot(x = 'Trial', y = 'Slope', hue = 'Group', data = df_metrics, ci=68, err_style = 'bars')\n",
    "\n",
    "# plt.figure(5)\n",
    "# outlier_group_mask = (df_metrics[\"PtxID\"] != \"wQ432254460Cm818\") & (df_metrics[\"Group\"] != \"NoReward\") & (df_metrics[\"Trial\"] != \"NoReward\")\n",
    "# sns.regplot(x = 'Trial', y = 'Slope', data = df_metrics[outlier_group_mask])\n",
    "# outlier_group_mask = (df_metrics[\"PtxID\"] != \"wQ432254460Cm818\") & (df_metrics[\"Group\"] != \"Reward\")\n",
    "# sns.regplot(x = 'Trial', y = 'Slope', data = df_metrics[outlier_group_mask])"
   ]
  },
  {
   "cell_type": "code",
   "execution_count": 80,
   "metadata": {},
   "outputs": [
    {
     "data": {
      "text/html": [
       "<div>\n",
       "<style scoped>\n",
       "    .dataframe tbody tr th:only-of-type {\n",
       "        vertical-align: middle;\n",
       "    }\n",
       "\n",
       "    .dataframe tbody tr th {\n",
       "        vertical-align: top;\n",
       "    }\n",
       "\n",
       "    .dataframe thead th {\n",
       "        text-align: right;\n",
       "    }\n",
       "</style>\n",
       "<table border=\"1\" class=\"dataframe\">\n",
       "  <thead>\n",
       "    <tr style=\"text-align: right;\">\n",
       "      <th></th>\n",
       "      <th>PtxID</th>\n",
       "      <th>Group</th>\n",
       "      <th>Trial</th>\n",
       "      <th>Slope</th>\n",
       "      <th>Intercept</th>\n",
       "      <th>MeanSqErr</th>\n",
       "      <th>MeanAbsErr</th>\n",
       "      <th>Phase</th>\n",
       "    </tr>\n",
       "  </thead>\n",
       "  <tbody>\n",
       "    <tr>\n",
       "      <th>0</th>\n",
       "      <td>vn265606624Yv403</td>\n",
       "      <td>NoReward</td>\n",
       "      <td>0</td>\n",
       "      <td>0.751711</td>\n",
       "      <td>3.918706</td>\n",
       "      <td>1634.197200</td>\n",
       "      <td>22.434365</td>\n",
       "      <td>Baseline</td>\n",
       "    </tr>\n",
       "    <tr>\n",
       "      <th>1</th>\n",
       "      <td>vn265606624Yv403</td>\n",
       "      <td>NoReward</td>\n",
       "      <td>1</td>\n",
       "      <td>0.972785</td>\n",
       "      <td>0.541898</td>\n",
       "      <td>206.841532</td>\n",
       "      <td>11.367966</td>\n",
       "      <td>Baseline</td>\n",
       "    </tr>\n",
       "  </tbody>\n",
       "</table>\n",
       "</div>"
      ],
      "text/plain": [
       "              PtxID     Group  Trial     Slope  Intercept    MeanSqErr  \\\n",
       "0  vn265606624Yv403  NoReward      0  0.751711   3.918706  1634.197200   \n",
       "1  vn265606624Yv403  NoReward      1  0.972785   0.541898   206.841532   \n",
       "\n",
       "   MeanAbsErr     Phase  \n",
       "0   22.434365  Baseline  \n",
       "1   11.367966  Baseline  "
      ]
     },
     "execution_count": 80,
     "metadata": {},
     "output_type": "execute_result"
    }
   ],
   "source": [
    "df_metrics.head(2)"
   ]
  },
  {
   "cell_type": "code",
   "execution_count": 82,
   "metadata": {},
   "outputs": [
    {
     "data": {
      "text/plain": [
       "1443"
      ]
     },
     "execution_count": 82,
     "metadata": {},
     "output_type": "execute_result"
    }
   ],
   "source": [
    "len(pd.unique(df_metrics['Slope']))"
   ]
  },
  {
   "cell_type": "code",
   "execution_count": null,
   "metadata": {},
   "outputs": [],
   "source": [
    "# First add phase to the dataframe\n",
    "df_metrics['Phase'] = df_metrics.groupby(['PtxID','Group'])['Trial'].transform(lambda x: 'Baseline')\n",
    "df_metrics.loc[df_metrics['Trial'] > 20, ['Phase']] = 'Adaptation'\n",
    "df_metrics.loc[df_metrics['Trial'] > 40, ['Phase']] = 'Washout'"
   ]
  },
  {
   "cell_type": "code",
   "execution_count": 87,
   "metadata": {},
   "outputs": [
    {
     "data": {
      "image/png": "[encoded data removed]",
      "text/plain": [
       "<Figure size 288x288 with 4 Axes>"
      ]
     },
     "metadata": {
      "needs_background": "light"
     },
     "output_type": "display_data"
    }
   ],
   "source": [
    "# Check distribution of data for the different metrics \n",
    "plt.figure(figsize=(4,4))\n",
    "\n",
    "plt.subplot(221)\n",
    "plt.tight_layout(pad=2)\n",
    "sns.histplot(x='Slope', data=df_metrics, kde=True)\n",
    "\n",
    "plt.subplot(222)\n",
    "plt.tight_layout(pad=2)\n",
    "sns.histplot(x='Intercept', data=df_metrics, kde=True)\n",
    "\n",
    "plt.subplot(223)\n",
    "plt.tight_layout(pad=2)\n",
    "sns.histplot(x='MeanSqErr', data=df_metrics, kde=True)\n",
    "\n",
    "plt.subplot(224)\n",
    "plt.tight_layout(pad=2)\n",
    "sns.histplot(x='MeanAbsErr', data=df_metrics, kde=True)\n",
    "\n",
    "plt.savefig(path2Figures + 'Distros_' + str(time.time())[-1-3:-1] + '_.svg',dpi=600, bbox_inches='tight')"
   ]
  },
  {
   "cell_type": "code",
   "execution_count": 90,
   "metadata": {},
   "outputs": [
    {
     "name": "stdout",
     "output_type": "stream",
     "text": [
      "p-value annotation legend:\n",
      "ns: 5.00e-02 < p <= 1.00e+00\n",
      "*: 1.00e-02 < p <= 5.00e-02\n",
      "**: 1.00e-03 < p <= 1.00e-02\n",
      "***: 1.00e-04 < p <= 1.00e-03\n",
      "****: p <= 1.00e-04\n",
      "\n",
      "Baseline v.s. Adaptation: Mann-Whitney-Wilcoxon test two-sided with Bonferroni correction, P_val=3.137e-03 U_stat=1.399e+05\n",
      "Adaptation v.s. Washout: Mann-Whitney-Wilcoxon test two-sided with Bonferroni correction, P_val=8.868e-33 U_stat=8.925e+04\n",
      "Baseline v.s. Washout: Mann-Whitney-Wilcoxon test two-sided with Bonferroni correction, P_val=3.904e-24 U_stat=1.441e+05\n"
     ]
    },
    {
     "data": {
      "text/plain": [
       "<Figure size 432x288 with 0 Axes>"
      ]
     },
     "metadata": {},
     "output_type": "display_data"
    },
    {
     "data": {
      "image/png": "[encoded data removed]",
      "text/plain": [
       "<Figure size 576x576 with 1 Axes>"
      ]
     },
     "metadata": {
      "needs_background": "light"
     },
     "output_type": "display_data"
    }
   ],
   "source": [
    "# Slopes per phase \n",
    "plt.figure()\n",
    "plt.figure(figsize=(8, 8))\n",
    "\n",
    "mask1 = (df_metrics[\"PtxID\"] != \"wQ432254460Cm818\") & (df_metrics[\"Group\"] != \"NoReward\") & (df_metrics[\"Phase\"] != \"Baseline\")\n",
    "mask2 = (df_metrics[\"PtxID\"] != \"wQ432254460Cm818\") & (df_metrics[\"Group\"] != \"NoReward\") & (df_metrics[\"Phase\"] != \"Adaptation\")\n",
    "mask3 = (df_metrics[\"PtxID\"] != \"wQ432254460Cm818\") & (df_metrics[\"Group\"] != \"NoReward\") & (df_metrics[\"Phase\"] != \"Washout\")\n",
    "\n",
    "# plt.subplot(411)\n",
    "# sns.barplot(x='Phase', y='MeanSqErr', hue='Group', data=df_metrics[outlier_mask]) \n",
    "# plt.subplot(412)\n",
    "# sns.barplot(x='Phase', y='MeanAbsErr', hue='Group', data=df_metrics[outlier_mask]) \n",
    "# plt.subplot(413)\n",
    "# sns.barplot(x='Phase', y='Intercept', hue='Group', data=df_metrics[outlier_mask]) \n",
    "# plt.subplot(414)\n",
    "# sns.barplot(x='Phase', y='Slope', hue='Group', data=df_metrics[outlier_mask]) \n",
    "\n",
    "x = \"Phase\"\n",
    "y = \"MeanAbsErr\"\n",
    "order = ['Baseline', 'Adaptation', 'Washout']\n",
    "ax = sns.stripplot(data=df_metrics, x=x, y=y, order=order)\n",
    "test_results = add_stat_annotation(ax, data=df_metrics, x=x, y=y, order=order,\n",
    "                                   box_pairs=[(\"Baseline\", \"Adaptation\"), (\"Baseline\", \"Washout\"), (\"Adaptation\", \"Washout\")],\n",
    "                                   test='Mann-Whitney', text_format='star',\n",
    "                                   loc='outside', verbose=2)\n",
    "test_results\n",
    "\n",
    "plt.savefig(path2Figures + 'MAE_' + str(time.time())[-1-3:-1] + '_.svg',dpi=600, bbox_inches='tight')\n",
    "\n",
    "# print('Slopes: ', df_metrics[mask1]['Slope'].mean(), ' ', df_metrics[mask2]['Slope'].mean(), ' ', df_metrics[mask3]['Slope'].mean())\n",
    "# print('SEs: ', df_metrics[mask1]['Slope'].std(), ' ', df_metrics[mask2]['Slope'].std(), ' ', df_metrics[mask3]['Slope'].std())"
   ]
  },
  {
   "cell_type": "code",
   "execution_count": 93,
   "metadata": {},
   "outputs": [
    {
     "data": {
      "text/html": [
       "<div>\n",
       "<style scoped>\n",
       "    .dataframe tbody tr th:only-of-type {\n",
       "        vertical-align: middle;\n",
       "    }\n",
       "\n",
       "    .dataframe tbody tr th {\n",
       "        vertical-align: top;\n",
       "    }\n",
       "\n",
       "    .dataframe thead th {\n",
       "        text-align: right;\n",
       "    }\n",
       "</style>\n",
       "<table border=\"1\" class=\"dataframe\">\n",
       "  <thead>\n",
       "    <tr style=\"text-align: right;\">\n",
       "      <th></th>\n",
       "      <th>PtxID</th>\n",
       "      <th>Group</th>\n",
       "      <th>Trial</th>\n",
       "      <th>Slope</th>\n",
       "      <th>Intercept</th>\n",
       "      <th>MeanSqErr</th>\n",
       "      <th>MeanAbsErr</th>\n",
       "      <th>Phase</th>\n",
       "    </tr>\n",
       "  </thead>\n",
       "  <tbody>\n",
       "    <tr>\n",
       "      <th>0</th>\n",
       "      <td>vn265606624Yv403</td>\n",
       "      <td>NoReward</td>\n",
       "      <td>0</td>\n",
       "      <td>0.751711</td>\n",
       "      <td>3.918706</td>\n",
       "      <td>1634.197200</td>\n",
       "      <td>22.434365</td>\n",
       "      <td>Baseline</td>\n",
       "    </tr>\n",
       "    <tr>\n",
       "      <th>1</th>\n",
       "      <td>vn265606624Yv403</td>\n",
       "      <td>NoReward</td>\n",
       "      <td>1</td>\n",
       "      <td>0.972785</td>\n",
       "      <td>0.541898</td>\n",
       "      <td>206.841532</td>\n",
       "      <td>11.367966</td>\n",
       "      <td>Baseline</td>\n",
       "    </tr>\n",
       "  </tbody>\n",
       "</table>\n",
       "</div>"
      ],
      "text/plain": [
       "              PtxID     Group  Trial     Slope  Intercept    MeanSqErr  \\\n",
       "0  vn265606624Yv403  NoReward      0  0.751711   3.918706  1634.197200   \n",
       "1  vn265606624Yv403  NoReward      1  0.972785   0.541898   206.841532   \n",
       "\n",
       "   MeanAbsErr     Phase  \n",
       "0   22.434365  Baseline  \n",
       "1   11.367966  Baseline  "
      ]
     },
     "execution_count": 93,
     "metadata": {},
     "output_type": "execute_result"
    }
   ],
   "source": [
    "df_metrics.head(2)"
   ]
  },
  {
   "cell_type": "code",
   "execution_count": 131,
   "metadata": {},
   "outputs": [],
   "source": [
    "# Create a function to customize the axes of all the subsequent graphs in a uniform way.\n",
    "def add_cosmetics(title='Prices by color for ideal/premium cut diamonds > 2 ct', \n",
    "                  xlabel='Price, USD', ylabel='Color'):\n",
    "    plt.title(title, fontsize=28)\n",
    "    plt.xlabel(xlabel, fontsize=20)\n",
    "    plt.ylabel(ylabel, fontsize=20)\n",
    "    plt.xticks(fontsize=15)\n",
    "    plt.yticks(fontsize=15)\n",
    "    sns.despine()\n",
    "# add_cosmetics()"
   ]
  },
  {
   "cell_type": "code",
   "execution_count": null,
   "metadata": {},
   "outputs": [],
   "source": []
  },
  {
   "cell_type": "code",
   "execution_count": 132,
   "metadata": {},
   "outputs": [
    {
     "name": "stdout",
     "output_type": "stream",
     "text": [
      "p-value annotation legend:\n",
      "ns: 5.00e-02 < p <= 1.00e+00\n",
      "*: 1.00e-02 < p <= 5.00e-02\n",
      "**: 1.00e-03 < p <= 1.00e-02\n",
      "***: 1.00e-04 < p <= 1.00e-03\n",
      "****: p <= 1.00e-04\n",
      "\n",
      "Baseline v.s. Adaptation: Mann-Whitney-Wilcoxon test two-sided with Bonferroni correction, P_val=3.137e-03 U_stat=1.399e+05\n",
      "Adaptation v.s. Washout: Mann-Whitney-Wilcoxon test two-sided with Bonferroni correction, P_val=8.868e-33 U_stat=8.925e+04\n",
      "Baseline v.s. Washout: Mann-Whitney-Wilcoxon test two-sided with Bonferroni correction, P_val=3.904e-24 U_stat=1.441e+05\n"
     ]
    },
    {
     "data": {
      "image/png": "[encoded data removed]",
      "text/plain": [
       "<Figure size 1080x720 with 1 Axes>"
      ]
     },
     "metadata": {
      "needs_background": "light"
     },
     "output_type": "display_data"
    }
   ],
   "source": [
    "group_mask = (df_metrics['Group'] == 'Reward')\n",
    "df =df_metrics[group_mask]\n",
    "\n",
    "\n",
    "plt.figure(figsize=(15, 10))\n",
    "# Create violin plots without mini-boxplots inside.\n",
    "ax = sns.violinplot(y='MeanAbsErr', x='Phase', data=df,\n",
    "                    color='mediumslateblue', \n",
    "                    cut=0, inner=None)\n",
    "# Clip the right half of each violin.\n",
    "for item in ax.collections:\n",
    "    x0, y0, width, height = item.get_paths()[0].get_extents().bounds\n",
    "    item.set_clip_path(plt.Rectangle((x0, y0), width/2, height,\n",
    "                       transform=ax.transData))\n",
    "    \n",
    "# Create strip plots with partially transparent points of different colors depending on the group.\n",
    "num_items = len(ax.collections)\n",
    "ax2 = sns.stripplot(y='MeanAbsErr', x='Phase', hue='PtxID', data=df,\n",
    "              palette=['blue', 'deepskyblue'], alpha=0.4, size=7)\n",
    "# remove legend from axis 'ax'\n",
    "ax2.legend_.remove()\n",
    "# ax2.legend.remove()\n",
    "\n",
    "# Shift each strip plot strictly below the correponding volin.\n",
    "for item in ax.collections[num_items:]:\n",
    "    item.set_offsets(item.get_offsets() + 0.15)\n",
    "    \n",
    "# Create narrow boxplots on top of the corresponding violin and strip plots, with thick lines, the mean values, without the outliers.\n",
    "sns.boxplot(y='MeanAbsErr', x='Phase', data=df, width=0.25,\n",
    "            showfliers=False, showmeans=True, \n",
    "            meanprops=dict(marker='o', markerfacecolor='darkorange',\n",
    "                           markersize=10, zorder=3),\n",
    "            boxprops=dict(facecolor=(0,0,0,0), \n",
    "                          linewidth=3, zorder=3),\n",
    "            whiskerprops=dict(linewidth=3),\n",
    "            capprops=dict(linewidth=3),\n",
    "            medianprops=dict(linewidth=3))\n",
    "\n",
    "plt.legend(frameon=False, fontsize=15, loc='lower left')\n",
    "add_cosmetics(title='', xlabel='Phase', ylabel='MeanAbsErr (Degrees)')\n",
    "ax2.legend_.remove()\n",
    "\n",
    "\n",
    "# Do the stats part here\n",
    "x = \"Phase\"\n",
    "y = \"MeanAbsErr\"\n",
    "order = ['Baseline', 'Adaptation', 'Washout']\n",
    "# ax = sns.stripplot(data=df_metrics, x=x, y=y, order=order)\n",
    "test_results = add_stat_annotation(ax, data=df_metrics, x=x, y=y, order=order,\n",
    "                                   box_pairs=[(\"Baseline\", \"Adaptation\"), (\"Baseline\", \"Washout\"), (\"Adaptation\", \"Washout\")],\n",
    "                                   test='Mann-Whitney', text_format='star',\n",
    "                                   loc='outside', verbose=2)\n",
    "test_results\n",
    "\n",
    "plt.text(2.2,100, 'n=' + str(len(pd.unique(df['PtxID']))) + ' Group: ' + pd.unique(df['Group']), fontsize=20)\n",
    "\n",
    "plt.savefig(path2Figures + 'MAE_' + str(time.time())[-1-3:-1] + pd.unique(df['Group'])[0] +'_.svg',dpi=600, bbox_inches='tight')"
   ]
  },
  {
   "cell_type": "code",
   "execution_count": 120,
   "metadata": {},
   "outputs": [
    {
     "data": {
      "text/html": [
       "<div>\n",
       "<style scoped>\n",
       "    .dataframe tbody tr th:only-of-type {\n",
       "        vertical-align: middle;\n",
       "    }\n",
       "\n",
       "    .dataframe tbody tr th {\n",
       "        vertical-align: top;\n",
       "    }\n",
       "\n",
       "    .dataframe thead th {\n",
       "        text-align: right;\n",
       "    }\n",
       "</style>\n",
       "<table border=\"1\" class=\"dataframe\">\n",
       "  <thead>\n",
       "    <tr style=\"text-align: right;\">\n",
       "      <th></th>\n",
       "      <th>PtxID</th>\n",
       "      <th>Group</th>\n",
       "      <th>Trial</th>\n",
       "      <th>Slope</th>\n",
       "      <th>Intercept</th>\n",
       "      <th>MeanSqErr</th>\n",
       "      <th>MeanAbsErr</th>\n",
       "      <th>Phase</th>\n",
       "    </tr>\n",
       "  </thead>\n",
       "  <tbody>\n",
       "    <tr>\n",
       "      <th>0</th>\n",
       "      <td>vn265606624Yv403</td>\n",
       "      <td>NoReward</td>\n",
       "      <td>0</td>\n",
       "      <td>0.751711</td>\n",
       "      <td>3.918706</td>\n",
       "      <td>1634.197200</td>\n",
       "      <td>22.434365</td>\n",
       "      <td>Baseline</td>\n",
       "    </tr>\n",
       "    <tr>\n",
       "      <th>1</th>\n",
       "      <td>vn265606624Yv403</td>\n",
       "      <td>NoReward</td>\n",
       "      <td>1</td>\n",
       "      <td>0.972785</td>\n",
       "      <td>0.541898</td>\n",
       "      <td>206.841532</td>\n",
       "      <td>11.367966</td>\n",
       "      <td>Baseline</td>\n",
       "    </tr>\n",
       "  </tbody>\n",
       "</table>\n",
       "</div>"
      ],
      "text/plain": [
       "              PtxID     Group  Trial     Slope  Intercept    MeanSqErr  \\\n",
       "0  vn265606624Yv403  NoReward      0  0.751711   3.918706  1634.197200   \n",
       "1  vn265606624Yv403  NoReward      1  0.972785   0.541898   206.841532   \n",
       "\n",
       "   MeanAbsErr     Phase  \n",
       "0   22.434365  Baseline  \n",
       "1   11.367966  Baseline  "
      ]
     },
     "execution_count": 120,
     "metadata": {},
     "output_type": "execute_result"
    }
   ],
   "source": [
    "df_metrics.head(2)"
   ]
  },
  {
   "cell_type": "code",
   "execution_count": 38,
   "metadata": {},
   "outputs": [
    {
     "ename": "AttributeError",
     "evalue": "module 'matplotlib.pyplot' has no attribute 'figsave'",
     "output_type": "error",
     "traceback": [
      "\u001b[1;31m---------------------------------------------------------------------------\u001b[0m",
      "\u001b[1;31mAttributeError\u001b[0m                            Traceback (most recent call last)",
      "\u001b[1;32m<ipython-input-38-4214a0ba254e>\u001b[0m in \u001b[0;36m<module>\u001b[1;34m\u001b[0m\n\u001b[0;32m     11\u001b[0m \u001b[0msns\u001b[0m\u001b[1;33m.\u001b[0m\u001b[0mhistplot\u001b[0m\u001b[1;33m(\u001b[0m\u001b[0mx\u001b[0m \u001b[1;33m=\u001b[0m \u001b[1;34m'Slope'\u001b[0m\u001b[1;33m,\u001b[0m \u001b[0mhue\u001b[0m \u001b[1;33m=\u001b[0m \u001b[1;34m'Group'\u001b[0m\u001b[1;33m,\u001b[0m \u001b[0mdata\u001b[0m \u001b[1;33m=\u001b[0m \u001b[0mdf_metrics\u001b[0m\u001b[1;33m[\u001b[0m\u001b[0moutlier_mask\u001b[0m\u001b[1;33m]\u001b[0m\u001b[1;33m,\u001b[0m \u001b[0mkde\u001b[0m\u001b[1;33m=\u001b[0m\u001b[1;32mTrue\u001b[0m\u001b[1;33m)\u001b[0m\u001b[1;33m\u001b[0m\u001b[1;33m\u001b[0m\u001b[0m\n\u001b[0;32m     12\u001b[0m \u001b[1;33m\u001b[0m\u001b[0m\n\u001b[1;32m---> 13\u001b[1;33m \u001b[0mplt\u001b[0m\u001b[1;33m.\u001b[0m\u001b[0mfigsave\u001b[0m\u001b[1;33m(\u001b[0m\u001b[1;34m'normdists.png'\u001b[0m\u001b[1;33m,\u001b[0m \u001b[0mdpi\u001b[0m\u001b[1;33m=\u001b[0m\u001b[1;36m600\u001b[0m\u001b[1;33m)\u001b[0m\u001b[1;33m\u001b[0m\u001b[1;33m\u001b[0m\u001b[0m\n\u001b[0m",
      "\u001b[1;31mAttributeError\u001b[0m: module 'matplotlib.pyplot' has no attribute 'figsave'"
     ]
    },
    {
     "data": {
      "text/plain": [
       "<Figure size 432x288 with 0 Axes>"
      ]
     },
     "metadata": {},
     "output_type": "display_data"
    },
    {
     "data": {
      "image/png": "[encoded data removed]",
      "text/plain": [
       "<Figure size 1152x288 with 4 Axes>"
      ]
     },
     "metadata": {
      "needs_background": "light"
     },
     "output_type": "display_data"
    }
   ],
   "source": [
    "plt.figure()\n",
    "plt.figure(figsize=(16, 4))\n",
    "\n",
    "plt.subplot(141)\n",
    "sns.histplot(x = 'MeanSqErr', hue = 'Group', data = df_metrics[outlier_mask], kde=True)\n",
    "plt.subplot(142)\n",
    "sns.histplot(x = 'MeanAbsErr', hue = 'Group', data = df_metrics[outlier_mask], kde=True)\n",
    "plt.subplot(143)\n",
    "sns.histplot(x = 'Intercept', hue = 'Group', data = df_metrics[outlier_mask], kde=True)\n",
    "plt.subplot(144)\n",
    "sns.histplot(x = 'Slope', hue = 'Group', data = df_metrics[outlier_mask], kde=True)\n",
    "\n",
    "plt.figsave('normdists.png', dpi=600)"
   ]
  },
  {
   "cell_type": "code",
   "execution_count": 31,
   "metadata": {
    "tags": []
   },
   "outputs": [],
   "source": [
    "# # try:\n",
    "# #     df_all = pd.read_pickle('SubData_All.pkl')\n",
    "# #     fileLoaded = True\n",
    "# # except Exception as e:\n",
    "# #     print('File not found error: ', e)\n",
    "# #     fileLoaded = False\n",
    "# fileLoaded = False\n",
    "\n",
    "# startTime = time.time()\n",
    "\n",
    "# if not fileLoaded:\n",
    "\n",
    "#     folders = os.listdir(path)\n",
    "#     folderNames = unique(folders)\n",
    "#     df_all = None\n",
    "\n",
    "#     for f in folderNames[0:1000]:\n",
    "\n",
    "#         folderWords = str.split(f,'_')\n",
    "#         if 'json' not in folderWords[-1]:\n",
    "#             continue\n",
    "#         else:\n",
    "#             ptxID = folderWords[1]\n",
    "#             age = folderWords[2]\n",
    "#             sex = folderWords[3]\n",
    "#             hand = folderWords[4]\n",
    "#             group = folderWords[5]\n",
    "#             trial = int(folderWords[9])\n",
    "            \n",
    "#             # Read raw data file \n",
    "#             try:\n",
    "#                 tmpDF1 = pd.read_json(path + f, orient='index')\n",
    "\n",
    "# # ******************************************************************************\n",
    "# # ******************* Extract data section **************************************\n",
    "                \n",
    "#                 # Extract real finger data --------------------------------- \n",
    "#                 tmpDF2 = Extract_FingerData(tmpDF1, 'real')\n",
    "                \n",
    "#                 # Extract virtual finger data ------------------------------\n",
    "#                 tmpDF3 = Extract_FingerData(tmpDF1, 'virtual')\n",
    "\n",
    "#                 # Extract dial angle data ----------------------------------                    \n",
    "#                 tmpDial = Extract_DialAngle(tmpDF1) \n",
    "    \n",
    "#                 # Dial Angle Reconstruction -------------------------------- \n",
    "#                 # Use tmpDF2 for real and tmpDF3 for virtual finger \n",
    "#                 dialAngReconstructed = DialAngleRecon(tmpDF3, 'virtual') # Virtual finger      \n",
    "                \n",
    "#                 # Combine raw and reconstructed dial angle data into one dataframe \n",
    "#                 tmpDial.insert(1,'Dial_Recon', dialAngReconstructed)\n",
    "                \n",
    "#                 # Combine all data frames ---------------------------------\n",
    "#                 tmpDF2 = pd.concat((tmpDF3, tmpDF2))\n",
    "#                 tmpDF2 = pd.concat((tmpDial, tmpDF2))\n",
    "#                 tmpDF2.insert(0,'PtxID',ptxID)\n",
    "#                 tmpDF2.insert(1,'trial',trial)\n",
    "#                 tmpDF2.insert(2,'group',group)\n",
    "#                 tmpDF2.insert(3,'hand',hand)\n",
    "#                 tmpDF2.insert(4,'age',age)\n",
    "#                 tmpDF2.insert(5,'sex',sex)\n",
    "\n",
    "# # ******************************************************************************\n",
    "# # ******************************************************************************\n",
    "                \n",
    "#                 # Concatenate all resultant data frames into one parent data frame \n",
    "#                 if df_all is None:\n",
    "#                     df_all = tmpDF2\n",
    "#                 else:\n",
    "#                     df_all = pd.concat([df_all, tmpDF2])          \n",
    "\n",
    "#             except Exception as e:\n",
    "#                 print('Ptx: ', ptxID,' Warning: ', e)\n",
    "# #     df\n",
    "\n",
    "# elapsedTime = np.round((time.time() - startTime) / 60.0, 0)\n",
    "# print('Processing time: ', elapsedTime, ' minutes')"
   ]
  },
  {
   "cell_type": "markdown",
   "metadata": {},
   "source": [
    "## Restart Here"
   ]
  },
  {
   "cell_type": "code",
   "execution_count": 68,
   "metadata": {
    "tags": []
   },
   "outputs": [],
   "source": [
    "df_all.to_pickle(str(np.round(time.time())) + 'SubSet_AllMetrics.pkl')"
   ]
  },
  {
   "cell_type": "code",
   "execution_count": 110,
   "metadata": {},
   "outputs": [],
   "source": [
    "# df_all = pd.read_pickle('SubData_All_Subset.pkl')\n",
    "# pathOutside = \"D:/Projects/Github/\"\n",
    "# pathOutside = \"G:/Diar SSD/Projects/GitHub/\"\n",
    "pathOutside = \"C:/Users/PC/Documents/Projects/Github/\"\n",
    "df_all = pd.read_pickle(pathOutside + 'March_SubData_All_Subset_AllMetrics.pkl')"
   ]
  },
  {
   "cell_type": "code",
   "execution_count": 16,
   "metadata": {
    "collapsed": true,
    "jupyter": {
     "outputs_hidden": true
    },
    "tags": []
   },
   "outputs": [
    {
     "data": {
      "text/html": [
       "<div>\n",
       "<style scoped>\n",
       "    .dataframe tbody tr th:only-of-type {\n",
       "        vertical-align: middle;\n",
       "    }\n",
       "\n",
       "    .dataframe tbody tr th {\n",
       "        vertical-align: top;\n",
       "    }\n",
       "\n",
       "    .dataframe thead th {\n",
       "        text-align: right;\n",
       "    }\n",
       "</style>\n",
       "<table border=\"1\" class=\"dataframe\">\n",
       "  <thead>\n",
       "    <tr style=\"text-align: right;\">\n",
       "      <th></th>\n",
       "      <th>PtxID</th>\n",
       "      <th>trial</th>\n",
       "      <th>group</th>\n",
       "      <th>hand</th>\n",
       "      <th>age</th>\n",
       "      <th>sex</th>\n",
       "      <th>Dial_Raw</th>\n",
       "      <th>Dial_Recon</th>\n",
       "      <th>Target</th>\n",
       "      <th>Score</th>\n",
       "      <th>...</th>\n",
       "      <th>VxPos</th>\n",
       "      <th>VyPos</th>\n",
       "      <th>VzPos</th>\n",
       "      <th>Vrot</th>\n",
       "      <th>Frame</th>\n",
       "      <th>Joint</th>\n",
       "      <th>xPos</th>\n",
       "      <th>yPos</th>\n",
       "      <th>zPos</th>\n",
       "      <th>rot</th>\n",
       "    </tr>\n",
       "  </thead>\n",
       "  <tbody>\n",
       "    <tr>\n",
       "      <th>0</th>\n",
       "      <td>vn265606624Yv403</td>\n",
       "      <td>0</td>\n",
       "      <td>NoReward</td>\n",
       "      <td>R</td>\n",
       "      <td>36</td>\n",
       "      <td>M</td>\n",
       "      <td>148.427</td>\n",
       "      <td>122.623569</td>\n",
       "      <td>177.840</td>\n",
       "      <td>0.0</td>\n",
       "      <td>...</td>\n",
       "      <td>NaN</td>\n",
       "      <td>NaN</td>\n",
       "      <td>NaN</td>\n",
       "      <td>NaN</td>\n",
       "      <td>NaN</td>\n",
       "      <td>NaN</td>\n",
       "      <td>NaN</td>\n",
       "      <td>NaN</td>\n",
       "      <td>NaN</td>\n",
       "      <td>NaN</td>\n",
       "    </tr>\n",
       "    <tr>\n",
       "      <th>1</th>\n",
       "      <td>vn265606624Yv403</td>\n",
       "      <td>0</td>\n",
       "      <td>NoReward</td>\n",
       "      <td>R</td>\n",
       "      <td>36</td>\n",
       "      <td>M</td>\n",
       "      <td>148.427</td>\n",
       "      <td>122.623569</td>\n",
       "      <td>176.674</td>\n",
       "      <td>0.0</td>\n",
       "      <td>...</td>\n",
       "      <td>NaN</td>\n",
       "      <td>NaN</td>\n",
       "      <td>NaN</td>\n",
       "      <td>NaN</td>\n",
       "      <td>NaN</td>\n",
       "      <td>NaN</td>\n",
       "      <td>NaN</td>\n",
       "      <td>NaN</td>\n",
       "      <td>NaN</td>\n",
       "      <td>NaN</td>\n",
       "    </tr>\n",
       "    <tr>\n",
       "      <th>2</th>\n",
       "      <td>vn265606624Yv403</td>\n",
       "      <td>0</td>\n",
       "      <td>NoReward</td>\n",
       "      <td>R</td>\n",
       "      <td>36</td>\n",
       "      <td>M</td>\n",
       "      <td>148.427</td>\n",
       "      <td>122.623569</td>\n",
       "      <td>175.503</td>\n",
       "      <td>0.0</td>\n",
       "      <td>...</td>\n",
       "      <td>NaN</td>\n",
       "      <td>NaN</td>\n",
       "      <td>NaN</td>\n",
       "      <td>NaN</td>\n",
       "      <td>NaN</td>\n",
       "      <td>NaN</td>\n",
       "      <td>NaN</td>\n",
       "      <td>NaN</td>\n",
       "      <td>NaN</td>\n",
       "      <td>NaN</td>\n",
       "    </tr>\n",
       "    <tr>\n",
       "      <th>3</th>\n",
       "      <td>vn265606624Yv403</td>\n",
       "      <td>0</td>\n",
       "      <td>NoReward</td>\n",
       "      <td>R</td>\n",
       "      <td>36</td>\n",
       "      <td>M</td>\n",
       "      <td>148.427</td>\n",
       "      <td>126.457688</td>\n",
       "      <td>174.325</td>\n",
       "      <td>0.0</td>\n",
       "      <td>...</td>\n",
       "      <td>NaN</td>\n",
       "      <td>NaN</td>\n",
       "      <td>NaN</td>\n",
       "      <td>NaN</td>\n",
       "      <td>NaN</td>\n",
       "      <td>NaN</td>\n",
       "      <td>NaN</td>\n",
       "      <td>NaN</td>\n",
       "      <td>NaN</td>\n",
       "      <td>NaN</td>\n",
       "    </tr>\n",
       "    <tr>\n",
       "      <th>4</th>\n",
       "      <td>vn265606624Yv403</td>\n",
       "      <td>0</td>\n",
       "      <td>NoReward</td>\n",
       "      <td>R</td>\n",
       "      <td>36</td>\n",
       "      <td>M</td>\n",
       "      <td>148.427</td>\n",
       "      <td>126.457688</td>\n",
       "      <td>173.139</td>\n",
       "      <td>0.0</td>\n",
       "      <td>...</td>\n",
       "      <td>NaN</td>\n",
       "      <td>NaN</td>\n",
       "      <td>NaN</td>\n",
       "      <td>NaN</td>\n",
       "      <td>NaN</td>\n",
       "      <td>NaN</td>\n",
       "      <td>NaN</td>\n",
       "      <td>NaN</td>\n",
       "      <td>NaN</td>\n",
       "      <td>NaN</td>\n",
       "    </tr>\n",
       "    <tr>\n",
       "      <th>...</th>\n",
       "      <td>...</td>\n",
       "      <td>...</td>\n",
       "      <td>...</td>\n",
       "      <td>...</td>\n",
       "      <td>...</td>\n",
       "      <td>...</td>\n",
       "      <td>...</td>\n",
       "      <td>...</td>\n",
       "      <td>...</td>\n",
       "      <td>...</td>\n",
       "      <td>...</td>\n",
       "      <td>...</td>\n",
       "      <td>...</td>\n",
       "      <td>...</td>\n",
       "      <td>...</td>\n",
       "      <td>...</td>\n",
       "      <td>...</td>\n",
       "      <td>...</td>\n",
       "      <td>...</td>\n",
       "      <td>...</td>\n",
       "      <td>...</td>\n",
       "    </tr>\n",
       "    <tr>\n",
       "      <th>19000</th>\n",
       "      <td>wQ432254460Cm818</td>\n",
       "      <td>52</td>\n",
       "      <td>NoReward</td>\n",
       "      <td>R</td>\n",
       "      <td>29</td>\n",
       "      <td>M</td>\n",
       "      <td>NaN</td>\n",
       "      <td>NaN</td>\n",
       "      <td>NaN</td>\n",
       "      <td>NaN</td>\n",
       "      <td>...</td>\n",
       "      <td>NaN</td>\n",
       "      <td>NaN</td>\n",
       "      <td>NaN</td>\n",
       "      <td>NaN</td>\n",
       "      <td>904.0</td>\n",
       "      <td>b_l_pinky1</td>\n",
       "      <td>-0.441</td>\n",
       "      <td>14.358</td>\n",
       "      <td>-2.871</td>\n",
       "      <td>323.241</td>\n",
       "    </tr>\n",
       "    <tr>\n",
       "      <th>19001</th>\n",
       "      <td>wQ432254460Cm818</td>\n",
       "      <td>52</td>\n",
       "      <td>NoReward</td>\n",
       "      <td>R</td>\n",
       "      <td>29</td>\n",
       "      <td>M</td>\n",
       "      <td>NaN</td>\n",
       "      <td>NaN</td>\n",
       "      <td>NaN</td>\n",
       "      <td>NaN</td>\n",
       "      <td>...</td>\n",
       "      <td>NaN</td>\n",
       "      <td>NaN</td>\n",
       "      <td>NaN</td>\n",
       "      <td>NaN</td>\n",
       "      <td>904.0</td>\n",
       "      <td>b_l_pinky2</td>\n",
       "      <td>-0.433</td>\n",
       "      <td>14.377</td>\n",
       "      <td>-2.848</td>\n",
       "      <td>269.122</td>\n",
       "    </tr>\n",
       "    <tr>\n",
       "      <th>19002</th>\n",
       "      <td>wQ432254460Cm818</td>\n",
       "      <td>52</td>\n",
       "      <td>NoReward</td>\n",
       "      <td>R</td>\n",
       "      <td>29</td>\n",
       "      <td>M</td>\n",
       "      <td>NaN</td>\n",
       "      <td>NaN</td>\n",
       "      <td>NaN</td>\n",
       "      <td>NaN</td>\n",
       "      <td>...</td>\n",
       "      <td>NaN</td>\n",
       "      <td>NaN</td>\n",
       "      <td>NaN</td>\n",
       "      <td>NaN</td>\n",
       "      <td>904.0</td>\n",
       "      <td>b_l_pinky3</td>\n",
       "      <td>-0.414</td>\n",
       "      <td>14.379</td>\n",
       "      <td>-2.856</td>\n",
       "      <td>305.244</td>\n",
       "    </tr>\n",
       "    <tr>\n",
       "      <th>19003</th>\n",
       "      <td>wQ432254460Cm818</td>\n",
       "      <td>52</td>\n",
       "      <td>NoReward</td>\n",
       "      <td>R</td>\n",
       "      <td>29</td>\n",
       "      <td>M</td>\n",
       "      <td>NaN</td>\n",
       "      <td>NaN</td>\n",
       "      <td>NaN</td>\n",
       "      <td>NaN</td>\n",
       "      <td>...</td>\n",
       "      <td>NaN</td>\n",
       "      <td>NaN</td>\n",
       "      <td>NaN</td>\n",
       "      <td>NaN</td>\n",
       "      <td>904.0</td>\n",
       "      <td>l_pinky_finger_tip_marker</td>\n",
       "      <td>-0.407</td>\n",
       "      <td>14.372</td>\n",
       "      <td>-2.876</td>\n",
       "      <td>0.000</td>\n",
       "    </tr>\n",
       "    <tr>\n",
       "      <th>19004</th>\n",
       "      <td>wQ432254460Cm818</td>\n",
       "      <td>52</td>\n",
       "      <td>NoReward</td>\n",
       "      <td>R</td>\n",
       "      <td>29</td>\n",
       "      <td>M</td>\n",
       "      <td>NaN</td>\n",
       "      <td>NaN</td>\n",
       "      <td>NaN</td>\n",
       "      <td>NaN</td>\n",
       "      <td>...</td>\n",
       "      <td>NaN</td>\n",
       "      <td>NaN</td>\n",
       "      <td>NaN</td>\n",
       "      <td>NaN</td>\n",
       "      <td>904.0</td>\n",
       "      <td>b_l_wrist</td>\n",
       "      <td>-0.416</td>\n",
       "      <td>14.323</td>\n",
       "      <td>-2.945</td>\n",
       "      <td>0.000</td>\n",
       "    </tr>\n",
       "  </tbody>\n",
       "</table>\n",
       "<p>34315806 rows × 22 columns</p>\n",
       "</div>"
      ],
      "text/plain": [
       "                  PtxID  trial     group hand age sex  Dial_Raw  Dial_Recon  \\\n",
       "0      vn265606624Yv403      0  NoReward    R  36   M   148.427  122.623569   \n",
       "1      vn265606624Yv403      0  NoReward    R  36   M   148.427  122.623569   \n",
       "2      vn265606624Yv403      0  NoReward    R  36   M   148.427  122.623569   \n",
       "3      vn265606624Yv403      0  NoReward    R  36   M   148.427  126.457688   \n",
       "4      vn265606624Yv403      0  NoReward    R  36   M   148.427  126.457688   \n",
       "...                 ...    ...       ...  ...  ..  ..       ...         ...   \n",
       "19000  wQ432254460Cm818     52  NoReward    R  29   M       NaN         NaN   \n",
       "19001  wQ432254460Cm818     52  NoReward    R  29   M       NaN         NaN   \n",
       "19002  wQ432254460Cm818     52  NoReward    R  29   M       NaN         NaN   \n",
       "19003  wQ432254460Cm818     52  NoReward    R  29   M       NaN         NaN   \n",
       "19004  wQ432254460Cm818     52  NoReward    R  29   M       NaN         NaN   \n",
       "\n",
       "        Target  Score  ...  VxPos VyPos  VzPos  Vrot  Frame  \\\n",
       "0      177.840    0.0  ...    NaN   NaN    NaN   NaN    NaN   \n",
       "1      176.674    0.0  ...    NaN   NaN    NaN   NaN    NaN   \n",
       "2      175.503    0.0  ...    NaN   NaN    NaN   NaN    NaN   \n",
       "3      174.325    0.0  ...    NaN   NaN    NaN   NaN    NaN   \n",
       "4      173.139    0.0  ...    NaN   NaN    NaN   NaN    NaN   \n",
       "...        ...    ...  ...    ...   ...    ...   ...    ...   \n",
       "19000      NaN    NaN  ...    NaN   NaN    NaN   NaN  904.0   \n",
       "19001      NaN    NaN  ...    NaN   NaN    NaN   NaN  904.0   \n",
       "19002      NaN    NaN  ...    NaN   NaN    NaN   NaN  904.0   \n",
       "19003      NaN    NaN  ...    NaN   NaN    NaN   NaN  904.0   \n",
       "19004      NaN    NaN  ...    NaN   NaN    NaN   NaN  904.0   \n",
       "\n",
       "                           Joint   xPos    yPos   zPos      rot  \n",
       "0                            NaN    NaN     NaN    NaN      NaN  \n",
       "1                            NaN    NaN     NaN    NaN      NaN  \n",
       "2                            NaN    NaN     NaN    NaN      NaN  \n",
       "3                            NaN    NaN     NaN    NaN      NaN  \n",
       "4                            NaN    NaN     NaN    NaN      NaN  \n",
       "...                          ...    ...     ...    ...      ...  \n",
       "19000                 b_l_pinky1 -0.441  14.358 -2.871  323.241  \n",
       "19001                 b_l_pinky2 -0.433  14.377 -2.848  269.122  \n",
       "19002                 b_l_pinky3 -0.414  14.379 -2.856  305.244  \n",
       "19003  l_pinky_finger_tip_marker -0.407  14.372 -2.876    0.000  \n",
       "19004                  b_l_wrist -0.416  14.323 -2.945    0.000  \n",
       "\n",
       "[34315806 rows x 22 columns]"
      ]
     },
     "execution_count": 16,
     "metadata": {},
     "output_type": "execute_result"
    }
   ],
   "source": [
    "# df_all = df_all.reset_index()\n",
    "df_all"
   ]
  },
  {
   "cell_type": "code",
   "execution_count": 89,
   "metadata": {
    "tags": []
   },
   "outputs": [
    {
     "name": "stdout",
     "output_type": "stream",
     "text": [
      "empty\n",
      "Number of participants:  39\n",
      "Groups:  2\n",
      "Average Age:  27.0\n",
      "Groups:  ['NoReward' 'Reward']\n",
      "Joints:  [nan 'b_l_thumb1' 'b_l_thumb2' 'b_l_thumb3' 'l_thumb_finger_tip_marker'\n",
      " 'b_l_index1' 'b_l_index2' 'b_l_index3' 'l_index_finger_tip_marker'\n",
      " 'b_l_middle1' 'b_l_middle2' 'b_l_middle3' 'l_middle_finger_tip_marker'\n",
      " 'b_l_ring1' 'b_l_ring2' 'b_l_ring3' 'l_ring_finger_tip_marker'\n",
      " 'b_l_pinky1' 'b_l_pinky2' 'b_l_pinky3' 'l_pinky_finger_tip_marker'\n",
      " 'b_l_wrist']\n",
      "Number in  Reward  Group:  16 \n",
      "\n",
      "\n"
     ]
    },
    {
     "data": {
      "text/html": [
       "<div>\n",
       "<style scoped>\n",
       "    .dataframe tbody tr th:only-of-type {\n",
       "        vertical-align: middle;\n",
       "    }\n",
       "\n",
       "    .dataframe tbody tr th {\n",
       "        vertical-align: top;\n",
       "    }\n",
       "\n",
       "    .dataframe thead th {\n",
       "        text-align: right;\n",
       "    }\n",
       "</style>\n",
       "<table border=\"1\" class=\"dataframe\">\n",
       "  <thead>\n",
       "    <tr style=\"text-align: right;\">\n",
       "      <th></th>\n",
       "      <th>index</th>\n",
       "      <th>PtxID</th>\n",
       "      <th>trial</th>\n",
       "      <th>group</th>\n",
       "      <th>hand</th>\n",
       "      <th>age</th>\n",
       "      <th>sex</th>\n",
       "      <th>Dial_Raw</th>\n",
       "      <th>Dial_Recon</th>\n",
       "      <th>Target</th>\n",
       "      <th>...</th>\n",
       "      <th>VxPos</th>\n",
       "      <th>VyPos</th>\n",
       "      <th>VzPos</th>\n",
       "      <th>Vrot</th>\n",
       "      <th>Frame</th>\n",
       "      <th>Joint</th>\n",
       "      <th>xPos</th>\n",
       "      <th>yPos</th>\n",
       "      <th>zPos</th>\n",
       "      <th>rot</th>\n",
       "    </tr>\n",
       "  </thead>\n",
       "  <tbody>\n",
       "    <tr>\n",
       "      <th>0</th>\n",
       "      <td>0</td>\n",
       "      <td>vn265606624Yv403</td>\n",
       "      <td>0</td>\n",
       "      <td>NoReward</td>\n",
       "      <td>R</td>\n",
       "      <td>36</td>\n",
       "      <td>M</td>\n",
       "      <td>148.427</td>\n",
       "      <td>122.623569</td>\n",
       "      <td>177.840</td>\n",
       "      <td>...</td>\n",
       "      <td>NaN</td>\n",
       "      <td>NaN</td>\n",
       "      <td>NaN</td>\n",
       "      <td>NaN</td>\n",
       "      <td>NaN</td>\n",
       "      <td>NaN</td>\n",
       "      <td>NaN</td>\n",
       "      <td>NaN</td>\n",
       "      <td>NaN</td>\n",
       "      <td>NaN</td>\n",
       "    </tr>\n",
       "    <tr>\n",
       "      <th>1</th>\n",
       "      <td>1</td>\n",
       "      <td>vn265606624Yv403</td>\n",
       "      <td>0</td>\n",
       "      <td>NoReward</td>\n",
       "      <td>R</td>\n",
       "      <td>36</td>\n",
       "      <td>M</td>\n",
       "      <td>148.427</td>\n",
       "      <td>122.623569</td>\n",
       "      <td>176.674</td>\n",
       "      <td>...</td>\n",
       "      <td>NaN</td>\n",
       "      <td>NaN</td>\n",
       "      <td>NaN</td>\n",
       "      <td>NaN</td>\n",
       "      <td>NaN</td>\n",
       "      <td>NaN</td>\n",
       "      <td>NaN</td>\n",
       "      <td>NaN</td>\n",
       "      <td>NaN</td>\n",
       "      <td>NaN</td>\n",
       "    </tr>\n",
       "  </tbody>\n",
       "</table>\n",
       "<p>2 rows × 23 columns</p>\n",
       "</div>"
      ],
      "text/plain": [
       "   index             PtxID  trial     group hand age sex  Dial_Raw  \\\n",
       "0      0  vn265606624Yv403      0  NoReward    R  36   M   148.427   \n",
       "1      1  vn265606624Yv403      0  NoReward    R  36   M   148.427   \n",
       "\n",
       "   Dial_Recon   Target  ...  VxPos  VyPos VzPos  Vrot  Frame  Joint  xPos  \\\n",
       "0  122.623569  177.840  ...    NaN    NaN   NaN   NaN    NaN    NaN   NaN   \n",
       "1  122.623569  176.674  ...    NaN    NaN   NaN   NaN    NaN    NaN   NaN   \n",
       "\n",
       "   yPos zPos  rot  \n",
       "0   NaN  NaN  NaN  \n",
       "1   NaN  NaN  NaN  \n",
       "\n",
       "[2 rows x 23 columns]"
      ]
     },
     "execution_count": 89,
     "metadata": {},
     "output_type": "execute_result"
    }
   ],
   "source": [
    "# Compute average age and filter out ages above 80 \n",
    "ageString = pd.unique(df_all['age'])\n",
    "\n",
    "# Clean up ages in case it is empty \n",
    "for idx, ag in enumerate(ageString):\n",
    "    if not ag:\n",
    "        print('empty')\n",
    "        ageString[idx] = '200'\n",
    "        \n",
    "agesf = []\n",
    "for idx, ag in enumerate(ageString):\n",
    "    try: \n",
    "        agesf.append(int(ag))\n",
    "    except:\n",
    "        agesf.append(np.nan)\n",
    "        \n",
    "ages = [ (np.nan * x) if x>80 else x for x in agesf]\n",
    "\n",
    "# General info about the dataframe\n",
    "print('Number of participants: ', len(pd.unique(df_all['PtxID'])))\n",
    "print('Groups: ', len(pd.unique(df_all['group'])))\n",
    "print('Average Age: ', np.round(np.nanmean(ages)))\n",
    "print('Groups: ', pd.unique(df_all['group']))\n",
    "print('Joints: ', pd.unique(df_all[gmask]['Joint'])) \n",
    "gmask = (df_all['group'] == 'Reward')\n",
    "print('Number in' , ' Reward ' , 'Group: ', len(pd.unique(df_all[gmask]['age'])), '\\n\\n')\n",
    "\n",
    "df_all.head(2)"
   ]
  },
  {
   "cell_type": "markdown",
   "metadata": {},
   "source": [
    "### Visualize all trial data for each participant"
   ]
  },
  {
   "cell_type": "markdown",
   "metadata": {},
   "source": [
    "#### Show target, raw and reconstructed dial angles"
   ]
  },
  {
   "cell_type": "code",
   "execution_count": 28,
   "metadata": {
    "tags": []
   },
   "outputs": [],
   "source": [
    "# # For each participant show all the trials, with target, raw and reconstructed dial angles\n",
    "# # fig, axs = plt.subplots(8,7)\n",
    "\n",
    "# plt.figure(1)\n",
    "\n",
    "# participants = pd.unique(df_all['PtxID'])\n",
    "# trials = pd.unique(df_all['trial'])\n",
    "\n",
    "# for ptx, pt in enumerate(participants):\n",
    "#     print('Participant: ', ptx, ' / ', len(participants))\n",
    "#     for tr in trials:\n",
    "\n",
    "#         mask = (df_all['PtxID'] == pt) &  (df_all['group'] == 'Reward') &  (df_all['trial'] == tr)\n",
    "#         dial = df_all[mask]['Dial_Raw'].values\n",
    "#         dialRecon = df_all[mask]['Dial_Recon'].values\n",
    "#         target = df_all[mask]['Target'].values\n",
    "\n",
    "#         # Extract group automatically \n",
    "#         gmask = (df_all['PtxID'] == pt)\n",
    "#         grp = df_all[gmask]['group']\n",
    "#         group = grp.values[0]\n",
    "\n",
    "#         plt.subplot(8,7,tr+1)\n",
    "#         plt.plot(target,'k',linewidth = 0.75)\n",
    "#         plt.plot(dial,'r',linewidth = 0.45)\n",
    "#         plt.plot(dialRecon,'g',linewidth = 0.25)\n",
    "#         plt.xticks(fontsize = 3)\n",
    "#         plt.yticks(fontsize = 3)\n",
    "#         plt.tight_layout()\n",
    "\n",
    "#     plt.subplot(8,7,tr+1)\n",
    "#     plt.plot(0,0,'k')\n",
    "#     plt.plot(0,0,'r')\n",
    "#     plt.plot(0,0,'g')\n",
    "#     plt.legend(['Target','Raw Dial','Recon Dial'])\n",
    "#     plt.text(-0.05,0, 'ptx_' + str(ptx) + '_' + group ,fontsize=2)\n",
    "#     plt.savefig(path + \"/Figures/\" + 'ptx_' + str(ptx) + '_' + str(np.round(time.time())) + \"Dial_Reconstruction.png\", dpi = 1200)\n",
    "#     plt.show()\n",
    "    \n",
    "#     # plt.legend(bbox_to_anchor=(1.05, 1.0), loc='upper right')\n",
    "#     # plt.legend(['Target','Dial','Dial_Reconst.'])\n",
    "#     # plt.tight_layout()\n",
    "#     # plt.xlabel('Samples')\n",
    "#     # plt.ylabel('Angle (degree)')"
   ]
  },
  {
   "cell_type": "code",
   "execution_count": null,
   "metadata": {},
   "outputs": [],
   "source": []
  },
  {
   "cell_type": "markdown",
   "metadata": {},
   "source": [
    "#### Show regression line through target vs dial data "
   ]
  },
  {
   "cell_type": "code",
   "execution_count": 92,
   "metadata": {},
   "outputs": [],
   "source": [
    "def mae(data, ref):\n",
    "    mae = 0\n",
    "    c = 0\n",
    "    for i in data:\n",
    "        mae += abs(i-ref)\n",
    "        c += 1\n",
    "    return mae / c"
   ]
  },
  {
   "cell_type": "code",
   "execution_count": 99,
   "metadata": {},
   "outputs": [],
   "source": [
    "from numpy import sin\n",
    "from numpy import sqrt\n",
    "from numpy import arange\n",
    "from pandas import read_csv\n",
    "from scipy.optimize import curve_fit\n",
    "from matplotlib import pyplot\n",
    "\n",
    "# Fit a line to the raw dial angle data\n",
    "\n",
    "# define the true objective function\n",
    "def objective1(x, a, b, c, d): # sine combined with 2nd order polynomial \n",
    "\treturn a * sin(b - x) + c * x**2 + d\n",
    "\n",
    "def objective2(x, a, b, c, d, e, f): # 5th order polynomial \n",
    "\treturn (a * x) + (b * x**2) + (c * x**3) + (d * x**4) + (e * x**5) + f\n",
    "\n",
    "def objective3(x, a, p, v, f): # Sine function \n",
    "    # x = input data \n",
    "    # a = amplitude\n",
    "    # f = frequency aka period (2*pi/f)\n",
    "    # p = phase shift\n",
    "    # v = vertical shift \n",
    "    return a * sin((f * x) + p) + v\n",
    "\n",
    "def objective4(x, m, b): # Linear function \n",
    "    return (m * x) + b\n",
    "\n",
    "\n",
    "# define the true objective function\n",
    "def objective5(x, a, b, c, d, e, f): # sine combined with another sine  \n",
    "\treturn (a * sin(b - x) + c) + (d * sin(e - x) + f)\n",
    "\n",
    "\n",
    "def FitCurve(y, target, func = 1):\n",
    "    \n",
    "    # the dataset\n",
    "    N = len(y)\n",
    "    x = np.linspace(0, 4*np.pi, N)\n",
    "    \n",
    "    # define a sequence of inputs between the smallest and largest known inputs\n",
    "    x_line = arange(min(x), max(x), 1)\n",
    "    \n",
    "    # summarize the parameter values\n",
    "    if func == 1:\n",
    "        popt, _ = curve_fit(objective1, x, y) # curve fit\n",
    "        a, b, c, d = popt # objective1  \n",
    "        y_line = objective1(x_line, a, b, c, d) # calculate the output for the range\n",
    "    elif func == 2:\n",
    "        popt, _ = curve_fit(objective2, x, y) # curve fit\n",
    "        a, b, c, d, e, f = popt # objective2\n",
    "        y_line = objective2(x_line, a, b, c, d, e, f) # calculate the output for the range\n",
    "    elif func == 3:\n",
    "        popt, _ = curve_fit(objective3, x, y) # curve fit\n",
    "        a, b, c, f = popt # objective3\n",
    "        y_line = objective3(x_line, a, b, c, f) # calculate the output for the range\n",
    "    elif func == 4:\n",
    "        popt, _ = curve_fit(objective4, x, y) # curve fit\n",
    "        a, b = popt # objective3\n",
    "        y_line = objective4(x_line, a, b) # calculate the output for the range\n",
    "    elif func == 5:\n",
    "        popt, _ = curve_fit(objective5, x, y) # curve fit\n",
    "        a, b, c, d, e, f = popt # objective3\n",
    "        y_line = objective5(x_line, a, b, c, d, e, f) # calculate the output for the range\n",
    "        \n",
    "    print(popt)\n",
    "\n",
    "    # create a line plot for the mapping function\n",
    "    # plot input vs output\n",
    "    pyplot.scatter(x, target, color='k',linewidth=5)\n",
    "    pyplot.plot(x, y,'r--',linewidth=3)\n",
    "    pyplot.plot(x_line, y_line, '-', color='green', linewidth=2)\n",
    "    pyplot.show()\n",
    "    \n",
    "def FitLine(y, target, func = 1, showPlot = False):\n",
    "    \n",
    "    # the dataset\n",
    "    # N = len(y)\n",
    "    x = target #np.linspace(0, 4*np.pi, N)\n",
    "    \n",
    "    # define a sequence of inputs between the smallest and largest known inputs\n",
    "    x_line = arange(min(x), max(x), 1)\n",
    "    \n",
    "    # summarize the parameter values\n",
    "    popt, _ = curve_fit(objective4, x, y) # curve fit\n",
    "    a, b = popt # objective3\n",
    "    y_line = objective4(x_line, a, b) # calculate the output for the range\n",
    "\n",
    "    # create a line plot for the mapping function\n",
    "    # plot input vs output\n",
    "    if showPlot:\n",
    "        pyplot.plot(target, y, 'ko', markersize=0.5)\n",
    "        pyplot.plot(x_line, y_line, 'r--', linewidth=0.75)\n",
    "    \n",
    "    return a, b"
   ]
  },
  {
   "cell_type": "code",
   "execution_count": 101,
   "metadata": {},
   "outputs": [
    {
     "data": {
      "text/plain": [
       "True"
      ]
     },
     "execution_count": 101,
     "metadata": {},
     "output_type": "execute_result"
    }
   ],
   "source": [
    "math.isnan(np.nan)"
   ]
  },
  {
   "cell_type": "code",
   "execution_count": 45,
   "metadata": {},
   "outputs": [
    {
     "name": "stdout",
     "output_type": "stream",
     "text": [
      "[ 3  5 24 13 31]\n"
     ]
    },
    {
     "data": {
      "text/plain": [
       "array(['CL78462911bI451', 'iA94696354Ww734', 'pU265328919tM703',\n",
       "       'qX523123508pL71', 'FV138309651bm4'], dtype=object)"
      ]
     },
     "execution_count": 45,
     "metadata": {},
     "output_type": "execute_result"
    }
   ],
   "source": [
    "# Randomly select n from the total pool of participants to speed up data analysis \n",
    "participants = pd.unique(df_all['PtxID']) # All participants \n",
    "\n",
    "n = 5\n",
    "index = np.random.choice(len(participants), n, replace=False) \n",
    "index\n",
    "print(index)\n",
    "participants[index]"
   ]
  },
  {
   "cell_type": "code",
   "execution_count": 47,
   "metadata": {
    "collapsed": true,
    "jupyter": {
     "outputs_hidden": true
    },
    "tags": []
   },
   "outputs": [
    {
     "name": "stdout",
     "output_type": "stream",
     "text": [
      "Participant:  0  /  39\n"
     ]
    },
    {
     "data": {
      "text/plain": [
       "<Figure size 720x216 with 0 Axes>"
      ]
     },
     "metadata": {},
     "output_type": "display_data"
    },
    {
     "name": "stdout",
     "output_type": "stream",
     "text": [
      "Participant:  1  /  39\n"
     ]
    },
    {
     "ename": "KeyboardInterrupt",
     "evalue": "",
     "output_type": "error",
     "traceback": [
      "\u001b[1;31m---------------------------------------------------------------------------\u001b[0m",
      "\u001b[1;31mKeyboardInterrupt\u001b[0m                         Traceback (most recent call last)",
      "\u001b[1;32m~\\AppData\\Local\\Temp/ipykernel_9220/1135742134.py\u001b[0m in \u001b[0;36m<module>\u001b[1;34m\u001b[0m\n\u001b[0;32m    105\u001b[0m         \u001b[1;31m# Extract group automatically\u001b[0m\u001b[1;33m\u001b[0m\u001b[1;33m\u001b[0m\u001b[0m\n\u001b[0;32m    106\u001b[0m         \u001b[0mgmask\u001b[0m \u001b[1;33m=\u001b[0m \u001b[1;33m(\u001b[0m\u001b[0mdf_all\u001b[0m\u001b[1;33m[\u001b[0m\u001b[1;34m'PtxID'\u001b[0m\u001b[1;33m]\u001b[0m \u001b[1;33m==\u001b[0m \u001b[0mpt\u001b[0m\u001b[1;33m)\u001b[0m\u001b[1;33m\u001b[0m\u001b[1;33m\u001b[0m\u001b[0m\n\u001b[1;32m--> 107\u001b[1;33m         \u001b[0mgrp\u001b[0m \u001b[1;33m=\u001b[0m \u001b[0mdf_all\u001b[0m\u001b[1;33m[\u001b[0m\u001b[0mgmask\u001b[0m\u001b[1;33m]\u001b[0m\u001b[1;33m[\u001b[0m\u001b[1;34m'group'\u001b[0m\u001b[1;33m]\u001b[0m\u001b[1;33m\u001b[0m\u001b[1;33m\u001b[0m\u001b[0m\n\u001b[0m\u001b[0;32m    108\u001b[0m         \u001b[0mgroup\u001b[0m \u001b[1;33m=\u001b[0m \u001b[0mgrp\u001b[0m\u001b[1;33m.\u001b[0m\u001b[0mvalues\u001b[0m\u001b[1;33m[\u001b[0m\u001b[1;36m0\u001b[0m\u001b[1;33m]\u001b[0m\u001b[1;33m\u001b[0m\u001b[1;33m\u001b[0m\u001b[0m\n\u001b[0;32m    109\u001b[0m         \u001b[0mtrialz\u001b[0m\u001b[1;33m.\u001b[0m\u001b[0mappend\u001b[0m\u001b[1;33m(\u001b[0m\u001b[0mtr\u001b[0m\u001b[1;33m)\u001b[0m\u001b[1;33m\u001b[0m\u001b[1;33m\u001b[0m\u001b[0m\n",
      "\u001b[1;32mC:\\ProgramData\\Anaconda3\\lib\\site-packages\\pandas\\core\\frame.py\u001b[0m in \u001b[0;36m__getitem__\u001b[1;34m(self, key)\u001b[0m\n\u001b[0;32m   3447\u001b[0m         \u001b[1;31m# Do we have a (boolean) 1d indexer?\u001b[0m\u001b[1;33m\u001b[0m\u001b[1;33m\u001b[0m\u001b[0m\n\u001b[0;32m   3448\u001b[0m         \u001b[1;32mif\u001b[0m \u001b[0mcom\u001b[0m\u001b[1;33m.\u001b[0m\u001b[0mis_bool_indexer\u001b[0m\u001b[1;33m(\u001b[0m\u001b[0mkey\u001b[0m\u001b[1;33m)\u001b[0m\u001b[1;33m:\u001b[0m\u001b[1;33m\u001b[0m\u001b[1;33m\u001b[0m\u001b[0m\n\u001b[1;32m-> 3449\u001b[1;33m             \u001b[1;32mreturn\u001b[0m \u001b[0mself\u001b[0m\u001b[1;33m.\u001b[0m\u001b[0m_getitem_bool_array\u001b[0m\u001b[1;33m(\u001b[0m\u001b[0mkey\u001b[0m\u001b[1;33m)\u001b[0m\u001b[1;33m\u001b[0m\u001b[1;33m\u001b[0m\u001b[0m\n\u001b[0m\u001b[0;32m   3450\u001b[0m \u001b[1;33m\u001b[0m\u001b[0m\n\u001b[0;32m   3451\u001b[0m         \u001b[1;31m# We are left with two options: a single key, and a collection of keys,\u001b[0m\u001b[1;33m\u001b[0m\u001b[1;33m\u001b[0m\u001b[0m\n",
      "\u001b[1;32mC:\\ProgramData\\Anaconda3\\lib\\site-packages\\pandas\\core\\frame.py\u001b[0m in \u001b[0;36m_getitem_bool_array\u001b[1;34m(self, key)\u001b[0m\n\u001b[0;32m   3502\u001b[0m         \u001b[0mkey\u001b[0m \u001b[1;33m=\u001b[0m \u001b[0mcheck_bool_indexer\u001b[0m\u001b[1;33m(\u001b[0m\u001b[0mself\u001b[0m\u001b[1;33m.\u001b[0m\u001b[0mindex\u001b[0m\u001b[1;33m,\u001b[0m \u001b[0mkey\u001b[0m\u001b[1;33m)\u001b[0m\u001b[1;33m\u001b[0m\u001b[1;33m\u001b[0m\u001b[0m\n\u001b[0;32m   3503\u001b[0m         \u001b[0mindexer\u001b[0m \u001b[1;33m=\u001b[0m \u001b[0mkey\u001b[0m\u001b[1;33m.\u001b[0m\u001b[0mnonzero\u001b[0m\u001b[1;33m(\u001b[0m\u001b[1;33m)\u001b[0m\u001b[1;33m[\u001b[0m\u001b[1;36m0\u001b[0m\u001b[1;33m]\u001b[0m\u001b[1;33m\u001b[0m\u001b[1;33m\u001b[0m\u001b[0m\n\u001b[1;32m-> 3504\u001b[1;33m         \u001b[1;32mreturn\u001b[0m \u001b[0mself\u001b[0m\u001b[1;33m.\u001b[0m\u001b[0m_take_with_is_copy\u001b[0m\u001b[1;33m(\u001b[0m\u001b[0mindexer\u001b[0m\u001b[1;33m,\u001b[0m \u001b[0maxis\u001b[0m\u001b[1;33m=\u001b[0m\u001b[1;36m0\u001b[0m\u001b[1;33m)\u001b[0m\u001b[1;33m\u001b[0m\u001b[1;33m\u001b[0m\u001b[0m\n\u001b[0m\u001b[0;32m   3505\u001b[0m \u001b[1;33m\u001b[0m\u001b[0m\n\u001b[0;32m   3506\u001b[0m     \u001b[1;32mdef\u001b[0m \u001b[0m_getitem_multilevel\u001b[0m\u001b[1;33m(\u001b[0m\u001b[0mself\u001b[0m\u001b[1;33m,\u001b[0m \u001b[0mkey\u001b[0m\u001b[1;33m)\u001b[0m\u001b[1;33m:\u001b[0m\u001b[1;33m\u001b[0m\u001b[1;33m\u001b[0m\u001b[0m\n",
      "\u001b[1;32mC:\\ProgramData\\Anaconda3\\lib\\site-packages\\pandas\\core\\generic.py\u001b[0m in \u001b[0;36m_take_with_is_copy\u001b[1;34m(self, indices, axis)\u001b[0m\n\u001b[0;32m   3626\u001b[0m         \u001b[0mSee\u001b[0m \u001b[0mthe\u001b[0m \u001b[0mdocstring\u001b[0m \u001b[0mof\u001b[0m\u001b[0;31m \u001b[0m\u001b[0;31m`\u001b[0m\u001b[0mtake\u001b[0m\u001b[0;31m`\u001b[0m \u001b[1;32mfor\u001b[0m \u001b[0mfull\u001b[0m \u001b[0mexplanation\u001b[0m \u001b[0mof\u001b[0m \u001b[0mthe\u001b[0m \u001b[0mparameters\u001b[0m\u001b[1;33m.\u001b[0m\u001b[1;33m\u001b[0m\u001b[1;33m\u001b[0m\u001b[0m\n\u001b[0;32m   3627\u001b[0m         \"\"\"\n\u001b[1;32m-> 3628\u001b[1;33m         \u001b[0mresult\u001b[0m \u001b[1;33m=\u001b[0m \u001b[0mself\u001b[0m\u001b[1;33m.\u001b[0m\u001b[0mtake\u001b[0m\u001b[1;33m(\u001b[0m\u001b[0mindices\u001b[0m\u001b[1;33m=\u001b[0m\u001b[0mindices\u001b[0m\u001b[1;33m,\u001b[0m \u001b[0maxis\u001b[0m\u001b[1;33m=\u001b[0m\u001b[0maxis\u001b[0m\u001b[1;33m)\u001b[0m\u001b[1;33m\u001b[0m\u001b[1;33m\u001b[0m\u001b[0m\n\u001b[0m\u001b[0;32m   3629\u001b[0m         \u001b[1;31m# Maybe set copy if we didn't actually change the index.\u001b[0m\u001b[1;33m\u001b[0m\u001b[1;33m\u001b[0m\u001b[0m\n\u001b[0;32m   3630\u001b[0m         \u001b[1;32mif\u001b[0m \u001b[1;32mnot\u001b[0m \u001b[0mresult\u001b[0m\u001b[1;33m.\u001b[0m\u001b[0m_get_axis\u001b[0m\u001b[1;33m(\u001b[0m\u001b[0maxis\u001b[0m\u001b[1;33m)\u001b[0m\u001b[1;33m.\u001b[0m\u001b[0mequals\u001b[0m\u001b[1;33m(\u001b[0m\u001b[0mself\u001b[0m\u001b[1;33m.\u001b[0m\u001b[0m_get_axis\u001b[0m\u001b[1;33m(\u001b[0m\u001b[0maxis\u001b[0m\u001b[1;33m)\u001b[0m\u001b[1;33m)\u001b[0m\u001b[1;33m:\u001b[0m\u001b[1;33m\u001b[0m\u001b[1;33m\u001b[0m\u001b[0m\n",
      "\u001b[1;32mC:\\ProgramData\\Anaconda3\\lib\\site-packages\\pandas\\core\\generic.py\u001b[0m in \u001b[0;36mtake\u001b[1;34m(self, indices, axis, is_copy, **kwargs)\u001b[0m\n\u001b[0;32m   3613\u001b[0m         \u001b[0mself\u001b[0m\u001b[1;33m.\u001b[0m\u001b[0m_consolidate_inplace\u001b[0m\u001b[1;33m(\u001b[0m\u001b[1;33m)\u001b[0m\u001b[1;33m\u001b[0m\u001b[1;33m\u001b[0m\u001b[0m\n\u001b[0;32m   3614\u001b[0m \u001b[1;33m\u001b[0m\u001b[0m\n\u001b[1;32m-> 3615\u001b[1;33m         new_data = self._mgr.take(\n\u001b[0m\u001b[0;32m   3616\u001b[0m             \u001b[0mindices\u001b[0m\u001b[1;33m,\u001b[0m \u001b[0maxis\u001b[0m\u001b[1;33m=\u001b[0m\u001b[0mself\u001b[0m\u001b[1;33m.\u001b[0m\u001b[0m_get_block_manager_axis\u001b[0m\u001b[1;33m(\u001b[0m\u001b[0maxis\u001b[0m\u001b[1;33m)\u001b[0m\u001b[1;33m,\u001b[0m \u001b[0mverify\u001b[0m\u001b[1;33m=\u001b[0m\u001b[1;32mTrue\u001b[0m\u001b[1;33m\u001b[0m\u001b[1;33m\u001b[0m\u001b[0m\n\u001b[0;32m   3617\u001b[0m         )\n",
      "\u001b[1;32mC:\\ProgramData\\Anaconda3\\lib\\site-packages\\pandas\\core\\internals\\managers.py\u001b[0m in \u001b[0;36mtake\u001b[1;34m(self, indexer, axis, verify)\u001b[0m\n\u001b[0;32m    863\u001b[0m \u001b[1;33m\u001b[0m\u001b[0m\n\u001b[0;32m    864\u001b[0m         \u001b[0mnew_labels\u001b[0m \u001b[1;33m=\u001b[0m \u001b[0mself\u001b[0m\u001b[1;33m.\u001b[0m\u001b[0maxes\u001b[0m\u001b[1;33m[\u001b[0m\u001b[0maxis\u001b[0m\u001b[1;33m]\u001b[0m\u001b[1;33m.\u001b[0m\u001b[0mtake\u001b[0m\u001b[1;33m(\u001b[0m\u001b[0mindexer\u001b[0m\u001b[1;33m)\u001b[0m\u001b[1;33m\u001b[0m\u001b[1;33m\u001b[0m\u001b[0m\n\u001b[1;32m--> 865\u001b[1;33m         return self.reindex_indexer(\n\u001b[0m\u001b[0;32m    866\u001b[0m             \u001b[0mnew_axis\u001b[0m\u001b[1;33m=\u001b[0m\u001b[0mnew_labels\u001b[0m\u001b[1;33m,\u001b[0m\u001b[1;33m\u001b[0m\u001b[1;33m\u001b[0m\u001b[0m\n\u001b[0;32m    867\u001b[0m             \u001b[0mindexer\u001b[0m\u001b[1;33m=\u001b[0m\u001b[0mindexer\u001b[0m\u001b[1;33m,\u001b[0m\u001b[1;33m\u001b[0m\u001b[1;33m\u001b[0m\u001b[0m\n",
      "\u001b[1;32mC:\\ProgramData\\Anaconda3\\lib\\site-packages\\pandas\\core\\internals\\managers.py\u001b[0m in \u001b[0;36mreindex_indexer\u001b[1;34m(self, new_axis, indexer, axis, fill_value, allow_dups, copy, consolidate, only_slice)\u001b[0m\n\u001b[0;32m    678\u001b[0m             )\n\u001b[0;32m    679\u001b[0m         \u001b[1;32melse\u001b[0m\u001b[1;33m:\u001b[0m\u001b[1;33m\u001b[0m\u001b[1;33m\u001b[0m\u001b[0m\n\u001b[1;32m--> 680\u001b[1;33m             new_blocks = [\n\u001b[0m\u001b[0;32m    681\u001b[0m                 blk.take_nd(\n\u001b[0;32m    682\u001b[0m                     \u001b[0mindexer\u001b[0m\u001b[1;33m,\u001b[0m\u001b[1;33m\u001b[0m\u001b[1;33m\u001b[0m\u001b[0m\n",
      "\u001b[1;32mC:\\ProgramData\\Anaconda3\\lib\\site-packages\\pandas\\core\\internals\\managers.py\u001b[0m in \u001b[0;36m<listcomp>\u001b[1;34m(.0)\u001b[0m\n\u001b[0;32m    679\u001b[0m         \u001b[1;32melse\u001b[0m\u001b[1;33m:\u001b[0m\u001b[1;33m\u001b[0m\u001b[1;33m\u001b[0m\u001b[0m\n\u001b[0;32m    680\u001b[0m             new_blocks = [\n\u001b[1;32m--> 681\u001b[1;33m                 blk.take_nd(\n\u001b[0m\u001b[0;32m    682\u001b[0m                     \u001b[0mindexer\u001b[0m\u001b[1;33m,\u001b[0m\u001b[1;33m\u001b[0m\u001b[1;33m\u001b[0m\u001b[0m\n\u001b[0;32m    683\u001b[0m                     \u001b[0maxis\u001b[0m\u001b[1;33m=\u001b[0m\u001b[1;36m1\u001b[0m\u001b[1;33m,\u001b[0m\u001b[1;33m\u001b[0m\u001b[1;33m\u001b[0m\u001b[0m\n",
      "\u001b[1;32mC:\\ProgramData\\Anaconda3\\lib\\site-packages\\pandas\\core\\internals\\blocks.py\u001b[0m in \u001b[0;36mtake_nd\u001b[1;34m(self, indexer, axis, new_mgr_locs, fill_value)\u001b[0m\n\u001b[0;32m   1142\u001b[0m             \u001b[0mallow_fill\u001b[0m \u001b[1;33m=\u001b[0m \u001b[1;32mTrue\u001b[0m\u001b[1;33m\u001b[0m\u001b[1;33m\u001b[0m\u001b[0m\n\u001b[0;32m   1143\u001b[0m \u001b[1;33m\u001b[0m\u001b[0m\n\u001b[1;32m-> 1144\u001b[1;33m         new_values = algos.take_nd(\n\u001b[0m\u001b[0;32m   1145\u001b[0m             \u001b[0mvalues\u001b[0m\u001b[1;33m,\u001b[0m \u001b[0mindexer\u001b[0m\u001b[1;33m,\u001b[0m \u001b[0maxis\u001b[0m\u001b[1;33m=\u001b[0m\u001b[0maxis\u001b[0m\u001b[1;33m,\u001b[0m \u001b[0mallow_fill\u001b[0m\u001b[1;33m=\u001b[0m\u001b[0mallow_fill\u001b[0m\u001b[1;33m,\u001b[0m \u001b[0mfill_value\u001b[0m\u001b[1;33m=\u001b[0m\u001b[0mfill_value\u001b[0m\u001b[1;33m\u001b[0m\u001b[1;33m\u001b[0m\u001b[0m\n\u001b[0;32m   1146\u001b[0m         )\n",
      "\u001b[1;32mC:\\ProgramData\\Anaconda3\\lib\\site-packages\\pandas\\core\\array_algos\\take.py\u001b[0m in \u001b[0;36mtake_nd\u001b[1;34m(arr, indexer, axis, fill_value, allow_fill)\u001b[0m\n\u001b[0;32m    106\u001b[0m \u001b[1;33m\u001b[0m\u001b[0m\n\u001b[0;32m    107\u001b[0m     \u001b[0marr\u001b[0m \u001b[1;33m=\u001b[0m \u001b[0mnp\u001b[0m\u001b[1;33m.\u001b[0m\u001b[0masarray\u001b[0m\u001b[1;33m(\u001b[0m\u001b[0marr\u001b[0m\u001b[1;33m)\u001b[0m\u001b[1;33m\u001b[0m\u001b[1;33m\u001b[0m\u001b[0m\n\u001b[1;32m--> 108\u001b[1;33m     \u001b[1;32mreturn\u001b[0m \u001b[0m_take_nd_ndarray\u001b[0m\u001b[1;33m(\u001b[0m\u001b[0marr\u001b[0m\u001b[1;33m,\u001b[0m \u001b[0mindexer\u001b[0m\u001b[1;33m,\u001b[0m \u001b[0maxis\u001b[0m\u001b[1;33m,\u001b[0m \u001b[0mfill_value\u001b[0m\u001b[1;33m,\u001b[0m \u001b[0mallow_fill\u001b[0m\u001b[1;33m)\u001b[0m\u001b[1;33m\u001b[0m\u001b[1;33m\u001b[0m\u001b[0m\n\u001b[0m\u001b[0;32m    109\u001b[0m \u001b[1;33m\u001b[0m\u001b[0m\n\u001b[0;32m    110\u001b[0m \u001b[1;33m\u001b[0m\u001b[0m\n",
      "\u001b[1;31mKeyboardInterrupt\u001b[0m: "
     ]
    }
   ],
   "source": [
    "# # For each participant show all the trials, with target, raw and reconstructed dial angles\n",
    "# # fig, axs = plt.subplots(8,7)\n",
    "\n",
    "# from sklearn.metrics import mean_squared_error\n",
    "# from sklearn.metrics import mean_absolute_error\n",
    "\n",
    "# plt.rcParams[\"figure.figsize\"] = (10,3)\n",
    "\n",
    "# plt.figure(1)\n",
    "\n",
    "# trials = pd.unique(df_all['trial'])\n",
    "# trials = np.sort(trials)\n",
    "\n",
    "# df_metrics = None \n",
    "\n",
    "# startTime = time.time()\n",
    "\n",
    "# for ptx, pt in enumerate(participants[index]):\n",
    "#     print('Participant: ', ptx, ' / ', len(participants))\n",
    "    \n",
    "#     slopes = []\n",
    "#     intercepts = []\n",
    "#     MSE = []\n",
    "#     MAE = []\n",
    "#     trialz = []\n",
    "    \n",
    "#     for tr in trials:\n",
    "        \n",
    "#         # Data collection part \n",
    "#         mask = (df_all['PtxID'] == pt) &  (df_all['group'] == 'Reward') &  (df_all['trial'] == tr)\n",
    "#         dial = df_all[mask]['Dial_Raw'].values\n",
    "#         dialRecon = df_all[mask]['Dial_Recon'].values\n",
    "#         target = df_all[mask]['Target'].values\n",
    "        \n",
    "#         # Check data and clean up i.e. remove NaNs etc. \n",
    "#         if not dialRecon.tolist(): \n",
    "#             # print('Warning: --> Empty array')\n",
    "#             slopes.append(np.nan)\n",
    "#             intercepts.append(np.nan)\n",
    "#             MSE.append(np.nan)\n",
    "#             MAE.append(np.nan)\n",
    "\n",
    "#         else:\n",
    "#             # dialRecon = dialRecon[~numpy.isnan(dialRecon)]\n",
    "#             # target = target[~numpy.isnan(target)]\n",
    "#             # dialRecon = dialRecon\n",
    "#             # target = target\n",
    "            \n",
    "#             # MSE computation \n",
    "#             # mze = mean_squared_error(target, dialRecon)\n",
    "#             try: \n",
    "#                 mze = mean_squared_error(target, dial)\n",
    "#                 MSE.append(mze)\n",
    "#             except: \n",
    "#                 MSE.append(np.nan)\n",
    "                \n",
    "#             try: \n",
    "#                 mae = mean_absolute_error(target, dial)\n",
    "#                 MAE.append(mae)\n",
    "#             except: \n",
    "#                 MAE.append(np.nan)\n",
    "            \n",
    "            \n",
    "#             # For FitLine function replace inf and nan values with the data set mean for that trial \n",
    "#             for idx, d in enumerate(dial2_detrend):\n",
    "#                 if math.isnan(d) or math.isinf(d):\n",
    "#                     dial2_detrend[idx] = np.nanmean(dial2_detrend)\n",
    "                    \n",
    "#             for idx, d in enumerate(target_detrend):\n",
    "#                 if math.isnan(d) or math.isinf(d):\n",
    "#                     target_detrend[idx] = np.nanmean(target_detrend)\n",
    "                \n",
    "#             # Detrend data by subtracting 90 degrees, i.e. the bias in the data? <--- check why exactly this is ???? \n",
    "#             dial2_detrend = dial - 90\n",
    "#             target_detrend = target - 90\n",
    "#             try:\n",
    "#                 slope, intercept = FitLine(dial2_detrend, target_detrend, 4, showPlot)\n",
    "#                 slopes.append(slope)\n",
    "#                 intercepts.append(intercept)\n",
    "#             except:\n",
    "#                 slopes.append(np.nan)\n",
    "#                 intercepts.append(np.nan)\n",
    "            \n",
    "                        \n",
    "#             # Plot regression line through data \n",
    "#             showPlot = True\n",
    "#             if showPlot:\n",
    "#                 plt.subplot(8, 7,tr+1)\n",
    "                \n",
    "#                 txt = plt.text(-60, 60, 'MSE:        '  + str(np.round(mze,1)) + '\\nSlope:      ' + str(np.round(slope,2)) + '\\nIntercept: ' + str(np.round(intercept,1)), fontsize=3, color=\"Blue\")\n",
    "#                 txt.set_bbox(dict(facecolor='white', alpha=0.5, edgecolor='red'))\n",
    "#                 plt.xticks(fontsize = 3)\n",
    "#                 plt.yticks(fontsize = 3)\n",
    "\n",
    "#                 # Show y label on first plot\n",
    "#                 if tr == 0:\n",
    "#                     plt.ylabel('Reconstructed Dial', fontsize = 10)\n",
    "#                     plt.legend(['Data','Fitted'], loc='lower right')\n",
    "#                 # Show x label on middle plot\n",
    "#                 if tr == 2:\n",
    "#                     plt.xlabel('Target', fontsize = 10)\n",
    "                \n",
    "#             # plt.tight_layout()\n",
    "        \n",
    "#         # Extract group automatically \n",
    "#         gmask = (df_all['PtxID'] == pt)\n",
    "#         grp = df_all[gmask]['group']\n",
    "#         group = grp.values[0]\n",
    "#         trialz.append(tr)\n",
    "    \n",
    "#     # Data storage part \n",
    "#     dat_metrics = {'Trial' : trialz,\n",
    "#                    'Slope' : slopes,\n",
    "#                    'Intercept' : intercepts,\n",
    "#                    'MeanSqErr' : MSE,\n",
    "#                    'MeanAbsErr' : MAE,}\n",
    "    \n",
    "#     tmpDf = pd.DataFrame(dat_metrics)\n",
    "#     tmpDf.insert(0, 'PtxID', pt)\n",
    "#     tmpDf.insert(1, 'Group', group)\n",
    "    \n",
    "#     if df_metrics is None:\n",
    "#         df_metrics = tmpDf\n",
    "#     else:\n",
    "#         df_metrics = pd.concat((df_metrics, tmpDf))\n",
    "        \n",
    "#     plt.savefig(path + \"/Figures/\" + 'ptx_' + str(ptx) + '_' + str(np.round(time.time())) + \"Dial_Reconstruction.png\", dpi = 1200)\n",
    "#     plt.show()\n",
    "\n",
    "# print('Processing time: ', np.round((time.time() - startTime)/60), ' minutes!')\n",
    "    \n",
    "# df_metrics"
   ]
  },
  {
   "cell_type": "code",
   "execution_count": null,
   "metadata": {},
   "outputs": [],
   "source": []
  },
  {
   "cell_type": "code",
   "execution_count": null,
   "metadata": {},
   "outputs": [],
   "source": [
    "df_metrics = df_metrics.reset_index()\n",
    "sns.lineplot(x = 'Trial', y = 'MeanSqErr', data = df_metrics)"
   ]
  },
  {
   "cell_type": "code",
   "execution_count": 18,
   "metadata": {},
   "outputs": [],
   "source": [
    "df_metrics.to_pickle(str(np.round(time.time())) + '_DF_Slope_Metrics.pkl')"
   ]
  },
  {
   "cell_type": "markdown",
   "metadata": {},
   "source": [
    "#### New cuto_pickletting reconstruction method using the original raw dial data as input;"
   ]
  },
  {
   "cell_type": "markdown",
   "metadata": {},
   "source": [
    "#### Detrend and -90 provide different intercepts???"
   ]
  },
  {
   "cell_type": "markdown",
   "metadata": {},
   "source": [
    "##### Extract example trial data from one of the participatns"
   ]
  },
  {
   "cell_type": "code",
   "execution_count": 23,
   "metadata": {},
   "outputs": [],
   "source": [
    "df_metrics.reset_index(inplace=True)"
   ]
  },
  {
   "cell_type": "code",
   "execution_count": 24,
   "metadata": {},
   "outputs": [
    {
     "name": "stderr",
     "output_type": "stream",
     "text": [
      "C:\\ProgramData\\Anaconda3\\lib\\site-packages\\numpy\\lib\\nanfunctions.py:1374: RuntimeWarning: All-NaN slice encountered\n",
      "  r, k = function_base._ureduce(\n",
      "C:\\ProgramData\\Anaconda3\\lib\\site-packages\\numpy\\lib\\nanfunctions.py:1374: RuntimeWarning: All-NaN slice encountered\n",
      "  r, k = function_base._ureduce(\n"
     ]
    },
    {
     "data": {
      "text/plain": [
       "<AxesSubplot:xlabel='Trial'>"
      ]
     },
     "execution_count": 24,
     "metadata": {},
     "output_type": "execute_result"
    },
    {
     "data": {
      "image/png": "[encoded data removed]",
      "text/plain": [
       "<Figure size 720x216 with 1 Axes>"
      ]
     },
     "metadata": {
      "needs_background": "light"
     },
     "output_type": "display_data"
    }
   ],
   "source": [
    "sns.lineplot(x = 'Trial', y = 'MeanAbsErr', hue = 'Group', data=df_metrics)"
   ]
  },
  {
   "cell_type": "code",
   "execution_count": null,
   "metadata": {},
   "outputs": [],
   "source": []
  },
  {
   "cell_type": "code",
   "execution_count": null,
   "metadata": {},
   "outputs": [],
   "source": []
  },
  {
   "cell_type": "code",
   "execution_count": 19,
   "metadata": {},
   "outputs": [
    {
     "ename": "NameError",
     "evalue": "name 'FitCurve' is not defined",
     "output_type": "error",
     "traceback": [
      "\u001b[1;31m---------------------------------------------------------------------------\u001b[0m",
      "\u001b[1;31mNameError\u001b[0m                                 Traceback (most recent call last)",
      "\u001b[1;32m~\\AppData\\Local\\Temp/ipykernel_9220/756772685.py\u001b[0m in \u001b[0;36m<module>\u001b[1;34m\u001b[0m\n\u001b[0;32m     11\u001b[0m \u001b[1;33m\u001b[0m\u001b[0m\n\u001b[0;32m     12\u001b[0m \u001b[0mplt\u001b[0m\u001b[1;33m.\u001b[0m\u001b[0mfigure\u001b[0m\u001b[1;33m(\u001b[0m\u001b[1;36m1\u001b[0m\u001b[1;33m)\u001b[0m\u001b[1;33m\u001b[0m\u001b[1;33m\u001b[0m\u001b[0m\n\u001b[1;32m---> 13\u001b[1;33m \u001b[0mFitCurve\u001b[0m\u001b[1;33m(\u001b[0m\u001b[0mdial_raw\u001b[0m\u001b[1;33m[\u001b[0m\u001b[1;36m50\u001b[0m\u001b[1;33m:\u001b[0m\u001b[1;36m250\u001b[0m\u001b[1;33m]\u001b[0m\u001b[1;33m,\u001b[0m \u001b[0mtarget\u001b[0m\u001b[1;33m[\u001b[0m\u001b[1;36m50\u001b[0m\u001b[1;33m:\u001b[0m\u001b[1;36m250\u001b[0m\u001b[1;33m]\u001b[0m\u001b[1;33m,\u001b[0m \u001b[1;36m5\u001b[0m\u001b[1;33m)\u001b[0m\u001b[1;33m\u001b[0m\u001b[1;33m\u001b[0m\u001b[0m\n\u001b[0m\u001b[0;32m     14\u001b[0m \u001b[1;33m\u001b[0m\u001b[0m\n\u001b[0;32m     15\u001b[0m \u001b[1;33m\u001b[0m\u001b[0m\n",
      "\u001b[1;31mNameError\u001b[0m: name 'FitCurve' is not defined"
     ]
    },
    {
     "data": {
      "text/plain": [
       "<Figure size 720x216 with 0 Axes>"
      ]
     },
     "metadata": {},
     "output_type": "display_data"
    }
   ],
   "source": [
    "ptxes = pd.unique(df_all['PtxID'])\n",
    "mask = (df_all['PtxID'] == ptxes[1]) &  (df_all['group'] == 'Reward') &  (df_all['trial'] == 6)\n",
    "dial_raw0 = df_all[mask]['Dial_Raw'].values\n",
    "dial_raw = dial_raw0[~numpy.isnan(dial_raw0)]\n",
    "\n",
    "targ = df_all[mask]['Target'].values\n",
    "target = targ[~numpy.isnan(targ)]\n",
    "\n",
    "dial = df_all[mask]['Dial_Recon'].values\n",
    "dial2 = dial[~numpy.isnan(dial)]\n",
    "\n",
    "plt.figure(1)\n",
    "FitCurve(dial_raw[50:250], target[50:250], 5)\n",
    "\n",
    "\n",
    "# fig, ax = plt.subplots(1, 3, figsize=(10,7))\n",
    "fig, ax = plt.subplots(1, 2, figsize=(15,5))\n",
    "fig.tight_layout()\n",
    "\n",
    "plt.subplot(121)\n",
    "ax[0].plot(target, color = 'k', linewidth=5)\n",
    "ax[0].plot(dial_raw, 'r--', linewidth=3)\n",
    "ax[0].plot(dial2, color = 'g')\n",
    "plt.ylabel('Rotation (Degree)')\n",
    "plt.xlabel('Samples')\n",
    "plt.legend(['Target','Raw Dial','Dial Recon'])\n",
    "plt.tight_layout()\n",
    "# plt.ylim([0, 180])\n",
    "\n",
    "# dial2_detrend = signal.detrend(dial2)\n",
    "# target_detrend = signal.detrend(target)\n",
    "dial2_detrend = dial2 - 90\n",
    "target_detrend = target - 90\n",
    "\n",
    "plt.subplot(122)\n",
    "# ax[1].plot(target, dial2, 'bo')\n",
    "showPlot = True\n",
    "slope, intercept = FitLine(dial2_detrend, target_detrend, 4, showPlot)\n",
    "plt.text(-50, 75, 'Slope:      ' + str(np.round(slope,2)) + '\\nIntercept: ' + str(np.round(intercept,2)))\n",
    "plt.plot([0,0],[np.max(dial2_detrend), np.max(dial2_detrend)],'k--')\n",
    "plt.xlabel('Target (Degree)')\n",
    "plt.ylabel('Dial (Degree)')\n",
    "plt.tight_layout()\n",
    "\n",
    "plt.savefig(path + \"/Figures/\" + \"RegressionLine_\" + str(np.round(time.time())) + \"_.png\", dpi=600)\n",
    "plt.show()"
   ]
  },
  {
   "cell_type": "code",
   "execution_count": null,
   "metadata": {},
   "outputs": [],
   "source": []
  },
  {
   "cell_type": "code",
   "execution_count": null,
   "metadata": {},
   "outputs": [],
   "source": []
  },
  {
   "cell_type": "code",
   "execution_count": null,
   "metadata": {},
   "outputs": [],
   "source": []
  },
  {
   "cell_type": "code",
   "execution_count": null,
   "metadata": {},
   "outputs": [],
   "source": []
  },
  {
   "cell_type": "code",
   "execution_count": null,
   "metadata": {},
   "outputs": [],
   "source": []
  },
  {
   "cell_type": "code",
   "execution_count": null,
   "metadata": {},
   "outputs": [],
   "source": []
  },
  {
   "cell_type": "code",
   "execution_count": null,
   "metadata": {},
   "outputs": [],
   "source": []
  },
  {
   "cell_type": "code",
   "execution_count": null,
   "metadata": {},
   "outputs": [],
   "source": []
  },
  {
   "cell_type": "code",
   "execution_count": null,
   "metadata": {},
   "outputs": [],
   "source": []
  },
  {
   "cell_type": "code",
   "execution_count": null,
   "metadata": {},
   "outputs": [],
   "source": []
  },
  {
   "cell_type": "code",
   "execution_count": null,
   "metadata": {},
   "outputs": [],
   "source": []
  },
  {
   "cell_type": "code",
   "execution_count": null,
   "metadata": {},
   "outputs": [],
   "source": []
  },
  {
   "cell_type": "code",
   "execution_count": null,
   "metadata": {},
   "outputs": [],
   "source": []
  },
  {
   "cell_type": "code",
   "execution_count": null,
   "metadata": {},
   "outputs": [],
   "source": []
  },
  {
   "cell_type": "markdown",
   "metadata": {
    "tags": []
   },
   "source": [
    "##### Method 1 (doesn't work so well, i.e. many data points are ignored)"
   ]
  },
  {
   "cell_type": "code",
   "execution_count": 20,
   "metadata": {},
   "outputs": [
    {
     "data": {
      "image/png": "[encoded data removed]",
      "text/plain": [
       "<Figure size 720x216 with 1 Axes>"
      ]
     },
     "metadata": {
      "needs_background": "light"
     },
     "output_type": "display_data"
    }
   ],
   "source": [
    "import numpy as np\n",
    "from scipy.optimize import leastsq\n",
    "import pylab as plt\n",
    "\n",
    "N = len(dial2) #1000 # number of data points\n",
    "t = np.linspace(0, 4*np.pi, N)\n",
    "f = 1.15247 # Optional!! Advised not to use\n",
    "data = dial2 #3.0*np.sin(f*t+0.001) + 0.5 + np.random.randn(N) # create artificial data with noise\n",
    "\n",
    "guess_mean = np.mean(data)\n",
    "guess_std = 3*np.std(data)/(2**0.5)/(2**0.5)\n",
    "guess_phase = 0.01\n",
    "guess_freq = 2.35\n",
    "guess_amp = 200\n",
    "\n",
    "# Compute a first estimate. This might already be good enough, which I doubt \n",
    "data_first_guess = guess_std*np.sin(t+guess_phase) + guess_mean\n",
    "\n",
    "# Define the function to optimize, in this case, to minimize the difference\n",
    "# between the actual dial angle and the \"guessed\" parameters\n",
    "optimize_func = lambda x: x[0]*np.sin(x[1]*t+x[2]) + x[3] - data\n",
    "est_amp, est_freq, est_phase, est_mean = leastsq(optimize_func, [guess_amp, guess_freq, guess_phase, guess_mean])[0]\n",
    "\n",
    "# Recreate the fitted curve using the optimized parameters\n",
    "data_fit = est_amp*np.sin(est_freq*t+est_phase) + est_mean\n",
    "\n",
    "# Recreate the fitted curve using the optimized parameters\n",
    "fine_t = np.arange(0,max(t),0.1)\n",
    "data_fit = est_amp*np.sin(est_freq*fine_t+est_phase)+est_mean\n",
    "\n",
    "plt.plot(t, target, 'k-',linewidth=5)\n",
    "plt.plot(t, data, 'r--',linewidth=2)\n",
    "# plt.plot(t, data_first_guess, label='first guess')\n",
    "plt.plot(fine_t, data_fit, label='Reconstrcuted',color='g')\n",
    "plt.legend(['Target','Raw','Sine Recon'])\n",
    "\n",
    "plt.savefig(path + \"/Figures/\" + \"SineWave_Recon_\" + str(np.round(time.time())) + \"_.png\", dpi=600)\n",
    "\n",
    "plt.show()"
   ]
  },
  {
   "cell_type": "markdown",
   "metadata": {},
   "source": [
    "# Old Code"
   ]
  },
  {
   "cell_type": "code",
   "execution_count": null,
   "metadata": {
    "tags": []
   },
   "outputs": [],
   "source": [
    "# plt.subplot(132)\n",
    "# plt.tight_layout()\n",
    "# ax[1].plot(dial2, dial_raw, 'k-', linewidth=3)\n",
    "# ax[1].plot(dial2, dial_raw, 'ro')\n",
    "# plt.xlim([0, 180])\n",
    "# plt.ylim([0, 180])\n",
    "# plt.xlabel('Dial Recon (Degree)')\n",
    "# plt.ylabel('Raw Dial (Degree)')"
   ]
  },
  {
   "cell_type": "code",
   "execution_count": null,
   "metadata": {
    "tags": []
   },
   "outputs": [],
   "source": [
    "# # Show example plot of raw dial data\n",
    "# print('Size of t: ', np.shape(t))\n",
    "# print('Size of dial: ', np.shape(dial))\n",
    "\n",
    "# # dial = dial\n",
    "# # dial2 = ResizeArray(dial, 1000)\n",
    "# # dial2 = [(i * np.nan) for i in dial if i == np.nan]\n",
    "# dial2 = dial[~numpy.isnan(dial)]\n",
    "# print('Size of dial after resize: ', np.shape(dial2))\n",
    "\n",
    "# plt.plot(t)\n",
    "# plt.plot(dial,'r-o')\n",
    "# plt.plot(dial2,'g-o')"
   ]
  },
  {
   "cell_type": "code",
   "execution_count": null,
   "metadata": {
    "tags": []
   },
   "outputs": [],
   "source": [
    "# # Test to read more data\n",
    "# # path = \"H:/Project/SubEscape/SubEscape_Data_Analysis/Data_Subset/\"\n",
    "\n",
    "# folders = os.listdir(path)\n",
    "# folderNames = unique(folders)\n",
    "# # df = None \n",
    "# # df_all = None\n",
    "\n",
    "# folderIndex = 160 # Put this into a for loop to go through all the files for the dial \n",
    "# f = folderNames[folderIndex]\n",
    "\n",
    "# folderWords = str.split(f,'_')\n",
    "\n",
    "# ptxIDs = folderWords[1]\n",
    "# age = folderWords[2]\n",
    "# sex = folderWords[3]\n",
    "# hand = folderWords[4]\n",
    "# group = folderWords[5]\n",
    "# trial = folderWords[9]\n",
    "\n",
    "# tmpDF = pd.read_json(path + f, orient='index')\n",
    "\n",
    "# # Extract pose data from each of the metrics \n",
    "# dial = []\n",
    "# target = []\n",
    "# score = []\n",
    "\n",
    "# # tmpDF.loc['dialData'].values[0][i]\n",
    "# for i in tmpDF.loc['dialData'].values[0]: \n",
    "#     metricParts = str.split(i,';')\n",
    "#     dial.append(float(metricParts[0]))\n",
    "#     target.append(float(metricParts[1]))\n",
    "#     score.append(float(metricParts[2]))\n",
    "\n",
    "# data = {'Dial' : dial,\n",
    "#        'Target' : target,\n",
    "#        'Score' : score,}\n",
    "\n",
    "# tmpDF2 = pd.DataFrame(data)\n",
    "# tmpDF2.insert(0,'PtxID',ptxIDs)\n",
    "# tmpDF2.insert(1,'trial',trial)\n",
    "# tmpDF2.insert(2,'group',group)\n",
    "# tmpDF2.insert(3,'hand',hand)\n",
    "# tmpDF2.insert(4,'age',age)\n",
    "# tmpDF2.insert(5,'sex',sex)\n",
    "\n",
    "# tmpDF2"
   ]
  },
  {
   "cell_type": "code",
   "execution_count": null,
   "metadata": {
    "tags": []
   },
   "outputs": [],
   "source": [
    "# def ReadFiles(path, files):\n",
    "#     # Define data frame variable\n",
    "#     df = None \n",
    "#     startTime = time.time()\n",
    "  \n",
    "#     print('Number of files: ', len(files))\n",
    "    \n",
    "#     # Load each file into the data frame \n",
    "#     for i in range(len(files)): \n",
    "    \n",
    "#         if \".json\" in files[i] and \"Phase\" in files[i] and \"QNumber\" not in files[i]:    \n",
    "#         # if \"txt.json\" in files[i] and \"Phase\" in files[i]:\n",
    "#               # print(files[i])\n",
    "\n",
    "#             # elapsedTime = time.time() - startTime\n",
    "#             # print('Time passed: ', np.round(elapsedTime), '\\t sec \\r')\n",
    "\n",
    "#             # Extract file name info and add to the dataframe \n",
    "#             fileWords = files[i].split(\"_\")\n",
    "\n",
    "#             # Extract phase \n",
    "#             idx = fileWords.index(\"Phase\")\n",
    "#             phase = fileWords[idx + 1]\n",
    "\n",
    "#             # Extract user ID \n",
    "#             idx = fileWords.index(\"trial\")\n",
    "#             userID = fileWords[idx - 1]\n",
    "\n",
    "#             # Add trial number to data frame \n",
    "#             try:\n",
    "# #                 print('Path and File: ', [path + '/' + files[i]])\n",
    "#                 tmpDF = pd.read_json(path + '/' + files[i])\n",
    "#                 tmpDF.insert(0, \"Phase\", phase, True)\n",
    "#                 tmpDF.insert(0, \"UserID\", userID, True)\n",
    "\n",
    "#                 if df is None:\n",
    "#                     df = tmpDF\n",
    "#                 else:\n",
    "#                     df = pd.concat((df, tmpDF))\n",
    "#             except Exception as e:\n",
    "#                 print('My_Err: ', e)\n",
    "#     return df"
   ]
  },
  {
   "cell_type": "code",
   "execution_count": null,
   "metadata": {
    "tags": []
   },
   "outputs": [],
   "source": [
    "# frame = { 'headPose': dfs.loc['headPose'].values[0], \n",
    "#          'handPose': dfs.loc['headPose'].values[0],\n",
    "#         'fingData': dfs.loc['fingData'].values[0],\n",
    "#         'vfingData': dfs.loc['vfingData'].values[0],\n",
    "#         'dialData': dfs.loc['dialData'].values[0],\n",
    "#         'trialTime': dfs.loc['trialTime'].values[0],}\n",
    "  \n",
    "# df_all = pd.DataFrame(frame)\n",
    "\n",
    "# df_all"
   ]
  },
  {
   "cell_type": "code",
   "execution_count": null,
   "metadata": {
    "tags": []
   },
   "outputs": [],
   "source": [
    "# # Extract pose data from each of the metrics \n",
    "# frame = []\n",
    "# joint = []\n",
    "# xPos = []\n",
    "# yPos = []\n",
    "# zPos = []\n",
    "# rot = []\n",
    "# for i in np.arange(len(dfs.loc['fingData'].values[0])):\n",
    "#     metricParts = str.split(dfs.loc['fingData'].values[0][i],';')\n",
    "#     frame.append(metricParts[0])\n",
    "#     joint.append(metricParts[1])\n",
    "#     xPos.append(metricParts[2])\n",
    "#     yPos.append(metricParts[3])\n",
    "#     zPos.append(metricParts[4])\n",
    "#     rot.append(metricParts[5])\n",
    "\n",
    "# data = {'Fame' : frame,\n",
    "#        'Joint' : joint,\n",
    "#        'xPos' : xPos,\n",
    "#        'yPos' : yPos,\n",
    "#        'zPos' : zPos,\n",
    "#        'rot' : rot,}\n",
    "\n",
    "# df_allTest = pd.DataFrame(data)\n",
    "\n",
    "# df_allTest"
   ]
  },
  {
   "cell_type": "code",
   "execution_count": null,
   "metadata": {
    "tags": []
   },
   "outputs": [],
   "source": [
    "# import numpy as np\n",
    "# import matplotlib.pyplot as plt\n",
    "# import pandas as pd\n",
    "\n",
    "# f =open(\"1610062712_Qm559862102iI716_44_M_R__NoReward_1018_165_4.txt\")\n",
    "\n",
    "# # convert the file object to a list so one can work on it \n",
    "# mylist = [line.rstrip('\\n') for line in f] \n",
    "\n",
    "# # convert the list to a long string \n",
    "# d = str()\n",
    "# for i in range(len(mylist)):\n",
    "#     d += mylist[i]\n",
    "    \n",
    "# numVars = 8\n",
    "# # Separate the string into the different variables (;)\n",
    "# variables = d.split(\";\")\n",
    "\n",
    "\n",
    "# # This part is for loading the fingers\n",
    "# numFingers = 16\n",
    "# frameRate = 60.24096\n",
    "# trialDuration = 15\n",
    "# numAxis = 4\n",
    "# fingerNames = ['tmb1','tmb2','tmb3',\n",
    "#                'idx1','idx2','idx3',\n",
    "#                'mid1','mid2','mid3',\n",
    "#                'rng1','rng2','rng3',\n",
    "#                'pnk1','pnk2','pnk3', 'wrist']\n",
    "\n",
    "# allFingDF = None \n",
    "# allData = None \n",
    "\n",
    "# fingerPoses = variables[3].split(\":\") # Separate the different frames (:)\n",
    "\n",
    "# # Loopify this part later on to go through all the frames and fingers ...\n",
    "# for fx in range(len(fingerPoses)):\n",
    "    \n",
    "#     if len(fingerPoses[fx]) > 470:\n",
    "        \n",
    "#         indifings = fingerPoses[fx].split(\"|\")\n",
    "#         fings = str().join(indifings).split(\",\")\n",
    "\n",
    "#         fingX = 0.0\n",
    "#         fingY = 0.0\n",
    "#         fingZ = 0.0\n",
    "#         fingR = 0.0\n",
    "\n",
    "#         j = 0\n",
    "#         fc = 0\n",
    "#         for i in range(len(fings)-1): # Go through each finger (16) and each axis (4) = 64 data points per frame \n",
    "            \n",
    "#             if j == 0:\n",
    "#                 fingX = float(fings[i+1])\n",
    "#             elif j == 1:\n",
    "#                 fingY = float(fings[i+1])\n",
    "#             elif j == 2:\n",
    "#                 fingZ = float(fings[i+1])\n",
    "#             elif j == 3:\n",
    "#                 fingR = float(fings[i+1])\n",
    "            \n",
    "            \n",
    "#             j = j+1\n",
    "#             if j > 3:\n",
    "#                 tmpResampled = [[fingX,fingY,fingZ,fingR]]\n",
    "#                 tmpRes = pd.DataFrame(tmpResampled,columns=['Fx','Fy','Fz','Fr'])\n",
    "#                 tmpRes.insert(0, \"Participant_ID\", variables[0] , True) # Add participant id to dataframe\n",
    "#                 tmpRes.insert(0, \"Trial\", variables[2] , True) # Add trial number to dataframe\n",
    "                \n",
    "#                 try:\n",
    "#                     fingerNameArr = fingerNames[fc]\n",
    "#                     tmpRes.insert(0, \"Digit\", fingerNameArr, True) # Add digit name to dataframe\n",
    "#                 except Exception as e: \n",
    "#                     print(e)\n",
    "                    \n",
    "#                 tmpRes.insert(0, \"Frame\", fx, True)\n",
    "                \n",
    "#                 if allFingDF is None: \n",
    "#                     allFingDF = tmpRes\n",
    "#                 else:\n",
    "#                     allFingDF = pd.concat((allFingDF, tmpRes))\n",
    "                    \n",
    "#                 j = 0\n",
    "#                 fc = fc+1\n",
    "\n",
    "\n",
    "# # Plot\n",
    "# xval = np.arange(len(allFingDF[allFingDF[\"Digit\"] == \"tmb1\"].Fx))\n",
    "# trialTime = len(allFingDF[allFingDF[\"Digit\"] == \"tmb1\"].Fx)/frameRate\n",
    "# timeVals = np.linspace(0.0,trialTime,len(xval))\n",
    "\n",
    "# plt.plot(timeVals,allFingDF[allFingDF[\"Digit\"] == \"idx1\"].Fr,'r')\n",
    "# plt.plot(timeVals,allFingDF[allFingDF[\"Digit\"] == \"idx2\"].Fr,'g')\n",
    "# plt.plot(timeVals,allFingDF[allFingDF[\"Digit\"] == \"idx3\"].Fr,'b')\n",
    "# plt.legend(['Dist','Midial','Prox'])\n",
    "\n",
    "# plt.xlabel(\"Time / s\")\n",
    "# plt.ylabel(\"Joint Bend Angle / degrees\")\n",
    "# plt.title(\"Proximal Index Joint\")\n",
    "# plt.ylim([250.0, 360.0])\n",
    "\n",
    "\n",
    "\n",
    "# # This part is for loading everything else\n",
    "# allData = None \n",
    "\n",
    "# armPoses = variables[4].split(\":\") # Separate the different frames (:)\n",
    "# headPoses = variables[5].split(\":\") # Separate the different frames (:)\n",
    "# dialInfo = variables[6].split(\":\") # Separate the different frames (:)\n",
    "\n",
    "# armX, armY, armZ, armRx, armRy, armRz = 0.0, 0.0, 0.0, 0.0, 0.0, 0.0\n",
    "# headX, headY, headZ, headRx, headRy, headRz = 0.0, 0.0, 0.0, 0.0, 0.0, 0.0\n",
    "# dialAngle, targetAngle, Score = 0.0, 0.0, 0.0\n",
    "\n",
    "# # Loopify this part later on to go through all the frames and fingers ...\n",
    "# for fx in range(len(armPoses)):\n",
    "    \n",
    "#     if len(armPoses[fx]) > 40:\n",
    "        \n",
    "#         # Other data start -------------------------\n",
    "#         arms = str().join(armPoses[fx]).split(\",\")\n",
    "#         heads = str().join(headPoses[fx]).split(\",\")\n",
    "#         dial = str().join(dialInfo[fx]).split(\",\")\n",
    "        \n",
    "#         try:\n",
    "#             armX = arms[1]\n",
    "#             armY = arms[2]\n",
    "#             armZ = arms[3]\n",
    "#             armRx = arms[4]\n",
    "#             armRy = arms[5]\n",
    "#             armRz = arms[6]\n",
    "            \n",
    "#             headX = heads[1]\n",
    "#             headY = heads[2]\n",
    "#             headZ = heads[3]\n",
    "#             headRx = heads[4]\n",
    "#             headRy = heads[5]\n",
    "#             headRz = heads[6]\n",
    "            \n",
    "#             dialAngle = dial[1]\n",
    "#             targetAngle = dial[2]\n",
    "#             Score = dial[3]\n",
    "            \n",
    "#             tmpAccumulated = [[armX,armY,armZ,armRx,armRy,armRz, \n",
    "#                                headX,headY,headZ,headRx,headRy,headRz,\n",
    "#                                dialAngle,targetAngle,Score]]\n",
    "#             tmpDats = pd.DataFrame(tmpAccumulated,columns=['armFx','armFy','armFz','armFRx','armFRy','armFRz',\n",
    "#                                                            'headFx','headFy','headFz','headFRx','headFRy','headFRz',\n",
    "#                                                            'DialAngle','TargetAngle','Score'])\n",
    "            \n",
    "#             tmpDats.insert(0, \"Participant_ID\", variables[0] , True) # Add participant id to dataframe\n",
    "#             tmpDats.insert(0, \"Trial\", variables[2] , True) # Add trial number to dataframe\n",
    "#             tmpDats.insert(0, \"Frame\", fx, True)\n",
    "\n",
    "#             if allFingDF is None: \n",
    "#                 allData = tmpDats\n",
    "#             else:\n",
    "#                 allData = pd.concat((allData, tmpDats))\n",
    "        \n",
    "#         except Exception as e:\n",
    "#             print(\"Something went wrong: \", e)\n",
    "#         # Other data end -------------------------\n",
    "\n",
    "# # Plot\n",
    "# xval = np.arange(len(allData.headFx))\n",
    "# trialTime = len(allData.headFx)/frameRate\n",
    "# timeVals = np.linspace(0.0,trialTime,len(xval))\n",
    "\n",
    "# plt.plot(timeVals,allData.DialAngle,'r')\n",
    "# plt.plot(timeVals,allData.TargetAngle,'g')\n",
    "# plt.plot(timeVals,allData.Score,'b')\n",
    "# plt.legend(['Dial','Target','Score'])\n",
    "# # plt.legend(['Dial','Target'])\n",
    "\n",
    "# plt.xlabel(\"Time / s\")\n",
    "# plt.ylabel(\"Dial-Target / Degrees\")\n",
    "# plt.title(\"Performance\")"
   ]
  },
  {
   "cell_type": "code",
   "execution_count": null,
   "metadata": {},
   "outputs": [],
   "source": []
  },
  {
   "cell_type": "code",
   "execution_count": null,
   "metadata": {},
   "outputs": [],
   "source": []
  },
  {
   "cell_type": "code",
   "execution_count": null,
   "metadata": {},
   "outputs": [],
   "source": []
  },
  {
   "cell_type": "code",
   "execution_count": null,
   "metadata": {},
   "outputs": [],
   "source": []
  }
 ],
 "metadata": {
  "kernelspec": {
   "display_name": "Python 3",
   "language": "python",
   "name": "python3"
  },
  "language_info": {
   "codemirror_mode": {
    "name": "ipython",
    "version": 3
   },
   "file_extension": ".py",
   "mimetype": "text/x-python",
   "name": "python",
   "nbconvert_exporter": "python",
   "pygments_lexer": "ipython3",
   "version": "3.8.5"
  }
 },
 "nbformat": 4,
 "nbformat_minor": 5
}
